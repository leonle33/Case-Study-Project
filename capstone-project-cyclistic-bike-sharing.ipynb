{
 "cells": [
  {
   "cell_type": "markdown",
   "id": "cf9f24d9",
   "metadata": {
    "papermill": {
     "duration": 0.013284,
     "end_time": "2024-06-24T18:45:27.178955",
     "exception": false,
     "start_time": "2024-06-24T18:45:27.165671",
     "status": "completed"
    },
    "tags": []
   },
   "source": [
    "# Case Study: Cyclistic Bike-sharing \n",
    "*Leon Le*\n",
    "\n",
    "*March 6th, 2024*\n",
    "\n",
    "## Introduction\n",
    "\n",
    "This is the capstone project portion for the *Google Data Analytics Professional Certificate*. The purpose of this case study is to showcase the analytical skills I have gained through this certification. In this case study I will go through the steps of the data analysis process, and analyze a dataset from Cyclistic, a bike-share company in Chicago. I will use my analysis to identify trends and provide recommendations to improve marketing strategies for Cyclistic. "
   ]
  },
  {
   "cell_type": "markdown",
   "id": "9b5c4d41",
   "metadata": {
    "papermill": {
     "duration": 0.013095,
     "end_time": "2024-06-24T18:45:27.204724",
     "exception": false,
     "start_time": "2024-06-24T18:45:27.191629",
     "status": "completed"
    },
    "tags": []
   },
   "source": [
    "## Data Analysis Process\n",
    "There are six steps that go into the data analysis phase: \n",
    "1. Ask\n",
    "2. Prepare\n",
    "3. Process\n",
    "4. Analyze \n",
    "5. Share\n",
    "6. Act\n",
    "\n",
    "In this case study, I will demonstrate each of these steps in order to solve the business task at hand. "
   ]
  },
  {
   "cell_type": "markdown",
   "id": "94ea7bf6",
   "metadata": {
    "papermill": {
     "duration": 0.012426,
     "end_time": "2024-06-24T18:45:27.229586",
     "exception": false,
     "start_time": "2024-06-24T18:45:27.217160",
     "status": "completed"
    },
    "tags": []
   },
   "source": [
    "## 1. Ask\n",
    "### Business Task: \n",
    "Cyclistic is a bike-sharing program that launched more than 5,800 bicycles and 600 docking stations in 2016 all across Chicago. Until now, their marketing strategy relied on building awareness and appealing to broad consumer segments by having flexibility on its pricing plans: \n",
    "* single-ride passes (casual rider)\n",
    "* full-day passes (casual rider)\n",
    "* annual memberships (Cyclistic member)\n",
    "\n",
    "Cyclistic's team is aware that maximizing the number of annual members will be the key to future growth. Therefore, the Cyclistic marketing analytics team wants us to analyze and find trends in their trip data. The goal of this analysis is to create a marketing strategy to maximize the number of annual memberships. We will compare differences between casual riders and annual members, and create a marketing strategy to convert casual riders to annual members. We will present our findings to the stakeholders, the Cyclistic executive and marketing team, and they will decide whether to approve the recommended marketing program. \n",
    "\n",
    "Main questions we will ask to achieve this goal are:\n",
    "* How do casual riders and clyclistic members differ? \n",
    "* Why would casual riders buy a membership? \n",
    "* How can Cyclistic use digital media to influence casual riders to become members?"
   ]
  },
  {
   "cell_type": "markdown",
   "id": "758066f5",
   "metadata": {
    "papermill": {
     "duration": 0.013075,
     "end_time": "2024-06-24T18:45:27.254969",
     "exception": false,
     "start_time": "2024-06-24T18:45:27.241894",
     "status": "completed"
    },
    "tags": []
   },
   "source": []
  },
  {
   "cell_type": "markdown",
   "id": "933358ee",
   "metadata": {
    "papermill": {
     "duration": 0.013095,
     "end_time": "2024-06-24T18:45:27.280524",
     "exception": false,
     "start_time": "2024-06-24T18:45:27.267429",
     "status": "completed"
    },
    "tags": []
   },
   "source": [
    "## 2. Prepare\n",
    "For this analysis, I will be using R to prepare and process the data for analysis. The Cyclistic trip data from the last 12 months, May 2023 - April 2024, has been made available for us to use. Each csv formatted data set is for a period of one month that logs how different customers types are using Cyclystic services. This data has been made publicly available by Motivate International Inc. under this [license](https://divvybikes.com/data-license-agreement). We will prepare and process all necessary data so it will be ready for our analysis. Once that is done, the datasets will provide us with all the necessary information we need in order to solve our business task at hand: Creating a marketing strategy to maximize the numbers of annual memberships."
   ]
  },
  {
   "cell_type": "code",
   "execution_count": 1,
   "id": "f344150e",
   "metadata": {
    "execution": {
     "iopub.execute_input": "2024-06-24T18:45:27.311458Z",
     "iopub.status.busy": "2024-06-24T18:45:27.308802Z",
     "iopub.status.idle": "2024-06-24T18:45:28.795720Z",
     "shell.execute_reply": "2024-06-24T18:45:28.792937Z"
    },
    "papermill": {
     "duration": 1.506515,
     "end_time": "2024-06-24T18:45:28.799739",
     "exception": false,
     "start_time": "2024-06-24T18:45:27.293224",
     "status": "completed"
    },
    "tags": []
   },
   "outputs": [
    {
     "name": "stderr",
     "output_type": "stream",
     "text": [
      "── \u001b[1mAttaching core tidyverse packages\u001b[22m ──────────────────────── tidyverse 2.0.0 ──\n",
      "\u001b[32m✔\u001b[39m \u001b[34mdplyr    \u001b[39m 1.1.4     \u001b[32m✔\u001b[39m \u001b[34mreadr    \u001b[39m 2.1.4\n",
      "\u001b[32m✔\u001b[39m \u001b[34mforcats  \u001b[39m 1.0.0     \u001b[32m✔\u001b[39m \u001b[34mstringr  \u001b[39m 1.5.1\n",
      "\u001b[32m✔\u001b[39m \u001b[34mggplot2  \u001b[39m 3.4.4     \u001b[32m✔\u001b[39m \u001b[34mtibble   \u001b[39m 3.2.1\n",
      "\u001b[32m✔\u001b[39m \u001b[34mlubridate\u001b[39m 1.9.3     \u001b[32m✔\u001b[39m \u001b[34mtidyr    \u001b[39m 1.3.0\n",
      "\u001b[32m✔\u001b[39m \u001b[34mpurrr    \u001b[39m 1.0.2     \n",
      "── \u001b[1mConflicts\u001b[22m ────────────────────────────────────────── tidyverse_conflicts() ──\n",
      "\u001b[31m✖\u001b[39m \u001b[34mdplyr\u001b[39m::\u001b[32mfilter()\u001b[39m masks \u001b[34mstats\u001b[39m::filter()\n",
      "\u001b[31m✖\u001b[39m \u001b[34mdplyr\u001b[39m::\u001b[32mlag()\u001b[39m    masks \u001b[34mstats\u001b[39m::lag()\n",
      "\u001b[36mℹ\u001b[39m Use the conflicted package (\u001b[3m\u001b[34m<http://conflicted.r-lib.org/>\u001b[39m\u001b[23m) to force all conflicts to become errors\n",
      "\n",
      "Attaching package: ‘janitor’\n",
      "\n",
      "\n",
      "The following objects are masked from ‘package:stats’:\n",
      "\n",
      "    chisq.test, fisher.test\n",
      "\n",
      "\n",
      "\n",
      "Attaching package: ‘scales’\n",
      "\n",
      "\n",
      "The following object is masked from ‘package:purrr’:\n",
      "\n",
      "    discard\n",
      "\n",
      "\n",
      "The following object is masked from ‘package:readr’:\n",
      "\n",
      "    col_factor\n",
      "\n",
      "\n"
     ]
    },
    {
     "data": {
      "text/html": [
       "'/kaggle/working'"
      ],
      "text/latex": [
       "'/kaggle/working'"
      ],
      "text/markdown": [
       "'/kaggle/working'"
      ],
      "text/plain": [
       "[1] \"/kaggle/working\""
      ]
     },
     "metadata": {},
     "output_type": "display_data"
    }
   ],
   "source": [
    "library(tidyverse) #for data manipulation, exploration, and visualization\n",
    "library(lubridate) #working with dates\n",
    "library(janitor) #clean data\n",
    "library(dplyr) #data manipulation\n",
    "library(ggplot2) #visuals\n",
    "library(scales)\n",
    "getwd()"
   ]
  },
  {
   "cell_type": "code",
   "execution_count": 2,
   "id": "dbb2c989",
   "metadata": {
    "execution": {
     "iopub.execute_input": "2024-06-24T18:45:28.866058Z",
     "iopub.status.busy": "2024-06-24T18:45:28.829277Z",
     "iopub.status.idle": "2024-06-24T18:47:22.376057Z",
     "shell.execute_reply": "2024-06-24T18:47:22.373777Z"
    },
    "papermill": {
     "duration": 113.566591,
     "end_time": "2024-06-24T18:47:22.380003",
     "exception": false,
     "start_time": "2024-06-24T18:45:28.813412",
     "status": "completed"
    },
    "tags": []
   },
   "outputs": [],
   "source": [
    "#importing previous 12 months of Cyclistic trip data\n",
    "dataMay23 <- read.csv(\"/kaggle/input/cyclistictripsdataset/202305-divvy-tripdata.csv\")\n",
    "dataJun23 <- read.csv(\"/kaggle/input/cyclistictripsdataset/202306-divvy-tripdata.csv\")\n",
    "dataJul23 <- read.csv(\"/kaggle/input/cyclistictripsdataset/202307-divvy-tripdata.csv\")\n",
    "dataAug23 <- read.csv(\"/kaggle/input/cyclistictripsdataset/202308-divvy-tripdata.csv\")\n",
    "dataSept23 <- read.csv(\"/kaggle/input/cyclistictripsdataset/202309-divvy-tripdata.csv\")\n",
    "dataOct23 <- read.csv(\"/kaggle/input/cyclistictripsdataset/202310-divvy-tripdata.csv\")\n",
    "dataNov23 <- read.csv(\"/kaggle/input/cyclistictripsdataset/202311-divvy-tripdata.csv\")\n",
    "dataDec23 <- read.csv(\"/kaggle/input/cyclistictripsdataset/202312-divvy-tripdata.csv\")\n",
    "dataJan24 <- read.csv(\"/kaggle/input/cyclistictripsdataset/202401-divvy-tripdata.csv\")\n",
    "dataFeb24 <- read.csv(\"/kaggle/input/cyclistictripsdataset/202402-divvy-tripdata.csv\")\n",
    "dataMar24 <- read.csv(\"/kaggle/input/cyclistictripsdataset/202403-divvy-tripdata.csv\")\n",
    "dataApr24 <- read.csv(\"/kaggle/input/cyclistictripsdataset/202404-divvy-tripdata.csv\")"
   ]
  },
  {
   "cell_type": "markdown",
   "id": "17309def",
   "metadata": {
    "papermill": {
     "duration": 0.013451,
     "end_time": "2024-06-24T18:47:22.407186",
     "exception": false,
     "start_time": "2024-06-24T18:47:22.393735",
     "status": "completed"
    },
    "tags": []
   },
   "source": [
    "## 3. Process\n",
    "First, let's combine all of our data into one big dataset and ensure that all data is in one spot. Next, there are a few columns that we will be using for our analysis like the station IDs and their longitudes and latitudes. "
   ]
  },
  {
   "cell_type": "markdown",
   "id": "eb1d637a",
   "metadata": {
    "papermill": {
     "duration": 0.01508,
     "end_time": "2024-06-24T18:47:22.436323",
     "exception": false,
     "start_time": "2024-06-24T18:47:22.421243",
     "status": "completed"
    },
    "tags": []
   },
   "source": []
  },
  {
   "cell_type": "code",
   "execution_count": 3,
   "id": "5199729d",
   "metadata": {
    "execution": {
     "iopub.execute_input": "2024-06-24T18:47:22.469845Z",
     "iopub.status.busy": "2024-06-24T18:47:22.467907Z",
     "iopub.status.idle": "2024-06-24T18:48:02.993546Z",
     "shell.execute_reply": "2024-06-24T18:48:02.991269Z"
    },
    "papermill": {
     "duration": 40.546887,
     "end_time": "2024-06-24T18:48:02.998451",
     "exception": false,
     "start_time": "2024-06-24T18:47:22.451564",
     "status": "completed"
    },
    "tags": []
   },
   "outputs": [],
   "source": [
    "#combining all data into one dataset\n",
    "allRawData <- rbind(dataMay23, dataJun23, dataJul23, dataAug23, dataSept23, dataOct23, dataNov23, dataDec23, dataJan24, dataFeb24, dataMar24, dataApr24)\n"
   ]
  },
  {
   "cell_type": "code",
   "execution_count": 4,
   "id": "35cbd326",
   "metadata": {
    "execution": {
     "iopub.execute_input": "2024-06-24T18:48:03.035457Z",
     "iopub.status.busy": "2024-06-24T18:48:03.033621Z",
     "iopub.status.idle": "2024-06-24T18:48:03.204874Z",
     "shell.execute_reply": "2024-06-24T18:48:03.201720Z"
    },
    "papermill": {
     "duration": 0.192716,
     "end_time": "2024-06-24T18:48:03.208639",
     "exception": false,
     "start_time": "2024-06-24T18:48:03.015923",
     "status": "completed"
    },
    "tags": []
   },
   "outputs": [
    {
     "data": {
      "text/html": [
       "<table class=\"dataframe\">\n",
       "<caption>A data.frame: 5738612 × 13</caption>\n",
       "<thead>\n",
       "\t<tr><th scope=col>ride_id</th><th scope=col>rideable_type</th><th scope=col>started_at</th><th scope=col>ended_at</th><th scope=col>start_station_name</th><th scope=col>start_station_id</th><th scope=col>end_station_name</th><th scope=col>end_station_id</th><th scope=col>start_lat</th><th scope=col>start_lng</th><th scope=col>end_lat</th><th scope=col>end_lng</th><th scope=col>member_casual</th></tr>\n",
       "\t<tr><th scope=col>&lt;chr&gt;</th><th scope=col>&lt;chr&gt;</th><th scope=col>&lt;chr&gt;</th><th scope=col>&lt;chr&gt;</th><th scope=col>&lt;chr&gt;</th><th scope=col>&lt;chr&gt;</th><th scope=col>&lt;chr&gt;</th><th scope=col>&lt;chr&gt;</th><th scope=col>&lt;dbl&gt;</th><th scope=col>&lt;dbl&gt;</th><th scope=col>&lt;dbl&gt;</th><th scope=col>&lt;dbl&gt;</th><th scope=col>&lt;chr&gt;</th></tr>\n",
       "</thead>\n",
       "<tbody>\n",
       "\t<tr><td>0D9FA920C3062031</td><td>electric_bike</td><td>2023-05-07 19:53:48</td><td>2023-05-07 19:58:32</td><td><span style=white-space:pre-wrap>Southport Ave &amp; Belmont Ave      </span></td><td><span style=white-space:pre-wrap>13229       </span></td><td><span style=white-space:pre-wrap>                               </span></td><td><span style=white-space:pre-wrap>            </span></td><td>41.93941</td><td>-87.66383</td><td>41.93000</td><td>-87.65000</td><td>member</td></tr>\n",
       "\t<tr><td>92485E5FB5888ACD</td><td>electric_bike</td><td>2023-05-06 18:54:08</td><td>2023-05-06 19:03:35</td><td><span style=white-space:pre-wrap>Southport Ave &amp; Belmont Ave      </span></td><td><span style=white-space:pre-wrap>13229       </span></td><td><span style=white-space:pre-wrap>                               </span></td><td><span style=white-space:pre-wrap>            </span></td><td>41.93948</td><td>-87.66385</td><td>41.94000</td><td>-87.69000</td><td>member</td></tr>\n",
       "\t<tr><td>FB144B3FC8300187</td><td>electric_bike</td><td>2023-05-21 00:40:21</td><td>2023-05-21 00:44:36</td><td><span style=white-space:pre-wrap>Halsted St &amp; 21st St             </span></td><td><span style=white-space:pre-wrap>13162       </span></td><td><span style=white-space:pre-wrap>                               </span></td><td><span style=white-space:pre-wrap>            </span></td><td>41.85379</td><td>-87.64672</td><td>41.86000</td><td>-87.65000</td><td>member</td></tr>\n",
       "\t<tr><td>DDEB93BC2CE9AA77</td><td>classic_bike </td><td>2023-05-10 16:47:01</td><td>2023-05-10 16:59:52</td><td><span style=white-space:pre-wrap>Carpenter St &amp; Huron St          </span></td><td><span style=white-space:pre-wrap>13196       </span></td><td><span style=white-space:pre-wrap>Damen Ave &amp; Cortland St        </span></td><td><span style=white-space:pre-wrap>13133       </span></td><td>41.89456</td><td>-87.65345</td><td>41.91598</td><td>-87.67733</td><td>member</td></tr>\n",
       "\t<tr><td>C07B70172FC92F59</td><td>classic_bike </td><td>2023-05-09 18:30:34</td><td>2023-05-09 18:39:28</td><td><span style=white-space:pre-wrap>Southport Ave &amp; Clark St         </span></td><td>TA1308000047</td><td><span style=white-space:pre-wrap>Southport Ave &amp; Belmont Ave    </span></td><td><span style=white-space:pre-wrap>13229       </span></td><td>41.95708</td><td>-87.66420</td><td>41.93948</td><td>-87.66375</td><td>member</td></tr>\n",
       "\t<tr><td>2BA66385DF8F815A</td><td>classic_bike </td><td>2023-05-30 15:01:21</td><td>2023-05-30 15:17:00</td><td><span style=white-space:pre-wrap>Clinton St &amp; Madison St          </span></td><td>TA1305000032</td><td><span style=white-space:pre-wrap>McClurg Ct &amp; Ohio St           </span></td><td>TA1306000029</td><td>41.88275</td><td>-87.64119</td><td>41.89259</td><td>-87.61729</td><td>member</td></tr>\n",
       "\t<tr><td>31EFCCB05F12D8EF</td><td><span style=white-space:pre-wrap>docked_bike  </span></td><td>2023-05-09 14:13:40</td><td>2023-05-09 14:47:20</td><td>DuSable Lake Shore Dr &amp; Monroe St</td><td><span style=white-space:pre-wrap>13300       </span></td><td><span style=white-space:pre-wrap>Adler Planetarium              </span></td><td><span style=white-space:pre-wrap>13431       </span></td><td>41.88096</td><td>-87.61674</td><td>41.86610</td><td>-87.60727</td><td>casual</td></tr>\n",
       "\t<tr><td>71DFF834E1D3CE0B</td><td>classic_bike </td><td>2023-05-06 16:47:22</td><td>2023-05-06 16:52:13</td><td><span style=white-space:pre-wrap>Shore Dr &amp; 55th St               </span></td><td>TA1308000009</td><td><span style=white-space:pre-wrap>Harper Ave &amp; 59th St           </span></td><td>KA1503000070</td><td>41.79521</td><td>-87.58071</td><td>41.78794</td><td>-87.58832</td><td>member</td></tr>\n",
       "\t<tr><td>2117485899B4CEA4</td><td>classic_bike </td><td>2023-05-15 12:47:26</td><td>2023-05-15 13:00:05</td><td><span style=white-space:pre-wrap>Clark St &amp; Schiller St           </span></td><td>TA1309000024</td><td><span style=white-space:pre-wrap>Franklin St &amp; Lake St          </span></td><td>TA1307000111</td><td>41.90799</td><td>-87.63150</td><td>41.88584</td><td>-87.63550</td><td>member</td></tr>\n",
       "\t<tr><td>811149F69AAE82DD</td><td>electric_bike</td><td>2023-05-19 05:44:26</td><td>2023-05-19 05:47:24</td><td><span style=white-space:pre-wrap>Clinton St &amp; Madison St          </span></td><td>TA1305000032</td><td><span style=white-space:pre-wrap>Kingsbury St &amp; Kinzie St       </span></td><td>KA1503000043</td><td>41.88265</td><td>-87.64144</td><td>41.88918</td><td>-87.63851</td><td>member</td></tr>\n",
       "\t<tr><td>D71F8A3BB45BDA05</td><td>classic_bike </td><td>2023-05-13 17:37:12</td><td>2023-05-13 17:43:27</td><td><span style=white-space:pre-wrap>Clinton St &amp; Madison St          </span></td><td>TA1305000032</td><td><span style=white-space:pre-wrap>Kingsbury St &amp; Kinzie St       </span></td><td>KA1503000043</td><td>41.88275</td><td>-87.64119</td><td>41.88918</td><td>-87.63851</td><td>member</td></tr>\n",
       "\t<tr><td>B0E352E3CE2B6EE9</td><td>classic_bike </td><td>2023-05-05 06:28:09</td><td>2023-05-05 06:55:51</td><td><span style=white-space:pre-wrap>Clark St &amp; Schiller St           </span></td><td>TA1309000024</td><td><span style=white-space:pre-wrap>Michigan Ave &amp; 8th St          </span></td><td><span style=white-space:pre-wrap>623         </span></td><td>41.90799</td><td>-87.63150</td><td>41.87277</td><td>-87.62398</td><td>member</td></tr>\n",
       "\t<tr><td>1348715B463F6610</td><td>classic_bike </td><td>2023-05-15 06:37:34</td><td>2023-05-15 07:01:51</td><td><span style=white-space:pre-wrap>Clark St &amp; Schiller St           </span></td><td>TA1309000024</td><td><span style=white-space:pre-wrap>Michigan Ave &amp; 8th St          </span></td><td><span style=white-space:pre-wrap>623         </span></td><td>41.90799</td><td>-87.63150</td><td>41.87277</td><td>-87.62398</td><td>member</td></tr>\n",
       "\t<tr><td>22FD33836A76B947</td><td>classic_bike </td><td>2023-05-18 20:35:00</td><td>2023-05-18 20:47:51</td><td><span style=white-space:pre-wrap>Clark St &amp; Schiller St           </span></td><td>TA1309000024</td><td><span style=white-space:pre-wrap>Larrabee St &amp; Division St      </span></td><td>KA1504000079</td><td>41.90799</td><td>-87.63150</td><td>41.90349</td><td>-87.64335</td><td>member</td></tr>\n",
       "\t<tr><td>A59A47089DBA82F4</td><td>electric_bike</td><td>2023-05-13 18:11:25</td><td>2023-05-13 18:42:47</td><td><span style=white-space:pre-wrap>Clinton St &amp; Madison St          </span></td><td>TA1305000032</td><td><span style=white-space:pre-wrap>State St &amp; Randolph St         </span></td><td>TA1305000029</td><td>41.88265</td><td>-87.64095</td><td>41.88462</td><td>-87.62783</td><td>casual</td></tr>\n",
       "\t<tr><td>0604AB197D201117</td><td>electric_bike</td><td>2023-05-29 06:19:30</td><td>2023-05-29 06:39:50</td><td>DuSable Lake Shore Dr &amp; Monroe St</td><td><span style=white-space:pre-wrap>13300       </span></td><td><span style=white-space:pre-wrap>Michigan Ave &amp; Jackson Blvd    </span></td><td>TA1309000002</td><td>41.88105</td><td>-87.61675</td><td>41.87785</td><td>-87.62408</td><td>casual</td></tr>\n",
       "\t<tr><td>AA261364E7500CD1</td><td>classic_bike </td><td>2023-05-29 17:08:05</td><td>2023-05-29 17:51:59</td><td><span style=white-space:pre-wrap>Ashland Ave &amp; Blackhawk St       </span></td><td><span style=white-space:pre-wrap>13224       </span></td><td><span style=white-space:pre-wrap>Stave St &amp; Armitage Ave        </span></td><td><span style=white-space:pre-wrap>13266       </span></td><td>41.90707</td><td>-87.66725</td><td>41.91774</td><td>-87.69139</td><td>member</td></tr>\n",
       "\t<tr><td>6DB13FAE5B7A3673</td><td><span style=white-space:pre-wrap>docked_bike  </span></td><td>2023-05-28 20:16:34</td><td>2023-05-28 22:58:20</td><td>DuSable Lake Shore Dr &amp; Monroe St</td><td><span style=white-space:pre-wrap>13300       </span></td><td><span style=white-space:pre-wrap>Michigan Ave &amp; Jackson Blvd    </span></td><td>TA1309000002</td><td>41.88096</td><td>-87.61674</td><td>41.87785</td><td>-87.62408</td><td>casual</td></tr>\n",
       "\t<tr><td>B02E54E6F7E987CE</td><td>electric_bike</td><td>2023-05-18 13:10:29</td><td>2023-05-18 13:17:32</td><td><span style=white-space:pre-wrap>Benson Ave &amp; Church St           </span></td><td><span style=white-space:pre-wrap>596         </span></td><td><span style=white-space:pre-wrap>Evanston Civic Center          </span></td><td><span style=white-space:pre-wrap>661         </span></td><td>42.04823</td><td>-87.68349</td><td>42.05704</td><td>-87.68655</td><td>member</td></tr>\n",
       "\t<tr><td>09732545D9374E17</td><td>classic_bike </td><td>2023-05-29 22:12:34</td><td>2023-05-29 22:29:37</td><td><span style=white-space:pre-wrap>Clifton Ave &amp; Armitage Ave       </span></td><td>TA1307000163</td><td><span style=white-space:pre-wrap>Clark St &amp; Wellington Ave      </span></td><td>TA1307000136</td><td>41.91822</td><td>-87.65694</td><td>41.93650</td><td>-87.64754</td><td>member</td></tr>\n",
       "\t<tr><td>2A979757D6205BF8</td><td>electric_bike</td><td>2023-05-06 20:46:13</td><td>2023-05-06 20:57:38</td><td><span style=white-space:pre-wrap>Sedgwick St &amp; North Ave          </span></td><td>TA1307000038</td><td><span style=white-space:pre-wrap>Halsted St &amp; Roscoe St         </span></td><td>TA1309000025</td><td>41.91132</td><td>-87.63872</td><td>41.94367</td><td>-87.64895</td><td>member</td></tr>\n",
       "\t<tr><td>2471A931E49C9577</td><td>classic_bike </td><td>2023-05-26 18:41:13</td><td>2023-05-26 19:01:24</td><td><span style=white-space:pre-wrap>Broadway &amp; Belmont Ave           </span></td><td><span style=white-space:pre-wrap>13277       </span></td><td><span style=white-space:pre-wrap>Halsted St &amp; Roscoe St         </span></td><td>TA1309000025</td><td>41.94011</td><td>-87.64545</td><td>41.94367</td><td>-87.64895</td><td>member</td></tr>\n",
       "\t<tr><td>7A3C84F9FDC88B8A</td><td>classic_bike </td><td>2023-05-23 13:44:35</td><td>2023-05-23 13:59:36</td><td><span style=white-space:pre-wrap>Spaulding Ave &amp; Armitage Ave     </span></td><td><span style=white-space:pre-wrap>15650       </span></td><td><span style=white-space:pre-wrap>Walsh Park                     </span></td><td><span style=white-space:pre-wrap>18067       </span></td><td>41.91711</td><td>-87.71022</td><td>41.91461</td><td>-87.66797</td><td>member</td></tr>\n",
       "\t<tr><td>08E60474BB77A09F</td><td>classic_bike </td><td>2023-05-30 20:35:26</td><td>2023-05-30 20:39:35</td><td><span style=white-space:pre-wrap>LaSalle St &amp; Illinois St         </span></td><td><span style=white-space:pre-wrap>13430       </span></td><td><span style=white-space:pre-wrap>Wabash Ave &amp; Grand Ave         </span></td><td>TA1307000117</td><td>41.89076</td><td>-87.63170</td><td>41.89147</td><td>-87.62676</td><td>member</td></tr>\n",
       "\t<tr><td>7EE50FF1E3B1160A</td><td>electric_bike</td><td>2023-05-28 21:53:01</td><td>2023-05-28 22:05:33</td><td><span style=white-space:pre-wrap>Troy St &amp; North Ave              </span></td><td><span style=white-space:pre-wrap>15653       </span></td><td><span style=white-space:pre-wrap>Milwaukee Ave &amp; Fullerton Ave  </span></td><td><span style=white-space:pre-wrap>428         </span></td><td>41.90979</td><td>-87.70530</td><td>41.92467</td><td>-87.70055</td><td>member</td></tr>\n",
       "\t<tr><td>C7455E1721AA4064</td><td><span style=white-space:pre-wrap>docked_bike  </span></td><td>2023-05-27 11:14:09</td><td>2023-05-27 11:41:23</td><td>DuSable Lake Shore Dr &amp; Monroe St</td><td><span style=white-space:pre-wrap>13300       </span></td><td><span style=white-space:pre-wrap>Michigan Ave &amp; Washington St   </span></td><td><span style=white-space:pre-wrap>13001       </span></td><td>41.88096</td><td>-87.61674</td><td>41.88398</td><td>-87.62468</td><td>casual</td></tr>\n",
       "\t<tr><td>3EE3C51D01AF833E</td><td>classic_bike </td><td>2023-05-18 08:39:49</td><td>2023-05-18 08:48:48</td><td><span style=white-space:pre-wrap>Clinton St &amp; Madison St          </span></td><td>TA1305000032</td><td><span style=white-space:pre-wrap>Franklin St &amp; Chicago Ave      </span></td><td><span style=white-space:pre-wrap>13017       </span></td><td>41.88275</td><td>-87.64119</td><td>41.89675</td><td>-87.63567</td><td>member</td></tr>\n",
       "\t<tr><td>8706010AD2367F04</td><td>classic_bike </td><td>2023-05-09 10:26:45</td><td>2023-05-09 10:34:08</td><td><span style=white-space:pre-wrap>Clinton St &amp; Madison St          </span></td><td>TA1305000032</td><td><span style=white-space:pre-wrap>Michigan Ave &amp; Washington St   </span></td><td><span style=white-space:pre-wrap>13001       </span></td><td>41.88275</td><td>-87.64119</td><td>41.88398</td><td>-87.62468</td><td>member</td></tr>\n",
       "\t<tr><td>68DA3F41B67D2B2D</td><td>electric_bike</td><td>2023-05-13 16:11:36</td><td>2023-05-13 17:00:02</td><td>DuSable Lake Shore Dr &amp; Monroe St</td><td><span style=white-space:pre-wrap>13300       </span></td><td>Lakefront Trail &amp; Bryn Mawr Ave</td><td><span style=white-space:pre-wrap>15576       </span></td><td>41.88109</td><td>-87.61681</td><td>41.98404</td><td>-87.65228</td><td>casual</td></tr>\n",
       "\t<tr><td>D97B7202D327A6F9</td><td>electric_bike</td><td>2023-05-18 21:31:29</td><td>2023-05-18 21:43:15</td><td><span style=white-space:pre-wrap>Clark St &amp; Schiller St           </span></td><td>TA1309000024</td><td><span style=white-space:pre-wrap>Clark St &amp; Wrightwood Ave      </span></td><td>TA1305000014</td><td>41.90811</td><td>-87.63157</td><td>41.92955</td><td>-87.64312</td><td>member</td></tr>\n",
       "\t<tr><td>⋮</td><td>⋮</td><td>⋮</td><td>⋮</td><td>⋮</td><td>⋮</td><td>⋮</td><td>⋮</td><td>⋮</td><td>⋮</td><td>⋮</td><td>⋮</td><td>⋮</td></tr>\n",
       "\t<tr><td>B551550A604296FE</td><td>electric_bike</td><td>2024-04-22 16:35:13</td><td>2024-04-22 16:48:26</td><td><span style=white-space:pre-wrap>Clark St &amp; Lincoln Ave      </span></td><td><span style=white-space:pre-wrap>13179       </span></td><td><span style=white-space:pre-wrap>                              </span></td><td><span style=white-space:pre-wrap>     </span></td><td>41.91571</td><td>-87.63458</td><td>41.94000</td><td>-87.64000</td><td>member</td></tr>\n",
       "\t<tr><td>A480C5E65CDCF2DD</td><td>electric_bike</td><td>2024-04-15 16:29:49</td><td>2024-04-15 17:02:51</td><td><span style=white-space:pre-wrap>California Ave &amp; Cortez St  </span></td><td><span style=white-space:pre-wrap>17660       </span></td><td><span style=white-space:pre-wrap>                              </span></td><td><span style=white-space:pre-wrap>     </span></td><td>41.90035</td><td>-87.69687</td><td>41.91000</td><td>-87.69000</td><td>member</td></tr>\n",
       "\t<tr><td>89C2860E60382E7A</td><td>electric_bike</td><td>2024-04-09 07:57:29</td><td>2024-04-09 08:26:28</td><td>Clinton St &amp; Washington Blvd</td><td><span style=white-space:pre-wrap>WL-012      </span></td><td><span style=white-space:pre-wrap>                              </span></td><td><span style=white-space:pre-wrap>     </span></td><td>41.88309</td><td>-87.64133</td><td>41.89000</td><td>-87.63000</td><td>member</td></tr>\n",
       "\t<tr><td>83A2875F5548B22F</td><td>electric_bike</td><td>2024-04-06 19:30:49</td><td>2024-04-06 19:32:17</td><td>Ashland Ave &amp; Wellington Ave</td><td><span style=white-space:pre-wrap>13269       </span></td><td><span style=white-space:pre-wrap>                              </span></td><td><span style=white-space:pre-wrap>     </span></td><td>41.93610</td><td>-87.66995</td><td>41.94000</td><td>-87.67000</td><td>member</td></tr>\n",
       "\t<tr><td>34DB0C2D927BC247</td><td>electric_bike</td><td>2024-04-22 18:33:37</td><td>2024-04-22 19:05:28</td><td><span style=white-space:pre-wrap>Fairbanks Ct &amp; Grand Ave    </span></td><td>TA1305000003</td><td><span style=white-space:pre-wrap>                              </span></td><td><span style=white-space:pre-wrap>     </span></td><td>41.89180</td><td>-87.62079</td><td>41.92000</td><td>-87.64000</td><td>member</td></tr>\n",
       "\t<tr><td>14E9E84DB6E7A386</td><td>electric_bike</td><td>2024-04-13 09:55:05</td><td>2024-04-13 10:01:51</td><td><span style=white-space:pre-wrap>Clark St &amp; Lincoln Ave      </span></td><td><span style=white-space:pre-wrap>13179       </span></td><td><span style=white-space:pre-wrap>                              </span></td><td><span style=white-space:pre-wrap>     </span></td><td>41.91574</td><td>-87.63461</td><td>41.91000</td><td>-87.64000</td><td>member</td></tr>\n",
       "\t<tr><td>4CE42998228F42BD</td><td>electric_bike</td><td>2024-04-16 16:54:25</td><td>2024-04-16 17:06:39</td><td>Clinton St &amp; Washington Blvd</td><td><span style=white-space:pre-wrap>WL-012      </span></td><td><span style=white-space:pre-wrap>                              </span></td><td><span style=white-space:pre-wrap>     </span></td><td>41.88327</td><td>-87.64114</td><td>41.91000</td><td>-87.63000</td><td>member</td></tr>\n",
       "\t<tr><td>B85A53D7FB63D58F</td><td>electric_bike</td><td>2024-04-08 16:19:23</td><td>2024-04-08 16:29:02</td><td>Clinton St &amp; Washington Blvd</td><td><span style=white-space:pre-wrap>WL-012      </span></td><td><span style=white-space:pre-wrap>                              </span></td><td><span style=white-space:pre-wrap>     </span></td><td>41.88333</td><td>-87.64120</td><td>41.90000</td><td>-87.66000</td><td>member</td></tr>\n",
       "\t<tr><td>F1D8223B278CC353</td><td>electric_bike</td><td>2024-04-24 18:06:16</td><td>2024-04-24 18:10:23</td><td>Clinton St &amp; Washington Blvd</td><td><span style=white-space:pre-wrap>WL-012      </span></td><td><span style=white-space:pre-wrap>                              </span></td><td><span style=white-space:pre-wrap>     </span></td><td>41.88345</td><td>-87.64155</td><td>41.89000</td><td>-87.64000</td><td>member</td></tr>\n",
       "\t<tr><td>4FC3C6A2E96029BF</td><td>electric_bike</td><td>2024-04-24 07:37:42</td><td>2024-04-24 07:48:27</td><td><span style=white-space:pre-wrap>Michigan Ave &amp; 14th St      </span></td><td>TA1307000124</td><td><span style=white-space:pre-wrap>                              </span></td><td><span style=white-space:pre-wrap>     </span></td><td>41.86414</td><td>-87.62360</td><td>41.88000</td><td>-87.64000</td><td>member</td></tr>\n",
       "\t<tr><td>908FB46F1500AB06</td><td>electric_bike</td><td>2024-04-09 10:00:55</td><td>2024-04-09 10:05:17</td><td>Clinton St &amp; Washington Blvd</td><td><span style=white-space:pre-wrap>WL-012      </span></td><td><span style=white-space:pre-wrap>                              </span></td><td><span style=white-space:pre-wrap>     </span></td><td>41.88343</td><td>-87.64155</td><td>41.88000</td><td>-87.63000</td><td>member</td></tr>\n",
       "\t<tr><td>5C01F81F2F64760F</td><td>electric_bike</td><td>2024-04-18 22:48:38</td><td>2024-04-18 22:53:38</td><td><span style=white-space:pre-wrap>Leavitt St &amp; Addison St     </span></td><td>KA1504000143</td><td><span style=white-space:pre-wrap>                              </span></td><td><span style=white-space:pre-wrap>     </span></td><td>41.94662</td><td>-87.68336</td><td>41.94000</td><td>-87.67000</td><td>member</td></tr>\n",
       "\t<tr><td>00844D73F05E2683</td><td>electric_bike</td><td>2024-04-24 17:03:18</td><td>2024-04-24 17:08:04</td><td><span style=white-space:pre-wrap>Fairbanks Ct &amp; Grand Ave    </span></td><td>TA1305000003</td><td><span style=white-space:pre-wrap>                              </span></td><td><span style=white-space:pre-wrap>     </span></td><td>41.89190</td><td>-87.62037</td><td>41.90000</td><td>-87.63000</td><td>member</td></tr>\n",
       "\t<tr><td>DC7B3F4354212627</td><td>electric_bike</td><td>2024-04-03 18:09:41</td><td>2024-04-03 18:15:10</td><td>Clinton St &amp; Washington Blvd</td><td><span style=white-space:pre-wrap>WL-012      </span></td><td><span style=white-space:pre-wrap>                              </span></td><td><span style=white-space:pre-wrap>     </span></td><td>41.88320</td><td>-87.64136</td><td>41.89000</td><td>-87.64000</td><td>member</td></tr>\n",
       "\t<tr><td>BE0651110A99612F</td><td>electric_bike</td><td>2024-04-03 16:45:07</td><td>2024-04-03 16:49:59</td><td><span style=white-space:pre-wrap>Michigan Ave &amp; 14th St      </span></td><td>TA1307000124</td><td><span style=white-space:pre-wrap>                              </span></td><td><span style=white-space:pre-wrap>     </span></td><td>41.86425</td><td>-87.62380</td><td>41.85000</td><td>-87.63000</td><td>member</td></tr>\n",
       "\t<tr><td>BE0071DAECD43073</td><td>electric_bike</td><td>2024-04-12 15:02:53</td><td>2024-04-12 15:05:50</td><td>Ashland Ave &amp; Wellington Ave</td><td><span style=white-space:pre-wrap>13269       </span></td><td><span style=white-space:pre-wrap>                              </span></td><td><span style=white-space:pre-wrap>     </span></td><td>41.93610</td><td>-87.66994</td><td>41.94000</td><td>-87.67000</td><td>member</td></tr>\n",
       "\t<tr><td>291B570C91B7259B</td><td>electric_bike</td><td>2024-04-03 18:01:29</td><td>2024-04-03 18:06:09</td><td>Clinton St &amp; Washington Blvd</td><td><span style=white-space:pre-wrap>WL-012      </span></td><td><span style=white-space:pre-wrap>                              </span></td><td><span style=white-space:pre-wrap>     </span></td><td>41.88324</td><td>-87.64116</td><td>41.88000</td><td>-87.64000</td><td>member</td></tr>\n",
       "\t<tr><td>86BFB9971EB78EDD</td><td>electric_bike</td><td>2024-04-08 05:40:20</td><td>2024-04-08 05:44:41</td><td>Clinton St &amp; Washington Blvd</td><td><span style=white-space:pre-wrap>WL-012      </span></td><td><span style=white-space:pre-wrap>                              </span></td><td><span style=white-space:pre-wrap>     </span></td><td>41.88348</td><td>-87.64133</td><td>41.89000</td><td>-87.65000</td><td>member</td></tr>\n",
       "\t<tr><td>0C8EDF776A6A2180</td><td>electric_bike</td><td>2024-04-08 17:38:51</td><td>2024-04-08 17:49:15</td><td>Clinton St &amp; Washington Blvd</td><td><span style=white-space:pre-wrap>WL-012      </span></td><td><span style=white-space:pre-wrap>                              </span></td><td><span style=white-space:pre-wrap>     </span></td><td>41.88361</td><td>-87.64115</td><td>41.90000</td><td>-87.67000</td><td>member</td></tr>\n",
       "\t<tr><td>A760201A6D54480C</td><td>electric_bike</td><td>2024-04-08 11:23:04</td><td>2024-04-08 11:34:48</td><td><span style=white-space:pre-wrap>Clark St &amp; Lincoln Ave      </span></td><td><span style=white-space:pre-wrap>13179       </span></td><td><span style=white-space:pre-wrap>                              </span></td><td><span style=white-space:pre-wrap>     </span></td><td>41.91579</td><td>-87.63463</td><td>41.94000</td><td>-87.66000</td><td>member</td></tr>\n",
       "\t<tr><td>13D14F27E1E19AAA</td><td>electric_bike</td><td>2024-04-19 18:30:17</td><td>2024-04-19 18:30:38</td><td>Clinton St &amp; Washington Blvd</td><td><span style=white-space:pre-wrap>WL-012      </span></td><td><span style=white-space:pre-wrap>                              </span></td><td><span style=white-space:pre-wrap>     </span></td><td>41.88355</td><td>-87.64185</td><td>41.88000</td><td>-87.64000</td><td>member</td></tr>\n",
       "\t<tr><td>A6DB0B5563A4551D</td><td>electric_bike</td><td>2024-04-06 04:55:39</td><td>2024-04-06 05:01:06</td><td>Ashland Ave &amp; Wellington Ave</td><td><span style=white-space:pre-wrap>13269       </span></td><td><span style=white-space:pre-wrap>                              </span></td><td><span style=white-space:pre-wrap>     </span></td><td>41.93608</td><td>-87.66986</td><td>41.95000</td><td>-87.68000</td><td>member</td></tr>\n",
       "\t<tr><td>1C6412CE12F75BB2</td><td>electric_bike</td><td>2024-04-27 12:32:06</td><td>2024-04-27 12:54:13</td><td><span style=white-space:pre-wrap>Clark St &amp; Lincoln Ave      </span></td><td><span style=white-space:pre-wrap>13179       </span></td><td><span style=white-space:pre-wrap>                              </span></td><td><span style=white-space:pre-wrap>     </span></td><td>41.91571</td><td>-87.63455</td><td>41.93000</td><td>-87.70000</td><td>member</td></tr>\n",
       "\t<tr><td>6D5A8C5C93815E56</td><td>electric_bike</td><td>2024-04-27 04:55:25</td><td>2024-04-27 05:00:20</td><td>Ashland Ave &amp; Wellington Ave</td><td><span style=white-space:pre-wrap>13269       </span></td><td><span style=white-space:pre-wrap>                              </span></td><td><span style=white-space:pre-wrap>     </span></td><td>41.93608</td><td>-87.66986</td><td>41.95000</td><td>-87.68000</td><td>member</td></tr>\n",
       "\t<tr><td>5CE1D1529C834AD3</td><td>electric_bike</td><td>2024-04-06 09:27:18</td><td>2024-04-06 09:38:11</td><td><span style=white-space:pre-wrap>Clark St &amp; Lincoln Ave      </span></td><td><span style=white-space:pre-wrap>13179       </span></td><td><span style=white-space:pre-wrap>                              </span></td><td><span style=white-space:pre-wrap>     </span></td><td>41.91579</td><td>-87.63458</td><td>41.94000</td><td>-87.64000</td><td>member</td></tr>\n",
       "\t<tr><td>5E41443305C3B8A0</td><td>classic_bike </td><td>2024-04-06 13:40:56</td><td>2024-04-07 14:40:49</td><td><span style=white-space:pre-wrap>Clark St &amp; Lincoln Ave      </span></td><td><span style=white-space:pre-wrap>13179       </span></td><td><span style=white-space:pre-wrap>                              </span></td><td><span style=white-space:pre-wrap>     </span></td><td>41.91569</td><td>-87.63460</td><td><span style=white-space:pre-wrap>      NA</span></td><td><span style=white-space:pre-wrap>       NA</span></td><td>casual</td></tr>\n",
       "\t<tr><td>50A275230D6C0492</td><td>classic_bike </td><td>2024-04-01 19:03:43</td><td>2024-04-01 19:13:16</td><td><span style=white-space:pre-wrap>California Ave &amp; Cortez St  </span></td><td><span style=white-space:pre-wrap>17660       </span></td><td>California Ave &amp; Milwaukee Ave</td><td>13084</td><td>41.90036</td><td>-87.69670</td><td>41.92269</td><td>-87.69715</td><td>member</td></tr>\n",
       "\t<tr><td>A88F756403FBF27F</td><td>electric_bike</td><td>2024-04-11 16:09:50</td><td>2024-04-11 16:26:07</td><td>Clinton St &amp; Washington Blvd</td><td><span style=white-space:pre-wrap>WL-012      </span></td><td><span style=white-space:pre-wrap>                              </span></td><td><span style=white-space:pre-wrap>     </span></td><td>41.88350</td><td>-87.64158</td><td>41.91000</td><td>-87.68000</td><td>member</td></tr>\n",
       "\t<tr><td>DFD402AC5915F136</td><td>electric_bike</td><td>2024-04-19 07:20:28</td><td>2024-04-19 07:30:05</td><td>Clinton St &amp; Washington Blvd</td><td><span style=white-space:pre-wrap>WL-012      </span></td><td><span style=white-space:pre-wrap>                              </span></td><td><span style=white-space:pre-wrap>     </span></td><td>41.88317</td><td>-87.64113</td><td>41.89000</td><td>-87.62000</td><td>member</td></tr>\n",
       "\t<tr><td>61F035E8DCBB5313</td><td>electric_bike</td><td>2024-04-16 15:53:32</td><td>2024-04-16 16:15:20</td><td>Clinton St &amp; Washington Blvd</td><td><span style=white-space:pre-wrap>WL-012      </span></td><td><span style=white-space:pre-wrap>                              </span></td><td><span style=white-space:pre-wrap>     </span></td><td>41.88339</td><td>-87.64122</td><td>41.92000</td><td>-87.66000</td><td>member</td></tr>\n",
       "</tbody>\n",
       "</table>\n"
      ],
      "text/latex": [
       "A data.frame: 5738612 × 13\n",
       "\\begin{tabular}{lllllllllllll}\n",
       " ride\\_id & rideable\\_type & started\\_at & ended\\_at & start\\_station\\_name & start\\_station\\_id & end\\_station\\_name & end\\_station\\_id & start\\_lat & start\\_lng & end\\_lat & end\\_lng & member\\_casual\\\\\n",
       " <chr> & <chr> & <chr> & <chr> & <chr> & <chr> & <chr> & <chr> & <dbl> & <dbl> & <dbl> & <dbl> & <chr>\\\\\n",
       "\\hline\n",
       "\t 0D9FA920C3062031 & electric\\_bike & 2023-05-07 19:53:48 & 2023-05-07 19:58:32 & Southport Ave \\& Belmont Ave       & 13229        &                                 &              & 41.93941 & -87.66383 & 41.93000 & -87.65000 & member\\\\\n",
       "\t 92485E5FB5888ACD & electric\\_bike & 2023-05-06 18:54:08 & 2023-05-06 19:03:35 & Southport Ave \\& Belmont Ave       & 13229        &                                 &              & 41.93948 & -87.66385 & 41.94000 & -87.69000 & member\\\\\n",
       "\t FB144B3FC8300187 & electric\\_bike & 2023-05-21 00:40:21 & 2023-05-21 00:44:36 & Halsted St \\& 21st St              & 13162        &                                 &              & 41.85379 & -87.64672 & 41.86000 & -87.65000 & member\\\\\n",
       "\t DDEB93BC2CE9AA77 & classic\\_bike  & 2023-05-10 16:47:01 & 2023-05-10 16:59:52 & Carpenter St \\& Huron St           & 13196        & Damen Ave \\& Cortland St         & 13133        & 41.89456 & -87.65345 & 41.91598 & -87.67733 & member\\\\\n",
       "\t C07B70172FC92F59 & classic\\_bike  & 2023-05-09 18:30:34 & 2023-05-09 18:39:28 & Southport Ave \\& Clark St          & TA1308000047 & Southport Ave \\& Belmont Ave     & 13229        & 41.95708 & -87.66420 & 41.93948 & -87.66375 & member\\\\\n",
       "\t 2BA66385DF8F815A & classic\\_bike  & 2023-05-30 15:01:21 & 2023-05-30 15:17:00 & Clinton St \\& Madison St           & TA1305000032 & McClurg Ct \\& Ohio St            & TA1306000029 & 41.88275 & -87.64119 & 41.89259 & -87.61729 & member\\\\\n",
       "\t 31EFCCB05F12D8EF & docked\\_bike   & 2023-05-09 14:13:40 & 2023-05-09 14:47:20 & DuSable Lake Shore Dr \\& Monroe St & 13300        & Adler Planetarium               & 13431        & 41.88096 & -87.61674 & 41.86610 & -87.60727 & casual\\\\\n",
       "\t 71DFF834E1D3CE0B & classic\\_bike  & 2023-05-06 16:47:22 & 2023-05-06 16:52:13 & Shore Dr \\& 55th St                & TA1308000009 & Harper Ave \\& 59th St            & KA1503000070 & 41.79521 & -87.58071 & 41.78794 & -87.58832 & member\\\\\n",
       "\t 2117485899B4CEA4 & classic\\_bike  & 2023-05-15 12:47:26 & 2023-05-15 13:00:05 & Clark St \\& Schiller St            & TA1309000024 & Franklin St \\& Lake St           & TA1307000111 & 41.90799 & -87.63150 & 41.88584 & -87.63550 & member\\\\\n",
       "\t 811149F69AAE82DD & electric\\_bike & 2023-05-19 05:44:26 & 2023-05-19 05:47:24 & Clinton St \\& Madison St           & TA1305000032 & Kingsbury St \\& Kinzie St        & KA1503000043 & 41.88265 & -87.64144 & 41.88918 & -87.63851 & member\\\\\n",
       "\t D71F8A3BB45BDA05 & classic\\_bike  & 2023-05-13 17:37:12 & 2023-05-13 17:43:27 & Clinton St \\& Madison St           & TA1305000032 & Kingsbury St \\& Kinzie St        & KA1503000043 & 41.88275 & -87.64119 & 41.88918 & -87.63851 & member\\\\\n",
       "\t B0E352E3CE2B6EE9 & classic\\_bike  & 2023-05-05 06:28:09 & 2023-05-05 06:55:51 & Clark St \\& Schiller St            & TA1309000024 & Michigan Ave \\& 8th St           & 623          & 41.90799 & -87.63150 & 41.87277 & -87.62398 & member\\\\\n",
       "\t 1348715B463F6610 & classic\\_bike  & 2023-05-15 06:37:34 & 2023-05-15 07:01:51 & Clark St \\& Schiller St            & TA1309000024 & Michigan Ave \\& 8th St           & 623          & 41.90799 & -87.63150 & 41.87277 & -87.62398 & member\\\\\n",
       "\t 22FD33836A76B947 & classic\\_bike  & 2023-05-18 20:35:00 & 2023-05-18 20:47:51 & Clark St \\& Schiller St            & TA1309000024 & Larrabee St \\& Division St       & KA1504000079 & 41.90799 & -87.63150 & 41.90349 & -87.64335 & member\\\\\n",
       "\t A59A47089DBA82F4 & electric\\_bike & 2023-05-13 18:11:25 & 2023-05-13 18:42:47 & Clinton St \\& Madison St           & TA1305000032 & State St \\& Randolph St          & TA1305000029 & 41.88265 & -87.64095 & 41.88462 & -87.62783 & casual\\\\\n",
       "\t 0604AB197D201117 & electric\\_bike & 2023-05-29 06:19:30 & 2023-05-29 06:39:50 & DuSable Lake Shore Dr \\& Monroe St & 13300        & Michigan Ave \\& Jackson Blvd     & TA1309000002 & 41.88105 & -87.61675 & 41.87785 & -87.62408 & casual\\\\\n",
       "\t AA261364E7500CD1 & classic\\_bike  & 2023-05-29 17:08:05 & 2023-05-29 17:51:59 & Ashland Ave \\& Blackhawk St        & 13224        & Stave St \\& Armitage Ave         & 13266        & 41.90707 & -87.66725 & 41.91774 & -87.69139 & member\\\\\n",
       "\t 6DB13FAE5B7A3673 & docked\\_bike   & 2023-05-28 20:16:34 & 2023-05-28 22:58:20 & DuSable Lake Shore Dr \\& Monroe St & 13300        & Michigan Ave \\& Jackson Blvd     & TA1309000002 & 41.88096 & -87.61674 & 41.87785 & -87.62408 & casual\\\\\n",
       "\t B02E54E6F7E987CE & electric\\_bike & 2023-05-18 13:10:29 & 2023-05-18 13:17:32 & Benson Ave \\& Church St            & 596          & Evanston Civic Center           & 661          & 42.04823 & -87.68349 & 42.05704 & -87.68655 & member\\\\\n",
       "\t 09732545D9374E17 & classic\\_bike  & 2023-05-29 22:12:34 & 2023-05-29 22:29:37 & Clifton Ave \\& Armitage Ave        & TA1307000163 & Clark St \\& Wellington Ave       & TA1307000136 & 41.91822 & -87.65694 & 41.93650 & -87.64754 & member\\\\\n",
       "\t 2A979757D6205BF8 & electric\\_bike & 2023-05-06 20:46:13 & 2023-05-06 20:57:38 & Sedgwick St \\& North Ave           & TA1307000038 & Halsted St \\& Roscoe St          & TA1309000025 & 41.91132 & -87.63872 & 41.94367 & -87.64895 & member\\\\\n",
       "\t 2471A931E49C9577 & classic\\_bike  & 2023-05-26 18:41:13 & 2023-05-26 19:01:24 & Broadway \\& Belmont Ave            & 13277        & Halsted St \\& Roscoe St          & TA1309000025 & 41.94011 & -87.64545 & 41.94367 & -87.64895 & member\\\\\n",
       "\t 7A3C84F9FDC88B8A & classic\\_bike  & 2023-05-23 13:44:35 & 2023-05-23 13:59:36 & Spaulding Ave \\& Armitage Ave      & 15650        & Walsh Park                      & 18067        & 41.91711 & -87.71022 & 41.91461 & -87.66797 & member\\\\\n",
       "\t 08E60474BB77A09F & classic\\_bike  & 2023-05-30 20:35:26 & 2023-05-30 20:39:35 & LaSalle St \\& Illinois St          & 13430        & Wabash Ave \\& Grand Ave          & TA1307000117 & 41.89076 & -87.63170 & 41.89147 & -87.62676 & member\\\\\n",
       "\t 7EE50FF1E3B1160A & electric\\_bike & 2023-05-28 21:53:01 & 2023-05-28 22:05:33 & Troy St \\& North Ave               & 15653        & Milwaukee Ave \\& Fullerton Ave   & 428          & 41.90979 & -87.70530 & 41.92467 & -87.70055 & member\\\\\n",
       "\t C7455E1721AA4064 & docked\\_bike   & 2023-05-27 11:14:09 & 2023-05-27 11:41:23 & DuSable Lake Shore Dr \\& Monroe St & 13300        & Michigan Ave \\& Washington St    & 13001        & 41.88096 & -87.61674 & 41.88398 & -87.62468 & casual\\\\\n",
       "\t 3EE3C51D01AF833E & classic\\_bike  & 2023-05-18 08:39:49 & 2023-05-18 08:48:48 & Clinton St \\& Madison St           & TA1305000032 & Franklin St \\& Chicago Ave       & 13017        & 41.88275 & -87.64119 & 41.89675 & -87.63567 & member\\\\\n",
       "\t 8706010AD2367F04 & classic\\_bike  & 2023-05-09 10:26:45 & 2023-05-09 10:34:08 & Clinton St \\& Madison St           & TA1305000032 & Michigan Ave \\& Washington St    & 13001        & 41.88275 & -87.64119 & 41.88398 & -87.62468 & member\\\\\n",
       "\t 68DA3F41B67D2B2D & electric\\_bike & 2023-05-13 16:11:36 & 2023-05-13 17:00:02 & DuSable Lake Shore Dr \\& Monroe St & 13300        & Lakefront Trail \\& Bryn Mawr Ave & 15576        & 41.88109 & -87.61681 & 41.98404 & -87.65228 & casual\\\\\n",
       "\t D97B7202D327A6F9 & electric\\_bike & 2023-05-18 21:31:29 & 2023-05-18 21:43:15 & Clark St \\& Schiller St            & TA1309000024 & Clark St \\& Wrightwood Ave       & TA1305000014 & 41.90811 & -87.63157 & 41.92955 & -87.64312 & member\\\\\n",
       "\t ⋮ & ⋮ & ⋮ & ⋮ & ⋮ & ⋮ & ⋮ & ⋮ & ⋮ & ⋮ & ⋮ & ⋮ & ⋮\\\\\n",
       "\t B551550A604296FE & electric\\_bike & 2024-04-22 16:35:13 & 2024-04-22 16:48:26 & Clark St \\& Lincoln Ave       & 13179        &                                &       & 41.91571 & -87.63458 & 41.94000 & -87.64000 & member\\\\\n",
       "\t A480C5E65CDCF2DD & electric\\_bike & 2024-04-15 16:29:49 & 2024-04-15 17:02:51 & California Ave \\& Cortez St   & 17660        &                                &       & 41.90035 & -87.69687 & 41.91000 & -87.69000 & member\\\\\n",
       "\t 89C2860E60382E7A & electric\\_bike & 2024-04-09 07:57:29 & 2024-04-09 08:26:28 & Clinton St \\& Washington Blvd & WL-012       &                                &       & 41.88309 & -87.64133 & 41.89000 & -87.63000 & member\\\\\n",
       "\t 83A2875F5548B22F & electric\\_bike & 2024-04-06 19:30:49 & 2024-04-06 19:32:17 & Ashland Ave \\& Wellington Ave & 13269        &                                &       & 41.93610 & -87.66995 & 41.94000 & -87.67000 & member\\\\\n",
       "\t 34DB0C2D927BC247 & electric\\_bike & 2024-04-22 18:33:37 & 2024-04-22 19:05:28 & Fairbanks Ct \\& Grand Ave     & TA1305000003 &                                &       & 41.89180 & -87.62079 & 41.92000 & -87.64000 & member\\\\\n",
       "\t 14E9E84DB6E7A386 & electric\\_bike & 2024-04-13 09:55:05 & 2024-04-13 10:01:51 & Clark St \\& Lincoln Ave       & 13179        &                                &       & 41.91574 & -87.63461 & 41.91000 & -87.64000 & member\\\\\n",
       "\t 4CE42998228F42BD & electric\\_bike & 2024-04-16 16:54:25 & 2024-04-16 17:06:39 & Clinton St \\& Washington Blvd & WL-012       &                                &       & 41.88327 & -87.64114 & 41.91000 & -87.63000 & member\\\\\n",
       "\t B85A53D7FB63D58F & electric\\_bike & 2024-04-08 16:19:23 & 2024-04-08 16:29:02 & Clinton St \\& Washington Blvd & WL-012       &                                &       & 41.88333 & -87.64120 & 41.90000 & -87.66000 & member\\\\\n",
       "\t F1D8223B278CC353 & electric\\_bike & 2024-04-24 18:06:16 & 2024-04-24 18:10:23 & Clinton St \\& Washington Blvd & WL-012       &                                &       & 41.88345 & -87.64155 & 41.89000 & -87.64000 & member\\\\\n",
       "\t 4FC3C6A2E96029BF & electric\\_bike & 2024-04-24 07:37:42 & 2024-04-24 07:48:27 & Michigan Ave \\& 14th St       & TA1307000124 &                                &       & 41.86414 & -87.62360 & 41.88000 & -87.64000 & member\\\\\n",
       "\t 908FB46F1500AB06 & electric\\_bike & 2024-04-09 10:00:55 & 2024-04-09 10:05:17 & Clinton St \\& Washington Blvd & WL-012       &                                &       & 41.88343 & -87.64155 & 41.88000 & -87.63000 & member\\\\\n",
       "\t 5C01F81F2F64760F & electric\\_bike & 2024-04-18 22:48:38 & 2024-04-18 22:53:38 & Leavitt St \\& Addison St      & KA1504000143 &                                &       & 41.94662 & -87.68336 & 41.94000 & -87.67000 & member\\\\\n",
       "\t 00844D73F05E2683 & electric\\_bike & 2024-04-24 17:03:18 & 2024-04-24 17:08:04 & Fairbanks Ct \\& Grand Ave     & TA1305000003 &                                &       & 41.89190 & -87.62037 & 41.90000 & -87.63000 & member\\\\\n",
       "\t DC7B3F4354212627 & electric\\_bike & 2024-04-03 18:09:41 & 2024-04-03 18:15:10 & Clinton St \\& Washington Blvd & WL-012       &                                &       & 41.88320 & -87.64136 & 41.89000 & -87.64000 & member\\\\\n",
       "\t BE0651110A99612F & electric\\_bike & 2024-04-03 16:45:07 & 2024-04-03 16:49:59 & Michigan Ave \\& 14th St       & TA1307000124 &                                &       & 41.86425 & -87.62380 & 41.85000 & -87.63000 & member\\\\\n",
       "\t BE0071DAECD43073 & electric\\_bike & 2024-04-12 15:02:53 & 2024-04-12 15:05:50 & Ashland Ave \\& Wellington Ave & 13269        &                                &       & 41.93610 & -87.66994 & 41.94000 & -87.67000 & member\\\\\n",
       "\t 291B570C91B7259B & electric\\_bike & 2024-04-03 18:01:29 & 2024-04-03 18:06:09 & Clinton St \\& Washington Blvd & WL-012       &                                &       & 41.88324 & -87.64116 & 41.88000 & -87.64000 & member\\\\\n",
       "\t 86BFB9971EB78EDD & electric\\_bike & 2024-04-08 05:40:20 & 2024-04-08 05:44:41 & Clinton St \\& Washington Blvd & WL-012       &                                &       & 41.88348 & -87.64133 & 41.89000 & -87.65000 & member\\\\\n",
       "\t 0C8EDF776A6A2180 & electric\\_bike & 2024-04-08 17:38:51 & 2024-04-08 17:49:15 & Clinton St \\& Washington Blvd & WL-012       &                                &       & 41.88361 & -87.64115 & 41.90000 & -87.67000 & member\\\\\n",
       "\t A760201A6D54480C & electric\\_bike & 2024-04-08 11:23:04 & 2024-04-08 11:34:48 & Clark St \\& Lincoln Ave       & 13179        &                                &       & 41.91579 & -87.63463 & 41.94000 & -87.66000 & member\\\\\n",
       "\t 13D14F27E1E19AAA & electric\\_bike & 2024-04-19 18:30:17 & 2024-04-19 18:30:38 & Clinton St \\& Washington Blvd & WL-012       &                                &       & 41.88355 & -87.64185 & 41.88000 & -87.64000 & member\\\\\n",
       "\t A6DB0B5563A4551D & electric\\_bike & 2024-04-06 04:55:39 & 2024-04-06 05:01:06 & Ashland Ave \\& Wellington Ave & 13269        &                                &       & 41.93608 & -87.66986 & 41.95000 & -87.68000 & member\\\\\n",
       "\t 1C6412CE12F75BB2 & electric\\_bike & 2024-04-27 12:32:06 & 2024-04-27 12:54:13 & Clark St \\& Lincoln Ave       & 13179        &                                &       & 41.91571 & -87.63455 & 41.93000 & -87.70000 & member\\\\\n",
       "\t 6D5A8C5C93815E56 & electric\\_bike & 2024-04-27 04:55:25 & 2024-04-27 05:00:20 & Ashland Ave \\& Wellington Ave & 13269        &                                &       & 41.93608 & -87.66986 & 41.95000 & -87.68000 & member\\\\\n",
       "\t 5CE1D1529C834AD3 & electric\\_bike & 2024-04-06 09:27:18 & 2024-04-06 09:38:11 & Clark St \\& Lincoln Ave       & 13179        &                                &       & 41.91579 & -87.63458 & 41.94000 & -87.64000 & member\\\\\n",
       "\t 5E41443305C3B8A0 & classic\\_bike  & 2024-04-06 13:40:56 & 2024-04-07 14:40:49 & Clark St \\& Lincoln Ave       & 13179        &                                &       & 41.91569 & -87.63460 &       NA &        NA & casual\\\\\n",
       "\t 50A275230D6C0492 & classic\\_bike  & 2024-04-01 19:03:43 & 2024-04-01 19:13:16 & California Ave \\& Cortez St   & 17660        & California Ave \\& Milwaukee Ave & 13084 & 41.90036 & -87.69670 & 41.92269 & -87.69715 & member\\\\\n",
       "\t A88F756403FBF27F & electric\\_bike & 2024-04-11 16:09:50 & 2024-04-11 16:26:07 & Clinton St \\& Washington Blvd & WL-012       &                                &       & 41.88350 & -87.64158 & 41.91000 & -87.68000 & member\\\\\n",
       "\t DFD402AC5915F136 & electric\\_bike & 2024-04-19 07:20:28 & 2024-04-19 07:30:05 & Clinton St \\& Washington Blvd & WL-012       &                                &       & 41.88317 & -87.64113 & 41.89000 & -87.62000 & member\\\\\n",
       "\t 61F035E8DCBB5313 & electric\\_bike & 2024-04-16 15:53:32 & 2024-04-16 16:15:20 & Clinton St \\& Washington Blvd & WL-012       &                                &       & 41.88339 & -87.64122 & 41.92000 & -87.66000 & member\\\\\n",
       "\\end{tabular}\n"
      ],
      "text/markdown": [
       "\n",
       "A data.frame: 5738612 × 13\n",
       "\n",
       "| ride_id &lt;chr&gt; | rideable_type &lt;chr&gt; | started_at &lt;chr&gt; | ended_at &lt;chr&gt; | start_station_name &lt;chr&gt; | start_station_id &lt;chr&gt; | end_station_name &lt;chr&gt; | end_station_id &lt;chr&gt; | start_lat &lt;dbl&gt; | start_lng &lt;dbl&gt; | end_lat &lt;dbl&gt; | end_lng &lt;dbl&gt; | member_casual &lt;chr&gt; |\n",
       "|---|---|---|---|---|---|---|---|---|---|---|---|---|\n",
       "| 0D9FA920C3062031 | electric_bike | 2023-05-07 19:53:48 | 2023-05-07 19:58:32 | Southport Ave &amp; Belmont Ave       | 13229        | <!----> | <!----> | 41.93941 | -87.66383 | 41.93000 | -87.65000 | member |\n",
       "| 92485E5FB5888ACD | electric_bike | 2023-05-06 18:54:08 | 2023-05-06 19:03:35 | Southport Ave &amp; Belmont Ave       | 13229        | <!----> | <!----> | 41.93948 | -87.66385 | 41.94000 | -87.69000 | member |\n",
       "| FB144B3FC8300187 | electric_bike | 2023-05-21 00:40:21 | 2023-05-21 00:44:36 | Halsted St &amp; 21st St              | 13162        | <!----> | <!----> | 41.85379 | -87.64672 | 41.86000 | -87.65000 | member |\n",
       "| DDEB93BC2CE9AA77 | classic_bike  | 2023-05-10 16:47:01 | 2023-05-10 16:59:52 | Carpenter St &amp; Huron St           | 13196        | Damen Ave &amp; Cortland St         | 13133        | 41.89456 | -87.65345 | 41.91598 | -87.67733 | member |\n",
       "| C07B70172FC92F59 | classic_bike  | 2023-05-09 18:30:34 | 2023-05-09 18:39:28 | Southport Ave &amp; Clark St          | TA1308000047 | Southport Ave &amp; Belmont Ave     | 13229        | 41.95708 | -87.66420 | 41.93948 | -87.66375 | member |\n",
       "| 2BA66385DF8F815A | classic_bike  | 2023-05-30 15:01:21 | 2023-05-30 15:17:00 | Clinton St &amp; Madison St           | TA1305000032 | McClurg Ct &amp; Ohio St            | TA1306000029 | 41.88275 | -87.64119 | 41.89259 | -87.61729 | member |\n",
       "| 31EFCCB05F12D8EF | docked_bike   | 2023-05-09 14:13:40 | 2023-05-09 14:47:20 | DuSable Lake Shore Dr &amp; Monroe St | 13300        | Adler Planetarium               | 13431        | 41.88096 | -87.61674 | 41.86610 | -87.60727 | casual |\n",
       "| 71DFF834E1D3CE0B | classic_bike  | 2023-05-06 16:47:22 | 2023-05-06 16:52:13 | Shore Dr &amp; 55th St                | TA1308000009 | Harper Ave &amp; 59th St            | KA1503000070 | 41.79521 | -87.58071 | 41.78794 | -87.58832 | member |\n",
       "| 2117485899B4CEA4 | classic_bike  | 2023-05-15 12:47:26 | 2023-05-15 13:00:05 | Clark St &amp; Schiller St            | TA1309000024 | Franklin St &amp; Lake St           | TA1307000111 | 41.90799 | -87.63150 | 41.88584 | -87.63550 | member |\n",
       "| 811149F69AAE82DD | electric_bike | 2023-05-19 05:44:26 | 2023-05-19 05:47:24 | Clinton St &amp; Madison St           | TA1305000032 | Kingsbury St &amp; Kinzie St        | KA1503000043 | 41.88265 | -87.64144 | 41.88918 | -87.63851 | member |\n",
       "| D71F8A3BB45BDA05 | classic_bike  | 2023-05-13 17:37:12 | 2023-05-13 17:43:27 | Clinton St &amp; Madison St           | TA1305000032 | Kingsbury St &amp; Kinzie St        | KA1503000043 | 41.88275 | -87.64119 | 41.88918 | -87.63851 | member |\n",
       "| B0E352E3CE2B6EE9 | classic_bike  | 2023-05-05 06:28:09 | 2023-05-05 06:55:51 | Clark St &amp; Schiller St            | TA1309000024 | Michigan Ave &amp; 8th St           | 623          | 41.90799 | -87.63150 | 41.87277 | -87.62398 | member |\n",
       "| 1348715B463F6610 | classic_bike  | 2023-05-15 06:37:34 | 2023-05-15 07:01:51 | Clark St &amp; Schiller St            | TA1309000024 | Michigan Ave &amp; 8th St           | 623          | 41.90799 | -87.63150 | 41.87277 | -87.62398 | member |\n",
       "| 22FD33836A76B947 | classic_bike  | 2023-05-18 20:35:00 | 2023-05-18 20:47:51 | Clark St &amp; Schiller St            | TA1309000024 | Larrabee St &amp; Division St       | KA1504000079 | 41.90799 | -87.63150 | 41.90349 | -87.64335 | member |\n",
       "| A59A47089DBA82F4 | electric_bike | 2023-05-13 18:11:25 | 2023-05-13 18:42:47 | Clinton St &amp; Madison St           | TA1305000032 | State St &amp; Randolph St          | TA1305000029 | 41.88265 | -87.64095 | 41.88462 | -87.62783 | casual |\n",
       "| 0604AB197D201117 | electric_bike | 2023-05-29 06:19:30 | 2023-05-29 06:39:50 | DuSable Lake Shore Dr &amp; Monroe St | 13300        | Michigan Ave &amp; Jackson Blvd     | TA1309000002 | 41.88105 | -87.61675 | 41.87785 | -87.62408 | casual |\n",
       "| AA261364E7500CD1 | classic_bike  | 2023-05-29 17:08:05 | 2023-05-29 17:51:59 | Ashland Ave &amp; Blackhawk St        | 13224        | Stave St &amp; Armitage Ave         | 13266        | 41.90707 | -87.66725 | 41.91774 | -87.69139 | member |\n",
       "| 6DB13FAE5B7A3673 | docked_bike   | 2023-05-28 20:16:34 | 2023-05-28 22:58:20 | DuSable Lake Shore Dr &amp; Monroe St | 13300        | Michigan Ave &amp; Jackson Blvd     | TA1309000002 | 41.88096 | -87.61674 | 41.87785 | -87.62408 | casual |\n",
       "| B02E54E6F7E987CE | electric_bike | 2023-05-18 13:10:29 | 2023-05-18 13:17:32 | Benson Ave &amp; Church St            | 596          | Evanston Civic Center           | 661          | 42.04823 | -87.68349 | 42.05704 | -87.68655 | member |\n",
       "| 09732545D9374E17 | classic_bike  | 2023-05-29 22:12:34 | 2023-05-29 22:29:37 | Clifton Ave &amp; Armitage Ave        | TA1307000163 | Clark St &amp; Wellington Ave       | TA1307000136 | 41.91822 | -87.65694 | 41.93650 | -87.64754 | member |\n",
       "| 2A979757D6205BF8 | electric_bike | 2023-05-06 20:46:13 | 2023-05-06 20:57:38 | Sedgwick St &amp; North Ave           | TA1307000038 | Halsted St &amp; Roscoe St          | TA1309000025 | 41.91132 | -87.63872 | 41.94367 | -87.64895 | member |\n",
       "| 2471A931E49C9577 | classic_bike  | 2023-05-26 18:41:13 | 2023-05-26 19:01:24 | Broadway &amp; Belmont Ave            | 13277        | Halsted St &amp; Roscoe St          | TA1309000025 | 41.94011 | -87.64545 | 41.94367 | -87.64895 | member |\n",
       "| 7A3C84F9FDC88B8A | classic_bike  | 2023-05-23 13:44:35 | 2023-05-23 13:59:36 | Spaulding Ave &amp; Armitage Ave      | 15650        | Walsh Park                      | 18067        | 41.91711 | -87.71022 | 41.91461 | -87.66797 | member |\n",
       "| 08E60474BB77A09F | classic_bike  | 2023-05-30 20:35:26 | 2023-05-30 20:39:35 | LaSalle St &amp; Illinois St          | 13430        | Wabash Ave &amp; Grand Ave          | TA1307000117 | 41.89076 | -87.63170 | 41.89147 | -87.62676 | member |\n",
       "| 7EE50FF1E3B1160A | electric_bike | 2023-05-28 21:53:01 | 2023-05-28 22:05:33 | Troy St &amp; North Ave               | 15653        | Milwaukee Ave &amp; Fullerton Ave   | 428          | 41.90979 | -87.70530 | 41.92467 | -87.70055 | member |\n",
       "| C7455E1721AA4064 | docked_bike   | 2023-05-27 11:14:09 | 2023-05-27 11:41:23 | DuSable Lake Shore Dr &amp; Monroe St | 13300        | Michigan Ave &amp; Washington St    | 13001        | 41.88096 | -87.61674 | 41.88398 | -87.62468 | casual |\n",
       "| 3EE3C51D01AF833E | classic_bike  | 2023-05-18 08:39:49 | 2023-05-18 08:48:48 | Clinton St &amp; Madison St           | TA1305000032 | Franklin St &amp; Chicago Ave       | 13017        | 41.88275 | -87.64119 | 41.89675 | -87.63567 | member |\n",
       "| 8706010AD2367F04 | classic_bike  | 2023-05-09 10:26:45 | 2023-05-09 10:34:08 | Clinton St &amp; Madison St           | TA1305000032 | Michigan Ave &amp; Washington St    | 13001        | 41.88275 | -87.64119 | 41.88398 | -87.62468 | member |\n",
       "| 68DA3F41B67D2B2D | electric_bike | 2023-05-13 16:11:36 | 2023-05-13 17:00:02 | DuSable Lake Shore Dr &amp; Monroe St | 13300        | Lakefront Trail &amp; Bryn Mawr Ave | 15576        | 41.88109 | -87.61681 | 41.98404 | -87.65228 | casual |\n",
       "| D97B7202D327A6F9 | electric_bike | 2023-05-18 21:31:29 | 2023-05-18 21:43:15 | Clark St &amp; Schiller St            | TA1309000024 | Clark St &amp; Wrightwood Ave       | TA1305000014 | 41.90811 | -87.63157 | 41.92955 | -87.64312 | member |\n",
       "| ⋮ | ⋮ | ⋮ | ⋮ | ⋮ | ⋮ | ⋮ | ⋮ | ⋮ | ⋮ | ⋮ | ⋮ | ⋮ |\n",
       "| B551550A604296FE | electric_bike | 2024-04-22 16:35:13 | 2024-04-22 16:48:26 | Clark St &amp; Lincoln Ave       | 13179        | <!----> | <!----> | 41.91571 | -87.63458 | 41.94000 | -87.64000 | member |\n",
       "| A480C5E65CDCF2DD | electric_bike | 2024-04-15 16:29:49 | 2024-04-15 17:02:51 | California Ave &amp; Cortez St   | 17660        | <!----> | <!----> | 41.90035 | -87.69687 | 41.91000 | -87.69000 | member |\n",
       "| 89C2860E60382E7A | electric_bike | 2024-04-09 07:57:29 | 2024-04-09 08:26:28 | Clinton St &amp; Washington Blvd | WL-012       | <!----> | <!----> | 41.88309 | -87.64133 | 41.89000 | -87.63000 | member |\n",
       "| 83A2875F5548B22F | electric_bike | 2024-04-06 19:30:49 | 2024-04-06 19:32:17 | Ashland Ave &amp; Wellington Ave | 13269        | <!----> | <!----> | 41.93610 | -87.66995 | 41.94000 | -87.67000 | member |\n",
       "| 34DB0C2D927BC247 | electric_bike | 2024-04-22 18:33:37 | 2024-04-22 19:05:28 | Fairbanks Ct &amp; Grand Ave     | TA1305000003 | <!----> | <!----> | 41.89180 | -87.62079 | 41.92000 | -87.64000 | member |\n",
       "| 14E9E84DB6E7A386 | electric_bike | 2024-04-13 09:55:05 | 2024-04-13 10:01:51 | Clark St &amp; Lincoln Ave       | 13179        | <!----> | <!----> | 41.91574 | -87.63461 | 41.91000 | -87.64000 | member |\n",
       "| 4CE42998228F42BD | electric_bike | 2024-04-16 16:54:25 | 2024-04-16 17:06:39 | Clinton St &amp; Washington Blvd | WL-012       | <!----> | <!----> | 41.88327 | -87.64114 | 41.91000 | -87.63000 | member |\n",
       "| B85A53D7FB63D58F | electric_bike | 2024-04-08 16:19:23 | 2024-04-08 16:29:02 | Clinton St &amp; Washington Blvd | WL-012       | <!----> | <!----> | 41.88333 | -87.64120 | 41.90000 | -87.66000 | member |\n",
       "| F1D8223B278CC353 | electric_bike | 2024-04-24 18:06:16 | 2024-04-24 18:10:23 | Clinton St &amp; Washington Blvd | WL-012       | <!----> | <!----> | 41.88345 | -87.64155 | 41.89000 | -87.64000 | member |\n",
       "| 4FC3C6A2E96029BF | electric_bike | 2024-04-24 07:37:42 | 2024-04-24 07:48:27 | Michigan Ave &amp; 14th St       | TA1307000124 | <!----> | <!----> | 41.86414 | -87.62360 | 41.88000 | -87.64000 | member |\n",
       "| 908FB46F1500AB06 | electric_bike | 2024-04-09 10:00:55 | 2024-04-09 10:05:17 | Clinton St &amp; Washington Blvd | WL-012       | <!----> | <!----> | 41.88343 | -87.64155 | 41.88000 | -87.63000 | member |\n",
       "| 5C01F81F2F64760F | electric_bike | 2024-04-18 22:48:38 | 2024-04-18 22:53:38 | Leavitt St &amp; Addison St      | KA1504000143 | <!----> | <!----> | 41.94662 | -87.68336 | 41.94000 | -87.67000 | member |\n",
       "| 00844D73F05E2683 | electric_bike | 2024-04-24 17:03:18 | 2024-04-24 17:08:04 | Fairbanks Ct &amp; Grand Ave     | TA1305000003 | <!----> | <!----> | 41.89190 | -87.62037 | 41.90000 | -87.63000 | member |\n",
       "| DC7B3F4354212627 | electric_bike | 2024-04-03 18:09:41 | 2024-04-03 18:15:10 | Clinton St &amp; Washington Blvd | WL-012       | <!----> | <!----> | 41.88320 | -87.64136 | 41.89000 | -87.64000 | member |\n",
       "| BE0651110A99612F | electric_bike | 2024-04-03 16:45:07 | 2024-04-03 16:49:59 | Michigan Ave &amp; 14th St       | TA1307000124 | <!----> | <!----> | 41.86425 | -87.62380 | 41.85000 | -87.63000 | member |\n",
       "| BE0071DAECD43073 | electric_bike | 2024-04-12 15:02:53 | 2024-04-12 15:05:50 | Ashland Ave &amp; Wellington Ave | 13269        | <!----> | <!----> | 41.93610 | -87.66994 | 41.94000 | -87.67000 | member |\n",
       "| 291B570C91B7259B | electric_bike | 2024-04-03 18:01:29 | 2024-04-03 18:06:09 | Clinton St &amp; Washington Blvd | WL-012       | <!----> | <!----> | 41.88324 | -87.64116 | 41.88000 | -87.64000 | member |\n",
       "| 86BFB9971EB78EDD | electric_bike | 2024-04-08 05:40:20 | 2024-04-08 05:44:41 | Clinton St &amp; Washington Blvd | WL-012       | <!----> | <!----> | 41.88348 | -87.64133 | 41.89000 | -87.65000 | member |\n",
       "| 0C8EDF776A6A2180 | electric_bike | 2024-04-08 17:38:51 | 2024-04-08 17:49:15 | Clinton St &amp; Washington Blvd | WL-012       | <!----> | <!----> | 41.88361 | -87.64115 | 41.90000 | -87.67000 | member |\n",
       "| A760201A6D54480C | electric_bike | 2024-04-08 11:23:04 | 2024-04-08 11:34:48 | Clark St &amp; Lincoln Ave       | 13179        | <!----> | <!----> | 41.91579 | -87.63463 | 41.94000 | -87.66000 | member |\n",
       "| 13D14F27E1E19AAA | electric_bike | 2024-04-19 18:30:17 | 2024-04-19 18:30:38 | Clinton St &amp; Washington Blvd | WL-012       | <!----> | <!----> | 41.88355 | -87.64185 | 41.88000 | -87.64000 | member |\n",
       "| A6DB0B5563A4551D | electric_bike | 2024-04-06 04:55:39 | 2024-04-06 05:01:06 | Ashland Ave &amp; Wellington Ave | 13269        | <!----> | <!----> | 41.93608 | -87.66986 | 41.95000 | -87.68000 | member |\n",
       "| 1C6412CE12F75BB2 | electric_bike | 2024-04-27 12:32:06 | 2024-04-27 12:54:13 | Clark St &amp; Lincoln Ave       | 13179        | <!----> | <!----> | 41.91571 | -87.63455 | 41.93000 | -87.70000 | member |\n",
       "| 6D5A8C5C93815E56 | electric_bike | 2024-04-27 04:55:25 | 2024-04-27 05:00:20 | Ashland Ave &amp; Wellington Ave | 13269        | <!----> | <!----> | 41.93608 | -87.66986 | 41.95000 | -87.68000 | member |\n",
       "| 5CE1D1529C834AD3 | electric_bike | 2024-04-06 09:27:18 | 2024-04-06 09:38:11 | Clark St &amp; Lincoln Ave       | 13179        | <!----> | <!----> | 41.91579 | -87.63458 | 41.94000 | -87.64000 | member |\n",
       "| 5E41443305C3B8A0 | classic_bike  | 2024-04-06 13:40:56 | 2024-04-07 14:40:49 | Clark St &amp; Lincoln Ave       | 13179        | <!----> | <!----> | 41.91569 | -87.63460 |       NA |        NA | casual |\n",
       "| 50A275230D6C0492 | classic_bike  | 2024-04-01 19:03:43 | 2024-04-01 19:13:16 | California Ave &amp; Cortez St   | 17660        | California Ave &amp; Milwaukee Ave | 13084 | 41.90036 | -87.69670 | 41.92269 | -87.69715 | member |\n",
       "| A88F756403FBF27F | electric_bike | 2024-04-11 16:09:50 | 2024-04-11 16:26:07 | Clinton St &amp; Washington Blvd | WL-012       | <!----> | <!----> | 41.88350 | -87.64158 | 41.91000 | -87.68000 | member |\n",
       "| DFD402AC5915F136 | electric_bike | 2024-04-19 07:20:28 | 2024-04-19 07:30:05 | Clinton St &amp; Washington Blvd | WL-012       | <!----> | <!----> | 41.88317 | -87.64113 | 41.89000 | -87.62000 | member |\n",
       "| 61F035E8DCBB5313 | electric_bike | 2024-04-16 15:53:32 | 2024-04-16 16:15:20 | Clinton St &amp; Washington Blvd | WL-012       | <!----> | <!----> | 41.88339 | -87.64122 | 41.92000 | -87.66000 | member |\n",
       "\n"
      ],
      "text/plain": [
       "        ride_id          rideable_type started_at          ended_at           \n",
       "1       0D9FA920C3062031 electric_bike 2023-05-07 19:53:48 2023-05-07 19:58:32\n",
       "2       92485E5FB5888ACD electric_bike 2023-05-06 18:54:08 2023-05-06 19:03:35\n",
       "3       FB144B3FC8300187 electric_bike 2023-05-21 00:40:21 2023-05-21 00:44:36\n",
       "4       DDEB93BC2CE9AA77 classic_bike  2023-05-10 16:47:01 2023-05-10 16:59:52\n",
       "5       C07B70172FC92F59 classic_bike  2023-05-09 18:30:34 2023-05-09 18:39:28\n",
       "6       2BA66385DF8F815A classic_bike  2023-05-30 15:01:21 2023-05-30 15:17:00\n",
       "7       31EFCCB05F12D8EF docked_bike   2023-05-09 14:13:40 2023-05-09 14:47:20\n",
       "8       71DFF834E1D3CE0B classic_bike  2023-05-06 16:47:22 2023-05-06 16:52:13\n",
       "9       2117485899B4CEA4 classic_bike  2023-05-15 12:47:26 2023-05-15 13:00:05\n",
       "10      811149F69AAE82DD electric_bike 2023-05-19 05:44:26 2023-05-19 05:47:24\n",
       "11      D71F8A3BB45BDA05 classic_bike  2023-05-13 17:37:12 2023-05-13 17:43:27\n",
       "12      B0E352E3CE2B6EE9 classic_bike  2023-05-05 06:28:09 2023-05-05 06:55:51\n",
       "13      1348715B463F6610 classic_bike  2023-05-15 06:37:34 2023-05-15 07:01:51\n",
       "14      22FD33836A76B947 classic_bike  2023-05-18 20:35:00 2023-05-18 20:47:51\n",
       "15      A59A47089DBA82F4 electric_bike 2023-05-13 18:11:25 2023-05-13 18:42:47\n",
       "16      0604AB197D201117 electric_bike 2023-05-29 06:19:30 2023-05-29 06:39:50\n",
       "17      AA261364E7500CD1 classic_bike  2023-05-29 17:08:05 2023-05-29 17:51:59\n",
       "18      6DB13FAE5B7A3673 docked_bike   2023-05-28 20:16:34 2023-05-28 22:58:20\n",
       "19      B02E54E6F7E987CE electric_bike 2023-05-18 13:10:29 2023-05-18 13:17:32\n",
       "20      09732545D9374E17 classic_bike  2023-05-29 22:12:34 2023-05-29 22:29:37\n",
       "21      2A979757D6205BF8 electric_bike 2023-05-06 20:46:13 2023-05-06 20:57:38\n",
       "22      2471A931E49C9577 classic_bike  2023-05-26 18:41:13 2023-05-26 19:01:24\n",
       "23      7A3C84F9FDC88B8A classic_bike  2023-05-23 13:44:35 2023-05-23 13:59:36\n",
       "24      08E60474BB77A09F classic_bike  2023-05-30 20:35:26 2023-05-30 20:39:35\n",
       "25      7EE50FF1E3B1160A electric_bike 2023-05-28 21:53:01 2023-05-28 22:05:33\n",
       "26      C7455E1721AA4064 docked_bike   2023-05-27 11:14:09 2023-05-27 11:41:23\n",
       "27      3EE3C51D01AF833E classic_bike  2023-05-18 08:39:49 2023-05-18 08:48:48\n",
       "28      8706010AD2367F04 classic_bike  2023-05-09 10:26:45 2023-05-09 10:34:08\n",
       "29      68DA3F41B67D2B2D electric_bike 2023-05-13 16:11:36 2023-05-13 17:00:02\n",
       "30      D97B7202D327A6F9 electric_bike 2023-05-18 21:31:29 2023-05-18 21:43:15\n",
       "⋮       ⋮                ⋮             ⋮                   ⋮                  \n",
       "5738583 B551550A604296FE electric_bike 2024-04-22 16:35:13 2024-04-22 16:48:26\n",
       "5738584 A480C5E65CDCF2DD electric_bike 2024-04-15 16:29:49 2024-04-15 17:02:51\n",
       "5738585 89C2860E60382E7A electric_bike 2024-04-09 07:57:29 2024-04-09 08:26:28\n",
       "5738586 83A2875F5548B22F electric_bike 2024-04-06 19:30:49 2024-04-06 19:32:17\n",
       "5738587 34DB0C2D927BC247 electric_bike 2024-04-22 18:33:37 2024-04-22 19:05:28\n",
       "5738588 14E9E84DB6E7A386 electric_bike 2024-04-13 09:55:05 2024-04-13 10:01:51\n",
       "5738589 4CE42998228F42BD electric_bike 2024-04-16 16:54:25 2024-04-16 17:06:39\n",
       "5738590 B85A53D7FB63D58F electric_bike 2024-04-08 16:19:23 2024-04-08 16:29:02\n",
       "5738591 F1D8223B278CC353 electric_bike 2024-04-24 18:06:16 2024-04-24 18:10:23\n",
       "5738592 4FC3C6A2E96029BF electric_bike 2024-04-24 07:37:42 2024-04-24 07:48:27\n",
       "5738593 908FB46F1500AB06 electric_bike 2024-04-09 10:00:55 2024-04-09 10:05:17\n",
       "5738594 5C01F81F2F64760F electric_bike 2024-04-18 22:48:38 2024-04-18 22:53:38\n",
       "5738595 00844D73F05E2683 electric_bike 2024-04-24 17:03:18 2024-04-24 17:08:04\n",
       "5738596 DC7B3F4354212627 electric_bike 2024-04-03 18:09:41 2024-04-03 18:15:10\n",
       "5738597 BE0651110A99612F electric_bike 2024-04-03 16:45:07 2024-04-03 16:49:59\n",
       "5738598 BE0071DAECD43073 electric_bike 2024-04-12 15:02:53 2024-04-12 15:05:50\n",
       "5738599 291B570C91B7259B electric_bike 2024-04-03 18:01:29 2024-04-03 18:06:09\n",
       "5738600 86BFB9971EB78EDD electric_bike 2024-04-08 05:40:20 2024-04-08 05:44:41\n",
       "5738601 0C8EDF776A6A2180 electric_bike 2024-04-08 17:38:51 2024-04-08 17:49:15\n",
       "5738602 A760201A6D54480C electric_bike 2024-04-08 11:23:04 2024-04-08 11:34:48\n",
       "5738603 13D14F27E1E19AAA electric_bike 2024-04-19 18:30:17 2024-04-19 18:30:38\n",
       "5738604 A6DB0B5563A4551D electric_bike 2024-04-06 04:55:39 2024-04-06 05:01:06\n",
       "5738605 1C6412CE12F75BB2 electric_bike 2024-04-27 12:32:06 2024-04-27 12:54:13\n",
       "5738606 6D5A8C5C93815E56 electric_bike 2024-04-27 04:55:25 2024-04-27 05:00:20\n",
       "5738607 5CE1D1529C834AD3 electric_bike 2024-04-06 09:27:18 2024-04-06 09:38:11\n",
       "5738608 5E41443305C3B8A0 classic_bike  2024-04-06 13:40:56 2024-04-07 14:40:49\n",
       "5738609 50A275230D6C0492 classic_bike  2024-04-01 19:03:43 2024-04-01 19:13:16\n",
       "5738610 A88F756403FBF27F electric_bike 2024-04-11 16:09:50 2024-04-11 16:26:07\n",
       "5738611 DFD402AC5915F136 electric_bike 2024-04-19 07:20:28 2024-04-19 07:30:05\n",
       "5738612 61F035E8DCBB5313 electric_bike 2024-04-16 15:53:32 2024-04-16 16:15:20\n",
       "        start_station_name                start_station_id\n",
       "1       Southport Ave & Belmont Ave       13229           \n",
       "2       Southport Ave & Belmont Ave       13229           \n",
       "3       Halsted St & 21st St              13162           \n",
       "4       Carpenter St & Huron St           13196           \n",
       "5       Southport Ave & Clark St          TA1308000047    \n",
       "6       Clinton St & Madison St           TA1305000032    \n",
       "7       DuSable Lake Shore Dr & Monroe St 13300           \n",
       "8       Shore Dr & 55th St                TA1308000009    \n",
       "9       Clark St & Schiller St            TA1309000024    \n",
       "10      Clinton St & Madison St           TA1305000032    \n",
       "11      Clinton St & Madison St           TA1305000032    \n",
       "12      Clark St & Schiller St            TA1309000024    \n",
       "13      Clark St & Schiller St            TA1309000024    \n",
       "14      Clark St & Schiller St            TA1309000024    \n",
       "15      Clinton St & Madison St           TA1305000032    \n",
       "16      DuSable Lake Shore Dr & Monroe St 13300           \n",
       "17      Ashland Ave & Blackhawk St        13224           \n",
       "18      DuSable Lake Shore Dr & Monroe St 13300           \n",
       "19      Benson Ave & Church St            596             \n",
       "20      Clifton Ave & Armitage Ave        TA1307000163    \n",
       "21      Sedgwick St & North Ave           TA1307000038    \n",
       "22      Broadway & Belmont Ave            13277           \n",
       "23      Spaulding Ave & Armitage Ave      15650           \n",
       "24      LaSalle St & Illinois St          13430           \n",
       "25      Troy St & North Ave               15653           \n",
       "26      DuSable Lake Shore Dr & Monroe St 13300           \n",
       "27      Clinton St & Madison St           TA1305000032    \n",
       "28      Clinton St & Madison St           TA1305000032    \n",
       "29      DuSable Lake Shore Dr & Monroe St 13300           \n",
       "30      Clark St & Schiller St            TA1309000024    \n",
       "⋮       ⋮                                 ⋮               \n",
       "5738583 Clark St & Lincoln Ave            13179           \n",
       "5738584 California Ave & Cortez St        17660           \n",
       "5738585 Clinton St & Washington Blvd      WL-012          \n",
       "5738586 Ashland Ave & Wellington Ave      13269           \n",
       "5738587 Fairbanks Ct & Grand Ave          TA1305000003    \n",
       "5738588 Clark St & Lincoln Ave            13179           \n",
       "5738589 Clinton St & Washington Blvd      WL-012          \n",
       "5738590 Clinton St & Washington Blvd      WL-012          \n",
       "5738591 Clinton St & Washington Blvd      WL-012          \n",
       "5738592 Michigan Ave & 14th St            TA1307000124    \n",
       "5738593 Clinton St & Washington Blvd      WL-012          \n",
       "5738594 Leavitt St & Addison St           KA1504000143    \n",
       "5738595 Fairbanks Ct & Grand Ave          TA1305000003    \n",
       "5738596 Clinton St & Washington Blvd      WL-012          \n",
       "5738597 Michigan Ave & 14th St            TA1307000124    \n",
       "5738598 Ashland Ave & Wellington Ave      13269           \n",
       "5738599 Clinton St & Washington Blvd      WL-012          \n",
       "5738600 Clinton St & Washington Blvd      WL-012          \n",
       "5738601 Clinton St & Washington Blvd      WL-012          \n",
       "5738602 Clark St & Lincoln Ave            13179           \n",
       "5738603 Clinton St & Washington Blvd      WL-012          \n",
       "5738604 Ashland Ave & Wellington Ave      13269           \n",
       "5738605 Clark St & Lincoln Ave            13179           \n",
       "5738606 Ashland Ave & Wellington Ave      13269           \n",
       "5738607 Clark St & Lincoln Ave            13179           \n",
       "5738608 Clark St & Lincoln Ave            13179           \n",
       "5738609 California Ave & Cortez St        17660           \n",
       "5738610 Clinton St & Washington Blvd      WL-012          \n",
       "5738611 Clinton St & Washington Blvd      WL-012          \n",
       "5738612 Clinton St & Washington Blvd      WL-012          \n",
       "        end_station_name                end_station_id start_lat start_lng\n",
       "1                                                      41.93941  -87.66383\n",
       "2                                                      41.93948  -87.66385\n",
       "3                                                      41.85379  -87.64672\n",
       "4       Damen Ave & Cortland St         13133          41.89456  -87.65345\n",
       "5       Southport Ave & Belmont Ave     13229          41.95708  -87.66420\n",
       "6       McClurg Ct & Ohio St            TA1306000029   41.88275  -87.64119\n",
       "7       Adler Planetarium               13431          41.88096  -87.61674\n",
       "8       Harper Ave & 59th St            KA1503000070   41.79521  -87.58071\n",
       "9       Franklin St & Lake St           TA1307000111   41.90799  -87.63150\n",
       "10      Kingsbury St & Kinzie St        KA1503000043   41.88265  -87.64144\n",
       "11      Kingsbury St & Kinzie St        KA1503000043   41.88275  -87.64119\n",
       "12      Michigan Ave & 8th St           623            41.90799  -87.63150\n",
       "13      Michigan Ave & 8th St           623            41.90799  -87.63150\n",
       "14      Larrabee St & Division St       KA1504000079   41.90799  -87.63150\n",
       "15      State St & Randolph St          TA1305000029   41.88265  -87.64095\n",
       "16      Michigan Ave & Jackson Blvd     TA1309000002   41.88105  -87.61675\n",
       "17      Stave St & Armitage Ave         13266          41.90707  -87.66725\n",
       "18      Michigan Ave & Jackson Blvd     TA1309000002   41.88096  -87.61674\n",
       "19      Evanston Civic Center           661            42.04823  -87.68349\n",
       "20      Clark St & Wellington Ave       TA1307000136   41.91822  -87.65694\n",
       "21      Halsted St & Roscoe St          TA1309000025   41.91132  -87.63872\n",
       "22      Halsted St & Roscoe St          TA1309000025   41.94011  -87.64545\n",
       "23      Walsh Park                      18067          41.91711  -87.71022\n",
       "24      Wabash Ave & Grand Ave          TA1307000117   41.89076  -87.63170\n",
       "25      Milwaukee Ave & Fullerton Ave   428            41.90979  -87.70530\n",
       "26      Michigan Ave & Washington St    13001          41.88096  -87.61674\n",
       "27      Franklin St & Chicago Ave       13017          41.88275  -87.64119\n",
       "28      Michigan Ave & Washington St    13001          41.88275  -87.64119\n",
       "29      Lakefront Trail & Bryn Mawr Ave 15576          41.88109  -87.61681\n",
       "30      Clark St & Wrightwood Ave       TA1305000014   41.90811  -87.63157\n",
       "⋮       ⋮                               ⋮              ⋮         ⋮        \n",
       "5738583                                                41.91571  -87.63458\n",
       "5738584                                                41.90035  -87.69687\n",
       "5738585                                                41.88309  -87.64133\n",
       "5738586                                                41.93610  -87.66995\n",
       "5738587                                                41.89180  -87.62079\n",
       "5738588                                                41.91574  -87.63461\n",
       "5738589                                                41.88327  -87.64114\n",
       "5738590                                                41.88333  -87.64120\n",
       "5738591                                                41.88345  -87.64155\n",
       "5738592                                                41.86414  -87.62360\n",
       "5738593                                                41.88343  -87.64155\n",
       "5738594                                                41.94662  -87.68336\n",
       "5738595                                                41.89190  -87.62037\n",
       "5738596                                                41.88320  -87.64136\n",
       "5738597                                                41.86425  -87.62380\n",
       "5738598                                                41.93610  -87.66994\n",
       "5738599                                                41.88324  -87.64116\n",
       "5738600                                                41.88348  -87.64133\n",
       "5738601                                                41.88361  -87.64115\n",
       "5738602                                                41.91579  -87.63463\n",
       "5738603                                                41.88355  -87.64185\n",
       "5738604                                                41.93608  -87.66986\n",
       "5738605                                                41.91571  -87.63455\n",
       "5738606                                                41.93608  -87.66986\n",
       "5738607                                                41.91579  -87.63458\n",
       "5738608                                                41.91569  -87.63460\n",
       "5738609 California Ave & Milwaukee Ave  13084          41.90036  -87.69670\n",
       "5738610                                                41.88350  -87.64158\n",
       "5738611                                                41.88317  -87.64113\n",
       "5738612                                                41.88339  -87.64122\n",
       "        end_lat  end_lng   member_casual\n",
       "1       41.93000 -87.65000 member       \n",
       "2       41.94000 -87.69000 member       \n",
       "3       41.86000 -87.65000 member       \n",
       "4       41.91598 -87.67733 member       \n",
       "5       41.93948 -87.66375 member       \n",
       "6       41.89259 -87.61729 member       \n",
       "7       41.86610 -87.60727 casual       \n",
       "8       41.78794 -87.58832 member       \n",
       "9       41.88584 -87.63550 member       \n",
       "10      41.88918 -87.63851 member       \n",
       "11      41.88918 -87.63851 member       \n",
       "12      41.87277 -87.62398 member       \n",
       "13      41.87277 -87.62398 member       \n",
       "14      41.90349 -87.64335 member       \n",
       "15      41.88462 -87.62783 casual       \n",
       "16      41.87785 -87.62408 casual       \n",
       "17      41.91774 -87.69139 member       \n",
       "18      41.87785 -87.62408 casual       \n",
       "19      42.05704 -87.68655 member       \n",
       "20      41.93650 -87.64754 member       \n",
       "21      41.94367 -87.64895 member       \n",
       "22      41.94367 -87.64895 member       \n",
       "23      41.91461 -87.66797 member       \n",
       "24      41.89147 -87.62676 member       \n",
       "25      41.92467 -87.70055 member       \n",
       "26      41.88398 -87.62468 casual       \n",
       "27      41.89675 -87.63567 member       \n",
       "28      41.88398 -87.62468 member       \n",
       "29      41.98404 -87.65228 casual       \n",
       "30      41.92955 -87.64312 member       \n",
       "⋮       ⋮        ⋮         ⋮            \n",
       "5738583 41.94000 -87.64000 member       \n",
       "5738584 41.91000 -87.69000 member       \n",
       "5738585 41.89000 -87.63000 member       \n",
       "5738586 41.94000 -87.67000 member       \n",
       "5738587 41.92000 -87.64000 member       \n",
       "5738588 41.91000 -87.64000 member       \n",
       "5738589 41.91000 -87.63000 member       \n",
       "5738590 41.90000 -87.66000 member       \n",
       "5738591 41.89000 -87.64000 member       \n",
       "5738592 41.88000 -87.64000 member       \n",
       "5738593 41.88000 -87.63000 member       \n",
       "5738594 41.94000 -87.67000 member       \n",
       "5738595 41.90000 -87.63000 member       \n",
       "5738596 41.89000 -87.64000 member       \n",
       "5738597 41.85000 -87.63000 member       \n",
       "5738598 41.94000 -87.67000 member       \n",
       "5738599 41.88000 -87.64000 member       \n",
       "5738600 41.89000 -87.65000 member       \n",
       "5738601 41.90000 -87.67000 member       \n",
       "5738602 41.94000 -87.66000 member       \n",
       "5738603 41.88000 -87.64000 member       \n",
       "5738604 41.95000 -87.68000 member       \n",
       "5738605 41.93000 -87.70000 member       \n",
       "5738606 41.95000 -87.68000 member       \n",
       "5738607 41.94000 -87.64000 member       \n",
       "5738608       NA        NA casual       \n",
       "5738609 41.92269 -87.69715 member       \n",
       "5738610 41.91000 -87.68000 member       \n",
       "5738611 41.89000 -87.62000 member       \n",
       "5738612 41.92000 -87.66000 member       "
      ]
     },
     "metadata": {},
     "output_type": "display_data"
    }
   ],
   "source": [
    "#making sure that the datasets have combined correctly (checking that there is data for all 12 months)\n",
    "View(allRawData) \n"
   ]
  },
  {
   "cell_type": "code",
   "execution_count": 5,
   "id": "38fce116",
   "metadata": {
    "execution": {
     "iopub.execute_input": "2024-06-24T18:48:03.243160Z",
     "iopub.status.busy": "2024-06-24T18:48:03.241337Z",
     "iopub.status.idle": "2024-06-24T18:48:11.756507Z",
     "shell.execute_reply": "2024-06-24T18:48:11.753711Z"
    },
    "papermill": {
     "duration": 8.536859,
     "end_time": "2024-06-24T18:48:11.760776",
     "exception": false,
     "start_time": "2024-06-24T18:48:03.223917",
     "status": "completed"
    },
    "tags": []
   },
   "outputs": [
    {
     "name": "stdout",
     "output_type": "stream",
     "text": [
      "[1] \"0 rows removed\"\n"
     ]
    }
   ],
   "source": [
    "#Removing unnessessary columns and any duplicates\n",
    "allRawData <- select(allRawData, -c(start_station_id, end_station_id, start_lat, start_lng, end_lat, end_lng))\n",
    "allData <- allRawData[!duplicated(allRawData$ride_id),]\n",
    "print(paste(nrow(allRawData) - nrow(allData), \"rows removed\"))"
   ]
  },
  {
   "cell_type": "code",
   "execution_count": 6,
   "id": "404606cd",
   "metadata": {
    "execution": {
     "iopub.execute_input": "2024-06-24T18:48:11.795533Z",
     "iopub.status.busy": "2024-06-24T18:48:11.793487Z",
     "iopub.status.idle": "2024-06-24T18:48:11.844698Z",
     "shell.execute_reply": "2024-06-24T18:48:11.841774Z"
    },
    "papermill": {
     "duration": 0.073165,
     "end_time": "2024-06-24T18:48:11.849177",
     "exception": false,
     "start_time": "2024-06-24T18:48:11.776012",
     "status": "completed"
    },
    "tags": []
   },
   "outputs": [
    {
     "data": {
      "text/plain": [
       "   ride_id          rideable_type       started_at          ended_at        \n",
       " Length:5738612     Length:5738612     Length:5738612     Length:5738612    \n",
       " Class :character   Class :character   Class :character   Class :character  \n",
       " Mode  :character   Mode  :character   Mode  :character   Mode  :character  \n",
       " start_station_name end_station_name   member_casual     \n",
       " Length:5738612     Length:5738612     Length:5738612    \n",
       " Class :character   Class :character   Class :character  \n",
       " Mode  :character   Mode  :character   Mode  :character  "
      ]
     },
     "metadata": {},
     "output_type": "display_data"
    },
    {
     "name": "stdout",
     "output_type": "stream",
     "text": [
      "'data.frame':\t5738612 obs. of  7 variables:\n",
      " $ ride_id           : chr  \"0D9FA920C3062031\" \"92485E5FB5888ACD\" \"FB144B3FC8300187\" \"DDEB93BC2CE9AA77\" ...\n",
      " $ rideable_type     : chr  \"electric_bike\" \"electric_bike\" \"electric_bike\" \"classic_bike\" ...\n",
      " $ started_at        : chr  \"2023-05-07 19:53:48\" \"2023-05-06 18:54:08\" \"2023-05-21 00:40:21\" \"2023-05-10 16:47:01\" ...\n",
      " $ ended_at          : chr  \"2023-05-07 19:58:32\" \"2023-05-06 19:03:35\" \"2023-05-21 00:44:36\" \"2023-05-10 16:59:52\" ...\n",
      " $ start_station_name: chr  \"Southport Ave & Belmont Ave\" \"Southport Ave & Belmont Ave\" \"Halsted St & 21st St\" \"Carpenter St & Huron St\" ...\n",
      " $ end_station_name  : chr  \"\" \"\" \"\" \"Damen Ave & Cortland St\" ...\n",
      " $ member_casual     : chr  \"member\" \"member\" \"member\" \"member\" ...\n"
     ]
    }
   ],
   "source": [
    "#reviewing new dataset\n",
    "summary(allData)\n",
    "\n",
    "str(allData)"
   ]
  },
  {
   "cell_type": "markdown",
   "id": "d9f00ce6",
   "metadata": {
    "papermill": {
     "duration": 0.015504,
     "end_time": "2024-06-24T18:48:11.882170",
     "exception": false,
     "start_time": "2024-06-24T18:48:11.866666",
     "status": "completed"
    },
    "tags": []
   },
   "source": []
  },
  {
   "cell_type": "markdown",
   "id": "18b4bd22",
   "metadata": {
    "papermill": {
     "duration": 0.015431,
     "end_time": "2024-06-24T18:48:11.913542",
     "exception": false,
     "start_time": "2024-06-24T18:48:11.898111",
     "status": "completed"
    },
    "tags": []
   },
   "source": [
    "From this overview, we can tell that there have been a total of 5,738,612 rides in the last 12 months, and that all data is stored as character variables. However, there are some rows in the dataset that have no values which wwe also have to take into consideration. There might be a reason for these blank cells, but for this case study we will assume that this was not intentional and that they need to be removed. "
   ]
  },
  {
   "cell_type": "code",
   "execution_count": 7,
   "id": "ad691c3c",
   "metadata": {
    "execution": {
     "iopub.execute_input": "2024-06-24T18:48:11.949494Z",
     "iopub.status.busy": "2024-06-24T18:48:11.947652Z",
     "iopub.status.idle": "2024-06-24T18:49:15.110918Z",
     "shell.execute_reply": "2024-06-24T18:49:15.108860Z"
    },
    "papermill": {
     "duration": 63.184439,
     "end_time": "2024-06-24T18:49:15.113714",
     "exception": false,
     "start_time": "2024-06-24T18:48:11.929275",
     "status": "completed"
    },
    "tags": []
   },
   "outputs": [],
   "source": [
    "#parsing datetime\n",
    "allData$started_at <- as.POSIXct(allData$started_at, \"%Y-%m-%d %H:%M:%S\")\n",
    "allData$ended_at <- as.POSIXct(allData$ended_at, \"%Y-%m-%d %H:%M:%S\")\n",
    "\n",
    "\n",
    "#create new columns to access data variables to manipulate\n",
    "#all variables including dates are stored as chars right now\n",
    "#the the dataset format is yyy-mm-dd hh-mm-ss right now\n",
    "allData$date <- as.Date(allData$started_at)\n",
    "#can strip the month, day, and year using the format function\n",
    "allData$month <- format(allData$date, \"%m\")\n",
    "allData$day <- format(allData$date, \"%d\")\n",
    "allData$year <- format(allData$date, \"%Y\")\n",
    "allData$day_of_week <- format(allData$date, \"%A\")\n",
    "allData$hour <- hour(allData$started_at) #able to do this through the lubridate function\n",
    "\n",
    "#parsing datetime\n",
    "#allData$started_at <- as.POSIXct(allData$started_at, \"%Y-%m-%d %H:%M:%S\")\n",
    "#allData$ended_at <- as.POSIXct(allData$ended_at, \"%Y-%m-%d %H:%M:%S\")\n",
    "\n",
    "allDataClean <- allData[(!allData$start_station_name == \"\" & !allData$end_station_name == \"\"),]#took out all the rows that don't have a start and end location \n",
    "#calculate ride lengths and see if there are any zeros or lower\n",
    "allDataClean$trip_length <- as.numeric((allDataClean$ended_at - allDataClean$started_at) / 60)\n",
    "allDataClean <- subset(allDataClean, allDataClean$trip_length > 0) #removed the rows where trip_length was less than or equal to 0.\n"
   ]
  },
  {
   "cell_type": "code",
   "execution_count": 8,
   "id": "98c45274",
   "metadata": {
    "execution": {
     "iopub.execute_input": "2024-06-24T18:49:15.152700Z",
     "iopub.status.busy": "2024-06-24T18:49:15.150928Z",
     "iopub.status.idle": "2024-06-24T18:49:23.167342Z",
     "shell.execute_reply": "2024-06-24T18:49:23.165175Z"
    },
    "papermill": {
     "duration": 8.038464,
     "end_time": "2024-06-24T18:49:23.170282",
     "exception": false,
     "start_time": "2024-06-24T18:49:15.131818",
     "status": "completed"
    },
    "tags": []
   },
   "outputs": [
    {
     "name": "stdout",
     "output_type": "stream",
     "text": [
      "[1] \"1403309 rows were removed.\"\n"
     ]
    },
    {
     "data": {
      "text/plain": [
       "   ride_id          rideable_type        started_at                 \n",
       " Length:4335303     Length:4335303     Min.   :2023-05-01 00:00:33  \n",
       " Class :character   Class :character   1st Qu.:2023-07-06 17:13:21  \n",
       " Mode  :character   Mode  :character   Median :2023-09-01 16:26:37  \n",
       "                                       Mean   :2023-09-23 13:00:12  \n",
       "                                       3rd Qu.:2023-11-16 22:25:31  \n",
       "                                       Max.   :2024-04-30 23:58:22  \n",
       "    ended_at                   start_station_name end_station_name  \n",
       " Min.   :2023-05-01 00:04:28   Length:4335303     Length:4335303    \n",
       " 1st Qu.:2023-07-06 17:28:20   Class :character   Class :character  \n",
       " Median :2023-09-01 16:43:38   Mode  :character   Mode  :character  \n",
       " Mean   :2023-09-23 13:16:26                                        \n",
       " 3rd Qu.:2023-11-16 22:38:52                                        \n",
       " Max.   :2024-05-01 16:54:05                                        \n",
       " member_casual           date               month               day           \n",
       " Length:4335303     Min.   :2023-05-01   Length:4335303     Length:4335303    \n",
       " Class :character   1st Qu.:2023-07-06   Class :character   Class :character  \n",
       " Mode  :character   Median :2023-09-01   Mode  :character   Mode  :character  \n",
       "                    Mean   :2023-09-22                                        \n",
       "                    3rd Qu.:2023-11-16                                        \n",
       "                    Max.   :2024-04-30                                        \n",
       "     year           day_of_week             hour        trip_length       \n",
       " Length:4335303     Length:4335303     Min.   : 0.00   Min.   :    0.017  \n",
       " Class :character   Class :character   1st Qu.:11.00   1st Qu.:    5.717  \n",
       " Mode  :character   Mode  :character   Median :15.00   Median :    9.950  \n",
       "                                       Mean   :14.04   Mean   :   16.228  \n",
       "                                       3rd Qu.:18.00   3rd Qu.:   17.750  \n",
       "                                       Max.   :23.00   Max.   :12136.300  "
      ]
     },
     "metadata": {},
     "output_type": "display_data"
    },
    {
     "data": {
      "text/html": [
       "<table class=\"dataframe\">\n",
       "<caption>A data.frame: 4335303 × 14</caption>\n",
       "<thead>\n",
       "\t<tr><th></th><th scope=col>ride_id</th><th scope=col>rideable_type</th><th scope=col>started_at</th><th scope=col>ended_at</th><th scope=col>start_station_name</th><th scope=col>end_station_name</th><th scope=col>member_casual</th><th scope=col>date</th><th scope=col>month</th><th scope=col>day</th><th scope=col>year</th><th scope=col>day_of_week</th><th scope=col>hour</th><th scope=col>trip_length</th></tr>\n",
       "\t<tr><th></th><th scope=col>&lt;chr&gt;</th><th scope=col>&lt;chr&gt;</th><th scope=col>&lt;dttm&gt;</th><th scope=col>&lt;dttm&gt;</th><th scope=col>&lt;chr&gt;</th><th scope=col>&lt;chr&gt;</th><th scope=col>&lt;chr&gt;</th><th scope=col>&lt;date&gt;</th><th scope=col>&lt;chr&gt;</th><th scope=col>&lt;chr&gt;</th><th scope=col>&lt;chr&gt;</th><th scope=col>&lt;chr&gt;</th><th scope=col>&lt;int&gt;</th><th scope=col>&lt;dbl&gt;</th></tr>\n",
       "</thead>\n",
       "<tbody>\n",
       "\t<tr><th scope=row>4</th><td>DDEB93BC2CE9AA77</td><td>classic_bike </td><td>2023-05-10 16:47:01</td><td>2023-05-10 16:59:52</td><td><span style=white-space:pre-wrap>Carpenter St &amp; Huron St          </span></td><td><span style=white-space:pre-wrap>Damen Ave &amp; Cortland St        </span></td><td>member</td><td>2023-05-10</td><td>05</td><td>10</td><td>2023</td><td>Wednesday</td><td>16</td><td> 12.850000</td></tr>\n",
       "\t<tr><th scope=row>5</th><td>C07B70172FC92F59</td><td>classic_bike </td><td>2023-05-09 18:30:34</td><td>2023-05-09 18:39:28</td><td><span style=white-space:pre-wrap>Southport Ave &amp; Clark St         </span></td><td><span style=white-space:pre-wrap>Southport Ave &amp; Belmont Ave    </span></td><td>member</td><td>2023-05-09</td><td>05</td><td>09</td><td>2023</td><td><span style=white-space:pre-wrap>Tuesday  </span></td><td>18</td><td><span style=white-space:pre-wrap>  8.900000</span></td></tr>\n",
       "\t<tr><th scope=row>6</th><td>2BA66385DF8F815A</td><td>classic_bike </td><td>2023-05-30 15:01:21</td><td>2023-05-30 15:17:00</td><td><span style=white-space:pre-wrap>Clinton St &amp; Madison St          </span></td><td><span style=white-space:pre-wrap>McClurg Ct &amp; Ohio St           </span></td><td>member</td><td>2023-05-30</td><td>05</td><td>30</td><td>2023</td><td><span style=white-space:pre-wrap>Tuesday  </span></td><td>15</td><td> 15.650000</td></tr>\n",
       "\t<tr><th scope=row>7</th><td>31EFCCB05F12D8EF</td><td><span style=white-space:pre-wrap>docked_bike  </span></td><td>2023-05-09 14:13:40</td><td>2023-05-09 14:47:20</td><td>DuSable Lake Shore Dr &amp; Monroe St</td><td><span style=white-space:pre-wrap>Adler Planetarium              </span></td><td>casual</td><td>2023-05-09</td><td>05</td><td>09</td><td>2023</td><td><span style=white-space:pre-wrap>Tuesday  </span></td><td>14</td><td> 33.666667</td></tr>\n",
       "\t<tr><th scope=row>8</th><td>71DFF834E1D3CE0B</td><td>classic_bike </td><td>2023-05-06 16:47:22</td><td>2023-05-06 16:52:13</td><td><span style=white-space:pre-wrap>Shore Dr &amp; 55th St               </span></td><td><span style=white-space:pre-wrap>Harper Ave &amp; 59th St           </span></td><td>member</td><td>2023-05-06</td><td>05</td><td>06</td><td>2023</td><td>Saturday </td><td>16</td><td><span style=white-space:pre-wrap>  4.850000</span></td></tr>\n",
       "\t<tr><th scope=row>9</th><td>2117485899B4CEA4</td><td>classic_bike </td><td>2023-05-15 12:47:26</td><td>2023-05-15 13:00:05</td><td><span style=white-space:pre-wrap>Clark St &amp; Schiller St           </span></td><td><span style=white-space:pre-wrap>Franklin St &amp; Lake St          </span></td><td>member</td><td>2023-05-15</td><td>05</td><td>15</td><td>2023</td><td><span style=white-space:pre-wrap>Monday   </span></td><td>12</td><td> 12.650000</td></tr>\n",
       "\t<tr><th scope=row>10</th><td>811149F69AAE82DD</td><td>electric_bike</td><td>2023-05-19 05:44:26</td><td>2023-05-19 05:47:24</td><td><span style=white-space:pre-wrap>Clinton St &amp; Madison St          </span></td><td><span style=white-space:pre-wrap>Kingsbury St &amp; Kinzie St       </span></td><td>member</td><td>2023-05-19</td><td>05</td><td>19</td><td>2023</td><td><span style=white-space:pre-wrap>Friday   </span></td><td> 5</td><td><span style=white-space:pre-wrap>  2.966667</span></td></tr>\n",
       "\t<tr><th scope=row>11</th><td>D71F8A3BB45BDA05</td><td>classic_bike </td><td>2023-05-13 17:37:12</td><td>2023-05-13 17:43:27</td><td><span style=white-space:pre-wrap>Clinton St &amp; Madison St          </span></td><td><span style=white-space:pre-wrap>Kingsbury St &amp; Kinzie St       </span></td><td>member</td><td>2023-05-13</td><td>05</td><td>13</td><td>2023</td><td>Saturday </td><td>17</td><td><span style=white-space:pre-wrap>  6.250000</span></td></tr>\n",
       "\t<tr><th scope=row>12</th><td>B0E352E3CE2B6EE9</td><td>classic_bike </td><td>2023-05-05 06:28:09</td><td>2023-05-05 06:55:51</td><td><span style=white-space:pre-wrap>Clark St &amp; Schiller St           </span></td><td><span style=white-space:pre-wrap>Michigan Ave &amp; 8th St          </span></td><td>member</td><td>2023-05-05</td><td>05</td><td>05</td><td>2023</td><td><span style=white-space:pre-wrap>Friday   </span></td><td> 6</td><td> 27.700000</td></tr>\n",
       "\t<tr><th scope=row>13</th><td>1348715B463F6610</td><td>classic_bike </td><td>2023-05-15 06:37:34</td><td>2023-05-15 07:01:51</td><td><span style=white-space:pre-wrap>Clark St &amp; Schiller St           </span></td><td><span style=white-space:pre-wrap>Michigan Ave &amp; 8th St          </span></td><td>member</td><td>2023-05-15</td><td>05</td><td>15</td><td>2023</td><td><span style=white-space:pre-wrap>Monday   </span></td><td> 6</td><td> 24.283333</td></tr>\n",
       "\t<tr><th scope=row>14</th><td>22FD33836A76B947</td><td>classic_bike </td><td>2023-05-18 20:35:00</td><td>2023-05-18 20:47:51</td><td><span style=white-space:pre-wrap>Clark St &amp; Schiller St           </span></td><td><span style=white-space:pre-wrap>Larrabee St &amp; Division St      </span></td><td>member</td><td>2023-05-18</td><td>05</td><td>18</td><td>2023</td><td>Thursday </td><td>20</td><td> 12.850000</td></tr>\n",
       "\t<tr><th scope=row>15</th><td>A59A47089DBA82F4</td><td>electric_bike</td><td>2023-05-13 18:11:25</td><td>2023-05-13 18:42:47</td><td><span style=white-space:pre-wrap>Clinton St &amp; Madison St          </span></td><td><span style=white-space:pre-wrap>State St &amp; Randolph St         </span></td><td>casual</td><td>2023-05-13</td><td>05</td><td>13</td><td>2023</td><td>Saturday </td><td>18</td><td> 31.366667</td></tr>\n",
       "\t<tr><th scope=row>16</th><td>0604AB197D201117</td><td>electric_bike</td><td>2023-05-29 06:19:30</td><td>2023-05-29 06:39:50</td><td>DuSable Lake Shore Dr &amp; Monroe St</td><td><span style=white-space:pre-wrap>Michigan Ave &amp; Jackson Blvd    </span></td><td>casual</td><td>2023-05-29</td><td>05</td><td>29</td><td>2023</td><td><span style=white-space:pre-wrap>Monday   </span></td><td> 6</td><td> 20.333333</td></tr>\n",
       "\t<tr><th scope=row>17</th><td>AA261364E7500CD1</td><td>classic_bike </td><td>2023-05-29 17:08:05</td><td>2023-05-29 17:51:59</td><td><span style=white-space:pre-wrap>Ashland Ave &amp; Blackhawk St       </span></td><td><span style=white-space:pre-wrap>Stave St &amp; Armitage Ave        </span></td><td>member</td><td>2023-05-29</td><td>05</td><td>29</td><td>2023</td><td><span style=white-space:pre-wrap>Monday   </span></td><td>17</td><td> 43.900000</td></tr>\n",
       "\t<tr><th scope=row>18</th><td>6DB13FAE5B7A3673</td><td><span style=white-space:pre-wrap>docked_bike  </span></td><td>2023-05-28 20:16:34</td><td>2023-05-28 22:58:20</td><td>DuSable Lake Shore Dr &amp; Monroe St</td><td><span style=white-space:pre-wrap>Michigan Ave &amp; Jackson Blvd    </span></td><td>casual</td><td>2023-05-28</td><td>05</td><td>28</td><td>2023</td><td><span style=white-space:pre-wrap>Sunday   </span></td><td>20</td><td>161.766667</td></tr>\n",
       "\t<tr><th scope=row>19</th><td>B02E54E6F7E987CE</td><td>electric_bike</td><td>2023-05-18 13:10:29</td><td>2023-05-18 13:17:32</td><td><span style=white-space:pre-wrap>Benson Ave &amp; Church St           </span></td><td><span style=white-space:pre-wrap>Evanston Civic Center          </span></td><td>member</td><td>2023-05-18</td><td>05</td><td>18</td><td>2023</td><td>Thursday </td><td>13</td><td><span style=white-space:pre-wrap>  7.050000</span></td></tr>\n",
       "\t<tr><th scope=row>20</th><td>09732545D9374E17</td><td>classic_bike </td><td>2023-05-29 22:12:34</td><td>2023-05-29 22:29:37</td><td><span style=white-space:pre-wrap>Clifton Ave &amp; Armitage Ave       </span></td><td><span style=white-space:pre-wrap>Clark St &amp; Wellington Ave      </span></td><td>member</td><td>2023-05-29</td><td>05</td><td>29</td><td>2023</td><td><span style=white-space:pre-wrap>Monday   </span></td><td>22</td><td> 17.050000</td></tr>\n",
       "\t<tr><th scope=row>21</th><td>2A979757D6205BF8</td><td>electric_bike</td><td>2023-05-06 20:46:13</td><td>2023-05-06 20:57:38</td><td><span style=white-space:pre-wrap>Sedgwick St &amp; North Ave          </span></td><td><span style=white-space:pre-wrap>Halsted St &amp; Roscoe St         </span></td><td>member</td><td>2023-05-06</td><td>05</td><td>06</td><td>2023</td><td>Saturday </td><td>20</td><td> 11.416667</td></tr>\n",
       "\t<tr><th scope=row>22</th><td>2471A931E49C9577</td><td>classic_bike </td><td>2023-05-26 18:41:13</td><td>2023-05-26 19:01:24</td><td><span style=white-space:pre-wrap>Broadway &amp; Belmont Ave           </span></td><td><span style=white-space:pre-wrap>Halsted St &amp; Roscoe St         </span></td><td>member</td><td>2023-05-26</td><td>05</td><td>26</td><td>2023</td><td><span style=white-space:pre-wrap>Friday   </span></td><td>18</td><td> 20.183333</td></tr>\n",
       "\t<tr><th scope=row>23</th><td>7A3C84F9FDC88B8A</td><td>classic_bike </td><td>2023-05-23 13:44:35</td><td>2023-05-23 13:59:36</td><td><span style=white-space:pre-wrap>Spaulding Ave &amp; Armitage Ave     </span></td><td><span style=white-space:pre-wrap>Walsh Park                     </span></td><td>member</td><td>2023-05-23</td><td>05</td><td>23</td><td>2023</td><td><span style=white-space:pre-wrap>Tuesday  </span></td><td>13</td><td> 15.016667</td></tr>\n",
       "\t<tr><th scope=row>24</th><td>08E60474BB77A09F</td><td>classic_bike </td><td>2023-05-30 20:35:26</td><td>2023-05-30 20:39:35</td><td><span style=white-space:pre-wrap>LaSalle St &amp; Illinois St         </span></td><td><span style=white-space:pre-wrap>Wabash Ave &amp; Grand Ave         </span></td><td>member</td><td>2023-05-30</td><td>05</td><td>30</td><td>2023</td><td><span style=white-space:pre-wrap>Tuesday  </span></td><td>20</td><td><span style=white-space:pre-wrap>  4.150000</span></td></tr>\n",
       "\t<tr><th scope=row>25</th><td>7EE50FF1E3B1160A</td><td>electric_bike</td><td>2023-05-28 21:53:01</td><td>2023-05-28 22:05:33</td><td><span style=white-space:pre-wrap>Troy St &amp; North Ave              </span></td><td><span style=white-space:pre-wrap>Milwaukee Ave &amp; Fullerton Ave  </span></td><td>member</td><td>2023-05-28</td><td>05</td><td>28</td><td>2023</td><td><span style=white-space:pre-wrap>Sunday   </span></td><td>21</td><td> 12.533333</td></tr>\n",
       "\t<tr><th scope=row>26</th><td>C7455E1721AA4064</td><td><span style=white-space:pre-wrap>docked_bike  </span></td><td>2023-05-27 11:14:09</td><td>2023-05-27 11:41:23</td><td>DuSable Lake Shore Dr &amp; Monroe St</td><td><span style=white-space:pre-wrap>Michigan Ave &amp; Washington St   </span></td><td>casual</td><td>2023-05-27</td><td>05</td><td>27</td><td>2023</td><td>Saturday </td><td>11</td><td> 27.233333</td></tr>\n",
       "\t<tr><th scope=row>27</th><td>3EE3C51D01AF833E</td><td>classic_bike </td><td>2023-05-18 08:39:49</td><td>2023-05-18 08:48:48</td><td><span style=white-space:pre-wrap>Clinton St &amp; Madison St          </span></td><td><span style=white-space:pre-wrap>Franklin St &amp; Chicago Ave      </span></td><td>member</td><td>2023-05-18</td><td>05</td><td>18</td><td>2023</td><td>Thursday </td><td> 8</td><td><span style=white-space:pre-wrap>  8.983333</span></td></tr>\n",
       "\t<tr><th scope=row>28</th><td>8706010AD2367F04</td><td>classic_bike </td><td>2023-05-09 10:26:45</td><td>2023-05-09 10:34:08</td><td><span style=white-space:pre-wrap>Clinton St &amp; Madison St          </span></td><td><span style=white-space:pre-wrap>Michigan Ave &amp; Washington St   </span></td><td>member</td><td>2023-05-09</td><td>05</td><td>09</td><td>2023</td><td><span style=white-space:pre-wrap>Tuesday  </span></td><td>10</td><td><span style=white-space:pre-wrap>  7.383333</span></td></tr>\n",
       "\t<tr><th scope=row>29</th><td>68DA3F41B67D2B2D</td><td>electric_bike</td><td>2023-05-13 16:11:36</td><td>2023-05-13 17:00:02</td><td>DuSable Lake Shore Dr &amp; Monroe St</td><td>Lakefront Trail &amp; Bryn Mawr Ave</td><td>casual</td><td>2023-05-13</td><td>05</td><td>13</td><td>2023</td><td>Saturday </td><td>16</td><td> 48.433333</td></tr>\n",
       "\t<tr><th scope=row>30</th><td>D97B7202D327A6F9</td><td>electric_bike</td><td>2023-05-18 21:31:29</td><td>2023-05-18 21:43:15</td><td><span style=white-space:pre-wrap>Clark St &amp; Schiller St           </span></td><td><span style=white-space:pre-wrap>Clark St &amp; Wrightwood Ave      </span></td><td>member</td><td>2023-05-18</td><td>05</td><td>18</td><td>2023</td><td>Thursday </td><td>21</td><td> 11.766667</td></tr>\n",
       "\t<tr><th scope=row>31</th><td>E8D982A6E865D5E5</td><td>classic_bike </td><td>2023-05-10 08:28:14</td><td>2023-05-10 08:41:45</td><td><span style=white-space:pre-wrap>Carpenter St &amp; Huron St          </span></td><td><span style=white-space:pre-wrap>Canal St &amp; Jackson Blvd        </span></td><td>member</td><td>2023-05-10</td><td>05</td><td>10</td><td>2023</td><td>Wednesday</td><td> 8</td><td> 13.516667</td></tr>\n",
       "\t<tr><th scope=row>32</th><td>E7365FF30A17CBDA</td><td>classic_bike </td><td>2023-05-26 06:35:02</td><td>2023-05-26 06:58:12</td><td><span style=white-space:pre-wrap>Shore Dr &amp; 55th St               </span></td><td><span style=white-space:pre-wrap>Cottage Grove Ave &amp; 63rd St    </span></td><td>member</td><td>2023-05-26</td><td>05</td><td>26</td><td>2023</td><td><span style=white-space:pre-wrap>Friday   </span></td><td> 6</td><td> 23.166667</td></tr>\n",
       "\t<tr><th scope=row>33</th><td>C6E532697FDA66F0</td><td>electric_bike</td><td>2023-05-21 15:56:00</td><td>2023-05-21 16:00:36</td><td><span style=white-space:pre-wrap>Spaulding Ave &amp; Armitage Ave     </span></td><td><span style=white-space:pre-wrap>St. Louis Ave &amp; Fullerton Ave  </span></td><td>member</td><td>2023-05-21</td><td>05</td><td>21</td><td>2023</td><td><span style=white-space:pre-wrap>Sunday   </span></td><td>15</td><td><span style=white-space:pre-wrap>  4.600000</span></td></tr>\n",
       "\t<tr><th scope=row>⋮</th><td>⋮</td><td>⋮</td><td>⋮</td><td>⋮</td><td>⋮</td><td>⋮</td><td>⋮</td><td>⋮</td><td>⋮</td><td>⋮</td><td>⋮</td><td>⋮</td><td>⋮</td><td>⋮</td></tr>\n",
       "\t<tr><th scope=row>5737964</th><td>5071F3E9D6D0CA73</td><td>electric_bike</td><td>2024-04-14 11:49:16</td><td>2024-04-14 12:33:49</td><td><span style=white-space:pre-wrap>Michigan Ave &amp; 14th St      </span></td><td>California Ave &amp; Milwaukee Ave</td><td>member</td><td>2024-04-14</td><td>04</td><td>14</td><td>2024</td><td><span style=white-space:pre-wrap>Sunday   </span></td><td>11</td><td>44.550000</td></tr>\n",
       "\t<tr><th scope=row>5737991</th><td>8DCFE65D5ADC30C9</td><td>electric_bike</td><td>2024-04-17 18:04:06</td><td>2024-04-17 18:15:03</td><td>Clinton St &amp; Washington Blvd</td><td><span style=white-space:pre-wrap>Wood St &amp; Chicago Ave         </span></td><td>member</td><td>2024-04-17</td><td>04</td><td>17</td><td>2024</td><td>Wednesday</td><td>18</td><td>10.950000</td></tr>\n",
       "\t<tr><th scope=row>5737995</th><td>0D4E4FDDD7B07CF5</td><td>classic_bike </td><td>2024-04-12 00:31:38</td><td>2024-04-12 00:40:51</td><td><span style=white-space:pre-wrap>Leavitt St &amp; Addison St     </span></td><td><span style=white-space:pre-wrap>Western Ave &amp; Roscoe St       </span></td><td>member</td><td>2024-04-12</td><td>04</td><td>12</td><td>2024</td><td><span style=white-space:pre-wrap>Friday   </span></td><td> 0</td><td> 9.216667</td></tr>\n",
       "\t<tr><th scope=row>5738008</th><td>C5802ECA93244E0D</td><td>electric_bike</td><td>2024-04-10 18:08:05</td><td>2024-04-10 18:39:18</td><td><span style=white-space:pre-wrap>Fairbanks Ct &amp; Grand Ave    </span></td><td>California Ave &amp; Milwaukee Ave</td><td>member</td><td>2024-04-10</td><td>04</td><td>10</td><td>2024</td><td>Wednesday</td><td>18</td><td>31.216667</td></tr>\n",
       "\t<tr><th scope=row>5738025</th><td>EE10C427ED4F128B</td><td>electric_bike</td><td>2024-04-11 18:12:33</td><td>2024-04-11 18:31:34</td><td><span style=white-space:pre-wrap>Clark St &amp; 9th St (AMLI)    </span></td><td><span style=white-space:pre-wrap>Wood St &amp; Chicago Ave         </span></td><td>member</td><td>2024-04-11</td><td>04</td><td>11</td><td>2024</td><td>Thursday </td><td>18</td><td>19.016667</td></tr>\n",
       "\t<tr><th scope=row>5738054</th><td>1DCE899055771296</td><td>electric_bike</td><td>2024-04-14 11:49:12</td><td>2024-04-14 12:33:45</td><td><span style=white-space:pre-wrap>Michigan Ave &amp; 14th St      </span></td><td>California Ave &amp; Milwaukee Ave</td><td>member</td><td>2024-04-14</td><td>04</td><td>14</td><td>2024</td><td><span style=white-space:pre-wrap>Sunday   </span></td><td>11</td><td>44.550000</td></tr>\n",
       "\t<tr><th scope=row>5738096</th><td>6A8210EAE35174A6</td><td>classic_bike </td><td>2024-04-27 20:52:47</td><td>2024-04-27 20:59:51</td><td><span style=white-space:pre-wrap>Leavitt St &amp; Addison St     </span></td><td><span style=white-space:pre-wrap>Western Ave &amp; Roscoe St       </span></td><td>casual</td><td>2024-04-27</td><td>04</td><td>27</td><td>2024</td><td>Saturday </td><td>20</td><td> 7.066667</td></tr>\n",
       "\t<tr><th scope=row>5738097</th><td>383A6EDB9466BACB</td><td>classic_bike </td><td>2024-04-28 00:03:26</td><td>2024-04-28 00:12:14</td><td><span style=white-space:pre-wrap>California Ave &amp; Cortez St  </span></td><td>California Ave &amp; Milwaukee Ave</td><td>casual</td><td>2024-04-28</td><td>04</td><td>28</td><td>2024</td><td><span style=white-space:pre-wrap>Sunday   </span></td><td> 0</td><td> 8.800000</td></tr>\n",
       "\t<tr><th scope=row>5738098</th><td>792A192FF8694960</td><td>classic_bike </td><td>2024-04-27 20:53:00</td><td>2024-04-27 20:59:38</td><td><span style=white-space:pre-wrap>Leavitt St &amp; Addison St     </span></td><td><span style=white-space:pre-wrap>Western Ave &amp; Roscoe St       </span></td><td>casual</td><td>2024-04-27</td><td>04</td><td>27</td><td>2024</td><td>Saturday </td><td>20</td><td> 6.633333</td></tr>\n",
       "\t<tr><th scope=row>5738107</th><td>22D54FFD770ED9D7</td><td>electric_bike</td><td>2024-04-25 06:43:44</td><td>2024-04-25 07:08:00</td><td><span style=white-space:pre-wrap>California Ave &amp; Cortez St  </span></td><td><span style=white-space:pre-wrap>California Ave &amp; Division St  </span></td><td>member</td><td>2024-04-25</td><td>04</td><td>25</td><td>2024</td><td>Thursday </td><td> 6</td><td>24.266667</td></tr>\n",
       "\t<tr><th scope=row>5738114</th><td>A73A3C8381B43403</td><td>classic_bike </td><td>2024-04-12 08:36:46</td><td>2024-04-12 08:45:34</td><td><span style=white-space:pre-wrap>California Ave &amp; Cortez St  </span></td><td>California Ave &amp; Milwaukee Ave</td><td>member</td><td>2024-04-12</td><td>04</td><td>12</td><td>2024</td><td><span style=white-space:pre-wrap>Friday   </span></td><td> 8</td><td> 8.800000</td></tr>\n",
       "\t<tr><th scope=row>5738119</th><td>95344091DEF0C011</td><td>electric_bike</td><td>2024-04-11 17:53:10</td><td>2024-04-11 18:07:59</td><td><span style=white-space:pre-wrap>Leavitt St &amp; Addison St     </span></td><td>California Ave &amp; Milwaukee Ave</td><td>member</td><td>2024-04-11</td><td>04</td><td>11</td><td>2024</td><td>Thursday </td><td>17</td><td>14.816667</td></tr>\n",
       "\t<tr><th scope=row>5738165</th><td>4A76B0B26BA13EBE</td><td>electric_bike</td><td>2024-04-27 14:16:10</td><td>2024-04-27 14:28:59</td><td>Clinton St &amp; Washington Blvd</td><td><span style=white-space:pre-wrap>Wood St &amp; Chicago Ave         </span></td><td>casual</td><td>2024-04-27</td><td>04</td><td>27</td><td>2024</td><td>Saturday </td><td>14</td><td>12.816667</td></tr>\n",
       "\t<tr><th scope=row>5738200</th><td>C43AFD7D28FE14D0</td><td>electric_bike</td><td>2024-04-02 18:46:53</td><td>2024-04-02 18:55:45</td><td>Clinton St &amp; Washington Blvd</td><td><span style=white-space:pre-wrap>Wood St &amp; Chicago Ave         </span></td><td>member</td><td>2024-04-02</td><td>04</td><td>02</td><td>2024</td><td><span style=white-space:pre-wrap>Tuesday  </span></td><td>18</td><td> 8.866667</td></tr>\n",
       "\t<tr><th scope=row>5738239</th><td>9EF7DBF34D06ADFC</td><td>classic_bike </td><td>2024-04-27 20:52:16</td><td>2024-04-27 20:59:48</td><td><span style=white-space:pre-wrap>Leavitt St &amp; Addison St     </span></td><td><span style=white-space:pre-wrap>Western Ave &amp; Roscoe St       </span></td><td>casual</td><td>2024-04-27</td><td>04</td><td>27</td><td>2024</td><td>Saturday </td><td>20</td><td> 7.533333</td></tr>\n",
       "\t<tr><th scope=row>5738241</th><td>A55BBDEA8801DF2B</td><td>classic_bike </td><td>2024-04-28 00:04:08</td><td>2024-04-28 00:12:12</td><td><span style=white-space:pre-wrap>California Ave &amp; Cortez St  </span></td><td>California Ave &amp; Milwaukee Ave</td><td>casual</td><td>2024-04-28</td><td>04</td><td>28</td><td>2024</td><td><span style=white-space:pre-wrap>Sunday   </span></td><td> 0</td><td> 8.066667</td></tr>\n",
       "\t<tr><th scope=row>5738243</th><td>4436CB785CD773F7</td><td>electric_bike</td><td>2024-04-24 16:45:06</td><td>2024-04-24 16:53:14</td><td><span style=white-space:pre-wrap>California Ave &amp; Cortez St  </span></td><td><span style=white-space:pre-wrap>Wood St &amp; Chicago Ave         </span></td><td>casual</td><td>2024-04-24</td><td>04</td><td>24</td><td>2024</td><td>Wednesday</td><td>16</td><td> 8.133333</td></tr>\n",
       "\t<tr><th scope=row>5738283</th><td>7C99ACB892B8289B</td><td>classic_bike </td><td>2024-04-30 17:50:27</td><td>2024-04-30 18:29:27</td><td>Clinton St &amp; Washington Blvd</td><td><span style=white-space:pre-wrap>Campbell Ave &amp; Montrose Ave   </span></td><td>member</td><td>2024-04-30</td><td>04</td><td>30</td><td>2024</td><td><span style=white-space:pre-wrap>Tuesday  </span></td><td>17</td><td>39.000000</td></tr>\n",
       "\t<tr><th scope=row>5738288</th><td>4B3A22621BAEA218</td><td>classic_bike </td><td>2024-04-15 09:28:02</td><td>2024-04-15 09:39:34</td><td><span style=white-space:pre-wrap>California Ave &amp; Cortez St  </span></td><td><span style=white-space:pre-wrap>Kedzie Ave &amp; Lake St          </span></td><td>member</td><td>2024-04-15</td><td>04</td><td>15</td><td>2024</td><td><span style=white-space:pre-wrap>Monday   </span></td><td> 9</td><td>11.533333</td></tr>\n",
       "\t<tr><th scope=row>5738319</th><td>FB7715517FCCFE18</td><td>classic_bike </td><td>2024-04-08 18:24:31</td><td>2024-04-08 18:39:16</td><td>Clinton St &amp; Washington Blvd</td><td><span style=white-space:pre-wrap>Wood St &amp; Chicago Ave         </span></td><td>casual</td><td>2024-04-08</td><td>04</td><td>08</td><td>2024</td><td><span style=white-space:pre-wrap>Monday   </span></td><td>18</td><td>14.750000</td></tr>\n",
       "\t<tr><th scope=row>5738338</th><td>FB8B5AD4F79CAD92</td><td>classic_bike </td><td>2024-04-27 17:17:00</td><td>2024-04-27 17:38:54</td><td><span style=white-space:pre-wrap>Clark St &amp; Lincoln Ave      </span></td><td>California Ave &amp; Milwaukee Ave</td><td>casual</td><td>2024-04-27</td><td>04</td><td>27</td><td>2024</td><td>Saturday </td><td>17</td><td>21.900000</td></tr>\n",
       "\t<tr><th scope=row>5738397</th><td>3F33E1EE4AE49488</td><td>electric_bike</td><td>2024-04-05 21:00:16</td><td>2024-04-05 21:02:39</td><td><span style=white-space:pre-wrap>California Ave &amp; Cortez St  </span></td><td><span style=white-space:pre-wrap>California Ave &amp; Division St  </span></td><td>member</td><td>2024-04-05</td><td>04</td><td>05</td><td>2024</td><td><span style=white-space:pre-wrap>Friday   </span></td><td>21</td><td> 2.383333</td></tr>\n",
       "\t<tr><th scope=row>5738421</th><td>14C2493FDCC8DB09</td><td>classic_bike </td><td>2024-04-16 16:12:47</td><td>2024-04-16 16:37:43</td><td>Clinton St &amp; Washington Blvd</td><td>California Ave &amp; Milwaukee Ave</td><td>member</td><td>2024-04-16</td><td>04</td><td>16</td><td>2024</td><td><span style=white-space:pre-wrap>Tuesday  </span></td><td>16</td><td>24.933333</td></tr>\n",
       "\t<tr><th scope=row>5738426</th><td>116A5F5E8DF68CAC</td><td>electric_bike</td><td>2024-04-25 18:09:00</td><td>2024-04-25 18:16:08</td><td><span style=white-space:pre-wrap>California Ave &amp; Cortez St  </span></td><td>California Ave &amp; Milwaukee Ave</td><td>member</td><td>2024-04-25</td><td>04</td><td>25</td><td>2024</td><td>Thursday </td><td>18</td><td> 7.133333</td></tr>\n",
       "\t<tr><th scope=row>5738449</th><td>D2962E716B35E393</td><td>electric_bike</td><td>2024-04-22 20:52:49</td><td>2024-04-22 20:59:55</td><td><span style=white-space:pre-wrap>California Ave &amp; Cortez St  </span></td><td>California Ave &amp; Milwaukee Ave</td><td>casual</td><td>2024-04-22</td><td>04</td><td>22</td><td>2024</td><td><span style=white-space:pre-wrap>Monday   </span></td><td>20</td><td> 7.100000</td></tr>\n",
       "\t<tr><th scope=row>5738450</th><td>9CAD5CA1DA4AC50C</td><td>classic_bike </td><td>2024-04-22 21:05:10</td><td>2024-04-22 21:16:31</td><td><span style=white-space:pre-wrap>California Ave &amp; Cortez St  </span></td><td>California Ave &amp; Milwaukee Ave</td><td>casual</td><td>2024-04-22</td><td>04</td><td>22</td><td>2024</td><td><span style=white-space:pre-wrap>Monday   </span></td><td>21</td><td>11.350000</td></tr>\n",
       "\t<tr><th scope=row>5738459</th><td>AD91174811F39262</td><td>electric_bike</td><td>2024-04-08 10:28:17</td><td>2024-04-08 10:43:25</td><td><span style=white-space:pre-wrap>Leavitt St &amp; Addison St     </span></td><td><span style=white-space:pre-wrap>Campbell Ave &amp; Montrose Ave   </span></td><td>member</td><td>2024-04-08</td><td>04</td><td>08</td><td>2024</td><td><span style=white-space:pre-wrap>Monday   </span></td><td>10</td><td>15.133333</td></tr>\n",
       "\t<tr><th scope=row>5738575</th><td>9771E1C1AEEDCB9F</td><td>electric_bike</td><td>2024-04-26 20:34:14</td><td>2024-04-26 20:39:48</td><td><span style=white-space:pre-wrap>California Ave &amp; Cortez St  </span></td><td>California Ave &amp; Milwaukee Ave</td><td>member</td><td>2024-04-26</td><td>04</td><td>26</td><td>2024</td><td><span style=white-space:pre-wrap>Friday   </span></td><td>20</td><td> 5.566667</td></tr>\n",
       "\t<tr><th scope=row>5738578</th><td>0B583B099760D2BC</td><td>electric_bike</td><td>2024-04-09 07:31:56</td><td>2024-04-09 07:41:43</td><td><span style=white-space:pre-wrap>California Ave &amp; Cortez St  </span></td><td>California Ave &amp; Milwaukee Ave</td><td>member</td><td>2024-04-09</td><td>04</td><td>09</td><td>2024</td><td><span style=white-space:pre-wrap>Tuesday  </span></td><td> 7</td><td> 9.783333</td></tr>\n",
       "\t<tr><th scope=row>5738609</th><td>50A275230D6C0492</td><td>classic_bike </td><td>2024-04-01 19:03:43</td><td>2024-04-01 19:13:16</td><td><span style=white-space:pre-wrap>California Ave &amp; Cortez St  </span></td><td>California Ave &amp; Milwaukee Ave</td><td>member</td><td>2024-04-01</td><td>04</td><td>01</td><td>2024</td><td><span style=white-space:pre-wrap>Monday   </span></td><td>19</td><td> 9.550000</td></tr>\n",
       "</tbody>\n",
       "</table>\n"
      ],
      "text/latex": [
       "A data.frame: 4335303 × 14\n",
       "\\begin{tabular}{r|llllllllllllll}\n",
       "  & ride\\_id & rideable\\_type & started\\_at & ended\\_at & start\\_station\\_name & end\\_station\\_name & member\\_casual & date & month & day & year & day\\_of\\_week & hour & trip\\_length\\\\\n",
       "  & <chr> & <chr> & <dttm> & <dttm> & <chr> & <chr> & <chr> & <date> & <chr> & <chr> & <chr> & <chr> & <int> & <dbl>\\\\\n",
       "\\hline\n",
       "\t4 & DDEB93BC2CE9AA77 & classic\\_bike  & 2023-05-10 16:47:01 & 2023-05-10 16:59:52 & Carpenter St \\& Huron St           & Damen Ave \\& Cortland St         & member & 2023-05-10 & 05 & 10 & 2023 & Wednesday & 16 &  12.850000\\\\\n",
       "\t5 & C07B70172FC92F59 & classic\\_bike  & 2023-05-09 18:30:34 & 2023-05-09 18:39:28 & Southport Ave \\& Clark St          & Southport Ave \\& Belmont Ave     & member & 2023-05-09 & 05 & 09 & 2023 & Tuesday   & 18 &   8.900000\\\\\n",
       "\t6 & 2BA66385DF8F815A & classic\\_bike  & 2023-05-30 15:01:21 & 2023-05-30 15:17:00 & Clinton St \\& Madison St           & McClurg Ct \\& Ohio St            & member & 2023-05-30 & 05 & 30 & 2023 & Tuesday   & 15 &  15.650000\\\\\n",
       "\t7 & 31EFCCB05F12D8EF & docked\\_bike   & 2023-05-09 14:13:40 & 2023-05-09 14:47:20 & DuSable Lake Shore Dr \\& Monroe St & Adler Planetarium               & casual & 2023-05-09 & 05 & 09 & 2023 & Tuesday   & 14 &  33.666667\\\\\n",
       "\t8 & 71DFF834E1D3CE0B & classic\\_bike  & 2023-05-06 16:47:22 & 2023-05-06 16:52:13 & Shore Dr \\& 55th St                & Harper Ave \\& 59th St            & member & 2023-05-06 & 05 & 06 & 2023 & Saturday  & 16 &   4.850000\\\\\n",
       "\t9 & 2117485899B4CEA4 & classic\\_bike  & 2023-05-15 12:47:26 & 2023-05-15 13:00:05 & Clark St \\& Schiller St            & Franklin St \\& Lake St           & member & 2023-05-15 & 05 & 15 & 2023 & Monday    & 12 &  12.650000\\\\\n",
       "\t10 & 811149F69AAE82DD & electric\\_bike & 2023-05-19 05:44:26 & 2023-05-19 05:47:24 & Clinton St \\& Madison St           & Kingsbury St \\& Kinzie St        & member & 2023-05-19 & 05 & 19 & 2023 & Friday    &  5 &   2.966667\\\\\n",
       "\t11 & D71F8A3BB45BDA05 & classic\\_bike  & 2023-05-13 17:37:12 & 2023-05-13 17:43:27 & Clinton St \\& Madison St           & Kingsbury St \\& Kinzie St        & member & 2023-05-13 & 05 & 13 & 2023 & Saturday  & 17 &   6.250000\\\\\n",
       "\t12 & B0E352E3CE2B6EE9 & classic\\_bike  & 2023-05-05 06:28:09 & 2023-05-05 06:55:51 & Clark St \\& Schiller St            & Michigan Ave \\& 8th St           & member & 2023-05-05 & 05 & 05 & 2023 & Friday    &  6 &  27.700000\\\\\n",
       "\t13 & 1348715B463F6610 & classic\\_bike  & 2023-05-15 06:37:34 & 2023-05-15 07:01:51 & Clark St \\& Schiller St            & Michigan Ave \\& 8th St           & member & 2023-05-15 & 05 & 15 & 2023 & Monday    &  6 &  24.283333\\\\\n",
       "\t14 & 22FD33836A76B947 & classic\\_bike  & 2023-05-18 20:35:00 & 2023-05-18 20:47:51 & Clark St \\& Schiller St            & Larrabee St \\& Division St       & member & 2023-05-18 & 05 & 18 & 2023 & Thursday  & 20 &  12.850000\\\\\n",
       "\t15 & A59A47089DBA82F4 & electric\\_bike & 2023-05-13 18:11:25 & 2023-05-13 18:42:47 & Clinton St \\& Madison St           & State St \\& Randolph St          & casual & 2023-05-13 & 05 & 13 & 2023 & Saturday  & 18 &  31.366667\\\\\n",
       "\t16 & 0604AB197D201117 & electric\\_bike & 2023-05-29 06:19:30 & 2023-05-29 06:39:50 & DuSable Lake Shore Dr \\& Monroe St & Michigan Ave \\& Jackson Blvd     & casual & 2023-05-29 & 05 & 29 & 2023 & Monday    &  6 &  20.333333\\\\\n",
       "\t17 & AA261364E7500CD1 & classic\\_bike  & 2023-05-29 17:08:05 & 2023-05-29 17:51:59 & Ashland Ave \\& Blackhawk St        & Stave St \\& Armitage Ave         & member & 2023-05-29 & 05 & 29 & 2023 & Monday    & 17 &  43.900000\\\\\n",
       "\t18 & 6DB13FAE5B7A3673 & docked\\_bike   & 2023-05-28 20:16:34 & 2023-05-28 22:58:20 & DuSable Lake Shore Dr \\& Monroe St & Michigan Ave \\& Jackson Blvd     & casual & 2023-05-28 & 05 & 28 & 2023 & Sunday    & 20 & 161.766667\\\\\n",
       "\t19 & B02E54E6F7E987CE & electric\\_bike & 2023-05-18 13:10:29 & 2023-05-18 13:17:32 & Benson Ave \\& Church St            & Evanston Civic Center           & member & 2023-05-18 & 05 & 18 & 2023 & Thursday  & 13 &   7.050000\\\\\n",
       "\t20 & 09732545D9374E17 & classic\\_bike  & 2023-05-29 22:12:34 & 2023-05-29 22:29:37 & Clifton Ave \\& Armitage Ave        & Clark St \\& Wellington Ave       & member & 2023-05-29 & 05 & 29 & 2023 & Monday    & 22 &  17.050000\\\\\n",
       "\t21 & 2A979757D6205BF8 & electric\\_bike & 2023-05-06 20:46:13 & 2023-05-06 20:57:38 & Sedgwick St \\& North Ave           & Halsted St \\& Roscoe St          & member & 2023-05-06 & 05 & 06 & 2023 & Saturday  & 20 &  11.416667\\\\\n",
       "\t22 & 2471A931E49C9577 & classic\\_bike  & 2023-05-26 18:41:13 & 2023-05-26 19:01:24 & Broadway \\& Belmont Ave            & Halsted St \\& Roscoe St          & member & 2023-05-26 & 05 & 26 & 2023 & Friday    & 18 &  20.183333\\\\\n",
       "\t23 & 7A3C84F9FDC88B8A & classic\\_bike  & 2023-05-23 13:44:35 & 2023-05-23 13:59:36 & Spaulding Ave \\& Armitage Ave      & Walsh Park                      & member & 2023-05-23 & 05 & 23 & 2023 & Tuesday   & 13 &  15.016667\\\\\n",
       "\t24 & 08E60474BB77A09F & classic\\_bike  & 2023-05-30 20:35:26 & 2023-05-30 20:39:35 & LaSalle St \\& Illinois St          & Wabash Ave \\& Grand Ave          & member & 2023-05-30 & 05 & 30 & 2023 & Tuesday   & 20 &   4.150000\\\\\n",
       "\t25 & 7EE50FF1E3B1160A & electric\\_bike & 2023-05-28 21:53:01 & 2023-05-28 22:05:33 & Troy St \\& North Ave               & Milwaukee Ave \\& Fullerton Ave   & member & 2023-05-28 & 05 & 28 & 2023 & Sunday    & 21 &  12.533333\\\\\n",
       "\t26 & C7455E1721AA4064 & docked\\_bike   & 2023-05-27 11:14:09 & 2023-05-27 11:41:23 & DuSable Lake Shore Dr \\& Monroe St & Michigan Ave \\& Washington St    & casual & 2023-05-27 & 05 & 27 & 2023 & Saturday  & 11 &  27.233333\\\\\n",
       "\t27 & 3EE3C51D01AF833E & classic\\_bike  & 2023-05-18 08:39:49 & 2023-05-18 08:48:48 & Clinton St \\& Madison St           & Franklin St \\& Chicago Ave       & member & 2023-05-18 & 05 & 18 & 2023 & Thursday  &  8 &   8.983333\\\\\n",
       "\t28 & 8706010AD2367F04 & classic\\_bike  & 2023-05-09 10:26:45 & 2023-05-09 10:34:08 & Clinton St \\& Madison St           & Michigan Ave \\& Washington St    & member & 2023-05-09 & 05 & 09 & 2023 & Tuesday   & 10 &   7.383333\\\\\n",
       "\t29 & 68DA3F41B67D2B2D & electric\\_bike & 2023-05-13 16:11:36 & 2023-05-13 17:00:02 & DuSable Lake Shore Dr \\& Monroe St & Lakefront Trail \\& Bryn Mawr Ave & casual & 2023-05-13 & 05 & 13 & 2023 & Saturday  & 16 &  48.433333\\\\\n",
       "\t30 & D97B7202D327A6F9 & electric\\_bike & 2023-05-18 21:31:29 & 2023-05-18 21:43:15 & Clark St \\& Schiller St            & Clark St \\& Wrightwood Ave       & member & 2023-05-18 & 05 & 18 & 2023 & Thursday  & 21 &  11.766667\\\\\n",
       "\t31 & E8D982A6E865D5E5 & classic\\_bike  & 2023-05-10 08:28:14 & 2023-05-10 08:41:45 & Carpenter St \\& Huron St           & Canal St \\& Jackson Blvd         & member & 2023-05-10 & 05 & 10 & 2023 & Wednesday &  8 &  13.516667\\\\\n",
       "\t32 & E7365FF30A17CBDA & classic\\_bike  & 2023-05-26 06:35:02 & 2023-05-26 06:58:12 & Shore Dr \\& 55th St                & Cottage Grove Ave \\& 63rd St     & member & 2023-05-26 & 05 & 26 & 2023 & Friday    &  6 &  23.166667\\\\\n",
       "\t33 & C6E532697FDA66F0 & electric\\_bike & 2023-05-21 15:56:00 & 2023-05-21 16:00:36 & Spaulding Ave \\& Armitage Ave      & St. Louis Ave \\& Fullerton Ave   & member & 2023-05-21 & 05 & 21 & 2023 & Sunday    & 15 &   4.600000\\\\\n",
       "\t⋮ & ⋮ & ⋮ & ⋮ & ⋮ & ⋮ & ⋮ & ⋮ & ⋮ & ⋮ & ⋮ & ⋮ & ⋮ & ⋮ & ⋮\\\\\n",
       "\t5737964 & 5071F3E9D6D0CA73 & electric\\_bike & 2024-04-14 11:49:16 & 2024-04-14 12:33:49 & Michigan Ave \\& 14th St       & California Ave \\& Milwaukee Ave & member & 2024-04-14 & 04 & 14 & 2024 & Sunday    & 11 & 44.550000\\\\\n",
       "\t5737991 & 8DCFE65D5ADC30C9 & electric\\_bike & 2024-04-17 18:04:06 & 2024-04-17 18:15:03 & Clinton St \\& Washington Blvd & Wood St \\& Chicago Ave          & member & 2024-04-17 & 04 & 17 & 2024 & Wednesday & 18 & 10.950000\\\\\n",
       "\t5737995 & 0D4E4FDDD7B07CF5 & classic\\_bike  & 2024-04-12 00:31:38 & 2024-04-12 00:40:51 & Leavitt St \\& Addison St      & Western Ave \\& Roscoe St        & member & 2024-04-12 & 04 & 12 & 2024 & Friday    &  0 &  9.216667\\\\\n",
       "\t5738008 & C5802ECA93244E0D & electric\\_bike & 2024-04-10 18:08:05 & 2024-04-10 18:39:18 & Fairbanks Ct \\& Grand Ave     & California Ave \\& Milwaukee Ave & member & 2024-04-10 & 04 & 10 & 2024 & Wednesday & 18 & 31.216667\\\\\n",
       "\t5738025 & EE10C427ED4F128B & electric\\_bike & 2024-04-11 18:12:33 & 2024-04-11 18:31:34 & Clark St \\& 9th St (AMLI)     & Wood St \\& Chicago Ave          & member & 2024-04-11 & 04 & 11 & 2024 & Thursday  & 18 & 19.016667\\\\\n",
       "\t5738054 & 1DCE899055771296 & electric\\_bike & 2024-04-14 11:49:12 & 2024-04-14 12:33:45 & Michigan Ave \\& 14th St       & California Ave \\& Milwaukee Ave & member & 2024-04-14 & 04 & 14 & 2024 & Sunday    & 11 & 44.550000\\\\\n",
       "\t5738096 & 6A8210EAE35174A6 & classic\\_bike  & 2024-04-27 20:52:47 & 2024-04-27 20:59:51 & Leavitt St \\& Addison St      & Western Ave \\& Roscoe St        & casual & 2024-04-27 & 04 & 27 & 2024 & Saturday  & 20 &  7.066667\\\\\n",
       "\t5738097 & 383A6EDB9466BACB & classic\\_bike  & 2024-04-28 00:03:26 & 2024-04-28 00:12:14 & California Ave \\& Cortez St   & California Ave \\& Milwaukee Ave & casual & 2024-04-28 & 04 & 28 & 2024 & Sunday    &  0 &  8.800000\\\\\n",
       "\t5738098 & 792A192FF8694960 & classic\\_bike  & 2024-04-27 20:53:00 & 2024-04-27 20:59:38 & Leavitt St \\& Addison St      & Western Ave \\& Roscoe St        & casual & 2024-04-27 & 04 & 27 & 2024 & Saturday  & 20 &  6.633333\\\\\n",
       "\t5738107 & 22D54FFD770ED9D7 & electric\\_bike & 2024-04-25 06:43:44 & 2024-04-25 07:08:00 & California Ave \\& Cortez St   & California Ave \\& Division St   & member & 2024-04-25 & 04 & 25 & 2024 & Thursday  &  6 & 24.266667\\\\\n",
       "\t5738114 & A73A3C8381B43403 & classic\\_bike  & 2024-04-12 08:36:46 & 2024-04-12 08:45:34 & California Ave \\& Cortez St   & California Ave \\& Milwaukee Ave & member & 2024-04-12 & 04 & 12 & 2024 & Friday    &  8 &  8.800000\\\\\n",
       "\t5738119 & 95344091DEF0C011 & electric\\_bike & 2024-04-11 17:53:10 & 2024-04-11 18:07:59 & Leavitt St \\& Addison St      & California Ave \\& Milwaukee Ave & member & 2024-04-11 & 04 & 11 & 2024 & Thursday  & 17 & 14.816667\\\\\n",
       "\t5738165 & 4A76B0B26BA13EBE & electric\\_bike & 2024-04-27 14:16:10 & 2024-04-27 14:28:59 & Clinton St \\& Washington Blvd & Wood St \\& Chicago Ave          & casual & 2024-04-27 & 04 & 27 & 2024 & Saturday  & 14 & 12.816667\\\\\n",
       "\t5738200 & C43AFD7D28FE14D0 & electric\\_bike & 2024-04-02 18:46:53 & 2024-04-02 18:55:45 & Clinton St \\& Washington Blvd & Wood St \\& Chicago Ave          & member & 2024-04-02 & 04 & 02 & 2024 & Tuesday   & 18 &  8.866667\\\\\n",
       "\t5738239 & 9EF7DBF34D06ADFC & classic\\_bike  & 2024-04-27 20:52:16 & 2024-04-27 20:59:48 & Leavitt St \\& Addison St      & Western Ave \\& Roscoe St        & casual & 2024-04-27 & 04 & 27 & 2024 & Saturday  & 20 &  7.533333\\\\\n",
       "\t5738241 & A55BBDEA8801DF2B & classic\\_bike  & 2024-04-28 00:04:08 & 2024-04-28 00:12:12 & California Ave \\& Cortez St   & California Ave \\& Milwaukee Ave & casual & 2024-04-28 & 04 & 28 & 2024 & Sunday    &  0 &  8.066667\\\\\n",
       "\t5738243 & 4436CB785CD773F7 & electric\\_bike & 2024-04-24 16:45:06 & 2024-04-24 16:53:14 & California Ave \\& Cortez St   & Wood St \\& Chicago Ave          & casual & 2024-04-24 & 04 & 24 & 2024 & Wednesday & 16 &  8.133333\\\\\n",
       "\t5738283 & 7C99ACB892B8289B & classic\\_bike  & 2024-04-30 17:50:27 & 2024-04-30 18:29:27 & Clinton St \\& Washington Blvd & Campbell Ave \\& Montrose Ave    & member & 2024-04-30 & 04 & 30 & 2024 & Tuesday   & 17 & 39.000000\\\\\n",
       "\t5738288 & 4B3A22621BAEA218 & classic\\_bike  & 2024-04-15 09:28:02 & 2024-04-15 09:39:34 & California Ave \\& Cortez St   & Kedzie Ave \\& Lake St           & member & 2024-04-15 & 04 & 15 & 2024 & Monday    &  9 & 11.533333\\\\\n",
       "\t5738319 & FB7715517FCCFE18 & classic\\_bike  & 2024-04-08 18:24:31 & 2024-04-08 18:39:16 & Clinton St \\& Washington Blvd & Wood St \\& Chicago Ave          & casual & 2024-04-08 & 04 & 08 & 2024 & Monday    & 18 & 14.750000\\\\\n",
       "\t5738338 & FB8B5AD4F79CAD92 & classic\\_bike  & 2024-04-27 17:17:00 & 2024-04-27 17:38:54 & Clark St \\& Lincoln Ave       & California Ave \\& Milwaukee Ave & casual & 2024-04-27 & 04 & 27 & 2024 & Saturday  & 17 & 21.900000\\\\\n",
       "\t5738397 & 3F33E1EE4AE49488 & electric\\_bike & 2024-04-05 21:00:16 & 2024-04-05 21:02:39 & California Ave \\& Cortez St   & California Ave \\& Division St   & member & 2024-04-05 & 04 & 05 & 2024 & Friday    & 21 &  2.383333\\\\\n",
       "\t5738421 & 14C2493FDCC8DB09 & classic\\_bike  & 2024-04-16 16:12:47 & 2024-04-16 16:37:43 & Clinton St \\& Washington Blvd & California Ave \\& Milwaukee Ave & member & 2024-04-16 & 04 & 16 & 2024 & Tuesday   & 16 & 24.933333\\\\\n",
       "\t5738426 & 116A5F5E8DF68CAC & electric\\_bike & 2024-04-25 18:09:00 & 2024-04-25 18:16:08 & California Ave \\& Cortez St   & California Ave \\& Milwaukee Ave & member & 2024-04-25 & 04 & 25 & 2024 & Thursday  & 18 &  7.133333\\\\\n",
       "\t5738449 & D2962E716B35E393 & electric\\_bike & 2024-04-22 20:52:49 & 2024-04-22 20:59:55 & California Ave \\& Cortez St   & California Ave \\& Milwaukee Ave & casual & 2024-04-22 & 04 & 22 & 2024 & Monday    & 20 &  7.100000\\\\\n",
       "\t5738450 & 9CAD5CA1DA4AC50C & classic\\_bike  & 2024-04-22 21:05:10 & 2024-04-22 21:16:31 & California Ave \\& Cortez St   & California Ave \\& Milwaukee Ave & casual & 2024-04-22 & 04 & 22 & 2024 & Monday    & 21 & 11.350000\\\\\n",
       "\t5738459 & AD91174811F39262 & electric\\_bike & 2024-04-08 10:28:17 & 2024-04-08 10:43:25 & Leavitt St \\& Addison St      & Campbell Ave \\& Montrose Ave    & member & 2024-04-08 & 04 & 08 & 2024 & Monday    & 10 & 15.133333\\\\\n",
       "\t5738575 & 9771E1C1AEEDCB9F & electric\\_bike & 2024-04-26 20:34:14 & 2024-04-26 20:39:48 & California Ave \\& Cortez St   & California Ave \\& Milwaukee Ave & member & 2024-04-26 & 04 & 26 & 2024 & Friday    & 20 &  5.566667\\\\\n",
       "\t5738578 & 0B583B099760D2BC & electric\\_bike & 2024-04-09 07:31:56 & 2024-04-09 07:41:43 & California Ave \\& Cortez St   & California Ave \\& Milwaukee Ave & member & 2024-04-09 & 04 & 09 & 2024 & Tuesday   &  7 &  9.783333\\\\\n",
       "\t5738609 & 50A275230D6C0492 & classic\\_bike  & 2024-04-01 19:03:43 & 2024-04-01 19:13:16 & California Ave \\& Cortez St   & California Ave \\& Milwaukee Ave & member & 2024-04-01 & 04 & 01 & 2024 & Monday    & 19 &  9.550000\\\\\n",
       "\\end{tabular}\n"
      ],
      "text/markdown": [
       "\n",
       "A data.frame: 4335303 × 14\n",
       "\n",
       "| <!--/--> | ride_id &lt;chr&gt; | rideable_type &lt;chr&gt; | started_at &lt;dttm&gt; | ended_at &lt;dttm&gt; | start_station_name &lt;chr&gt; | end_station_name &lt;chr&gt; | member_casual &lt;chr&gt; | date &lt;date&gt; | month &lt;chr&gt; | day &lt;chr&gt; | year &lt;chr&gt; | day_of_week &lt;chr&gt; | hour &lt;int&gt; | trip_length &lt;dbl&gt; |\n",
       "|---|---|---|---|---|---|---|---|---|---|---|---|---|---|---|\n",
       "| 4 | DDEB93BC2CE9AA77 | classic_bike  | 2023-05-10 16:47:01 | 2023-05-10 16:59:52 | Carpenter St &amp; Huron St           | Damen Ave &amp; Cortland St         | member | 2023-05-10 | 05 | 10 | 2023 | Wednesday | 16 |  12.850000 |\n",
       "| 5 | C07B70172FC92F59 | classic_bike  | 2023-05-09 18:30:34 | 2023-05-09 18:39:28 | Southport Ave &amp; Clark St          | Southport Ave &amp; Belmont Ave     | member | 2023-05-09 | 05 | 09 | 2023 | Tuesday   | 18 |   8.900000 |\n",
       "| 6 | 2BA66385DF8F815A | classic_bike  | 2023-05-30 15:01:21 | 2023-05-30 15:17:00 | Clinton St &amp; Madison St           | McClurg Ct &amp; Ohio St            | member | 2023-05-30 | 05 | 30 | 2023 | Tuesday   | 15 |  15.650000 |\n",
       "| 7 | 31EFCCB05F12D8EF | docked_bike   | 2023-05-09 14:13:40 | 2023-05-09 14:47:20 | DuSable Lake Shore Dr &amp; Monroe St | Adler Planetarium               | casual | 2023-05-09 | 05 | 09 | 2023 | Tuesday   | 14 |  33.666667 |\n",
       "| 8 | 71DFF834E1D3CE0B | classic_bike  | 2023-05-06 16:47:22 | 2023-05-06 16:52:13 | Shore Dr &amp; 55th St                | Harper Ave &amp; 59th St            | member | 2023-05-06 | 05 | 06 | 2023 | Saturday  | 16 |   4.850000 |\n",
       "| 9 | 2117485899B4CEA4 | classic_bike  | 2023-05-15 12:47:26 | 2023-05-15 13:00:05 | Clark St &amp; Schiller St            | Franklin St &amp; Lake St           | member | 2023-05-15 | 05 | 15 | 2023 | Monday    | 12 |  12.650000 |\n",
       "| 10 | 811149F69AAE82DD | electric_bike | 2023-05-19 05:44:26 | 2023-05-19 05:47:24 | Clinton St &amp; Madison St           | Kingsbury St &amp; Kinzie St        | member | 2023-05-19 | 05 | 19 | 2023 | Friday    |  5 |   2.966667 |\n",
       "| 11 | D71F8A3BB45BDA05 | classic_bike  | 2023-05-13 17:37:12 | 2023-05-13 17:43:27 | Clinton St &amp; Madison St           | Kingsbury St &amp; Kinzie St        | member | 2023-05-13 | 05 | 13 | 2023 | Saturday  | 17 |   6.250000 |\n",
       "| 12 | B0E352E3CE2B6EE9 | classic_bike  | 2023-05-05 06:28:09 | 2023-05-05 06:55:51 | Clark St &amp; Schiller St            | Michigan Ave &amp; 8th St           | member | 2023-05-05 | 05 | 05 | 2023 | Friday    |  6 |  27.700000 |\n",
       "| 13 | 1348715B463F6610 | classic_bike  | 2023-05-15 06:37:34 | 2023-05-15 07:01:51 | Clark St &amp; Schiller St            | Michigan Ave &amp; 8th St           | member | 2023-05-15 | 05 | 15 | 2023 | Monday    |  6 |  24.283333 |\n",
       "| 14 | 22FD33836A76B947 | classic_bike  | 2023-05-18 20:35:00 | 2023-05-18 20:47:51 | Clark St &amp; Schiller St            | Larrabee St &amp; Division St       | member | 2023-05-18 | 05 | 18 | 2023 | Thursday  | 20 |  12.850000 |\n",
       "| 15 | A59A47089DBA82F4 | electric_bike | 2023-05-13 18:11:25 | 2023-05-13 18:42:47 | Clinton St &amp; Madison St           | State St &amp; Randolph St          | casual | 2023-05-13 | 05 | 13 | 2023 | Saturday  | 18 |  31.366667 |\n",
       "| 16 | 0604AB197D201117 | electric_bike | 2023-05-29 06:19:30 | 2023-05-29 06:39:50 | DuSable Lake Shore Dr &amp; Monroe St | Michigan Ave &amp; Jackson Blvd     | casual | 2023-05-29 | 05 | 29 | 2023 | Monday    |  6 |  20.333333 |\n",
       "| 17 | AA261364E7500CD1 | classic_bike  | 2023-05-29 17:08:05 | 2023-05-29 17:51:59 | Ashland Ave &amp; Blackhawk St        | Stave St &amp; Armitage Ave         | member | 2023-05-29 | 05 | 29 | 2023 | Monday    | 17 |  43.900000 |\n",
       "| 18 | 6DB13FAE5B7A3673 | docked_bike   | 2023-05-28 20:16:34 | 2023-05-28 22:58:20 | DuSable Lake Shore Dr &amp; Monroe St | Michigan Ave &amp; Jackson Blvd     | casual | 2023-05-28 | 05 | 28 | 2023 | Sunday    | 20 | 161.766667 |\n",
       "| 19 | B02E54E6F7E987CE | electric_bike | 2023-05-18 13:10:29 | 2023-05-18 13:17:32 | Benson Ave &amp; Church St            | Evanston Civic Center           | member | 2023-05-18 | 05 | 18 | 2023 | Thursday  | 13 |   7.050000 |\n",
       "| 20 | 09732545D9374E17 | classic_bike  | 2023-05-29 22:12:34 | 2023-05-29 22:29:37 | Clifton Ave &amp; Armitage Ave        | Clark St &amp; Wellington Ave       | member | 2023-05-29 | 05 | 29 | 2023 | Monday    | 22 |  17.050000 |\n",
       "| 21 | 2A979757D6205BF8 | electric_bike | 2023-05-06 20:46:13 | 2023-05-06 20:57:38 | Sedgwick St &amp; North Ave           | Halsted St &amp; Roscoe St          | member | 2023-05-06 | 05 | 06 | 2023 | Saturday  | 20 |  11.416667 |\n",
       "| 22 | 2471A931E49C9577 | classic_bike  | 2023-05-26 18:41:13 | 2023-05-26 19:01:24 | Broadway &amp; Belmont Ave            | Halsted St &amp; Roscoe St          | member | 2023-05-26 | 05 | 26 | 2023 | Friday    | 18 |  20.183333 |\n",
       "| 23 | 7A3C84F9FDC88B8A | classic_bike  | 2023-05-23 13:44:35 | 2023-05-23 13:59:36 | Spaulding Ave &amp; Armitage Ave      | Walsh Park                      | member | 2023-05-23 | 05 | 23 | 2023 | Tuesday   | 13 |  15.016667 |\n",
       "| 24 | 08E60474BB77A09F | classic_bike  | 2023-05-30 20:35:26 | 2023-05-30 20:39:35 | LaSalle St &amp; Illinois St          | Wabash Ave &amp; Grand Ave          | member | 2023-05-30 | 05 | 30 | 2023 | Tuesday   | 20 |   4.150000 |\n",
       "| 25 | 7EE50FF1E3B1160A | electric_bike | 2023-05-28 21:53:01 | 2023-05-28 22:05:33 | Troy St &amp; North Ave               | Milwaukee Ave &amp; Fullerton Ave   | member | 2023-05-28 | 05 | 28 | 2023 | Sunday    | 21 |  12.533333 |\n",
       "| 26 | C7455E1721AA4064 | docked_bike   | 2023-05-27 11:14:09 | 2023-05-27 11:41:23 | DuSable Lake Shore Dr &amp; Monroe St | Michigan Ave &amp; Washington St    | casual | 2023-05-27 | 05 | 27 | 2023 | Saturday  | 11 |  27.233333 |\n",
       "| 27 | 3EE3C51D01AF833E | classic_bike  | 2023-05-18 08:39:49 | 2023-05-18 08:48:48 | Clinton St &amp; Madison St           | Franklin St &amp; Chicago Ave       | member | 2023-05-18 | 05 | 18 | 2023 | Thursday  |  8 |   8.983333 |\n",
       "| 28 | 8706010AD2367F04 | classic_bike  | 2023-05-09 10:26:45 | 2023-05-09 10:34:08 | Clinton St &amp; Madison St           | Michigan Ave &amp; Washington St    | member | 2023-05-09 | 05 | 09 | 2023 | Tuesday   | 10 |   7.383333 |\n",
       "| 29 | 68DA3F41B67D2B2D | electric_bike | 2023-05-13 16:11:36 | 2023-05-13 17:00:02 | DuSable Lake Shore Dr &amp; Monroe St | Lakefront Trail &amp; Bryn Mawr Ave | casual | 2023-05-13 | 05 | 13 | 2023 | Saturday  | 16 |  48.433333 |\n",
       "| 30 | D97B7202D327A6F9 | electric_bike | 2023-05-18 21:31:29 | 2023-05-18 21:43:15 | Clark St &amp; Schiller St            | Clark St &amp; Wrightwood Ave       | member | 2023-05-18 | 05 | 18 | 2023 | Thursday  | 21 |  11.766667 |\n",
       "| 31 | E8D982A6E865D5E5 | classic_bike  | 2023-05-10 08:28:14 | 2023-05-10 08:41:45 | Carpenter St &amp; Huron St           | Canal St &amp; Jackson Blvd         | member | 2023-05-10 | 05 | 10 | 2023 | Wednesday |  8 |  13.516667 |\n",
       "| 32 | E7365FF30A17CBDA | classic_bike  | 2023-05-26 06:35:02 | 2023-05-26 06:58:12 | Shore Dr &amp; 55th St                | Cottage Grove Ave &amp; 63rd St     | member | 2023-05-26 | 05 | 26 | 2023 | Friday    |  6 |  23.166667 |\n",
       "| 33 | C6E532697FDA66F0 | electric_bike | 2023-05-21 15:56:00 | 2023-05-21 16:00:36 | Spaulding Ave &amp; Armitage Ave      | St. Louis Ave &amp; Fullerton Ave   | member | 2023-05-21 | 05 | 21 | 2023 | Sunday    | 15 |   4.600000 |\n",
       "| ⋮ | ⋮ | ⋮ | ⋮ | ⋮ | ⋮ | ⋮ | ⋮ | ⋮ | ⋮ | ⋮ | ⋮ | ⋮ | ⋮ | ⋮ |\n",
       "| 5737964 | 5071F3E9D6D0CA73 | electric_bike | 2024-04-14 11:49:16 | 2024-04-14 12:33:49 | Michigan Ave &amp; 14th St       | California Ave &amp; Milwaukee Ave | member | 2024-04-14 | 04 | 14 | 2024 | Sunday    | 11 | 44.550000 |\n",
       "| 5737991 | 8DCFE65D5ADC30C9 | electric_bike | 2024-04-17 18:04:06 | 2024-04-17 18:15:03 | Clinton St &amp; Washington Blvd | Wood St &amp; Chicago Ave          | member | 2024-04-17 | 04 | 17 | 2024 | Wednesday | 18 | 10.950000 |\n",
       "| 5737995 | 0D4E4FDDD7B07CF5 | classic_bike  | 2024-04-12 00:31:38 | 2024-04-12 00:40:51 | Leavitt St &amp; Addison St      | Western Ave &amp; Roscoe St        | member | 2024-04-12 | 04 | 12 | 2024 | Friday    |  0 |  9.216667 |\n",
       "| 5738008 | C5802ECA93244E0D | electric_bike | 2024-04-10 18:08:05 | 2024-04-10 18:39:18 | Fairbanks Ct &amp; Grand Ave     | California Ave &amp; Milwaukee Ave | member | 2024-04-10 | 04 | 10 | 2024 | Wednesday | 18 | 31.216667 |\n",
       "| 5738025 | EE10C427ED4F128B | electric_bike | 2024-04-11 18:12:33 | 2024-04-11 18:31:34 | Clark St &amp; 9th St (AMLI)     | Wood St &amp; Chicago Ave          | member | 2024-04-11 | 04 | 11 | 2024 | Thursday  | 18 | 19.016667 |\n",
       "| 5738054 | 1DCE899055771296 | electric_bike | 2024-04-14 11:49:12 | 2024-04-14 12:33:45 | Michigan Ave &amp; 14th St       | California Ave &amp; Milwaukee Ave | member | 2024-04-14 | 04 | 14 | 2024 | Sunday    | 11 | 44.550000 |\n",
       "| 5738096 | 6A8210EAE35174A6 | classic_bike  | 2024-04-27 20:52:47 | 2024-04-27 20:59:51 | Leavitt St &amp; Addison St      | Western Ave &amp; Roscoe St        | casual | 2024-04-27 | 04 | 27 | 2024 | Saturday  | 20 |  7.066667 |\n",
       "| 5738097 | 383A6EDB9466BACB | classic_bike  | 2024-04-28 00:03:26 | 2024-04-28 00:12:14 | California Ave &amp; Cortez St   | California Ave &amp; Milwaukee Ave | casual | 2024-04-28 | 04 | 28 | 2024 | Sunday    |  0 |  8.800000 |\n",
       "| 5738098 | 792A192FF8694960 | classic_bike  | 2024-04-27 20:53:00 | 2024-04-27 20:59:38 | Leavitt St &amp; Addison St      | Western Ave &amp; Roscoe St        | casual | 2024-04-27 | 04 | 27 | 2024 | Saturday  | 20 |  6.633333 |\n",
       "| 5738107 | 22D54FFD770ED9D7 | electric_bike | 2024-04-25 06:43:44 | 2024-04-25 07:08:00 | California Ave &amp; Cortez St   | California Ave &amp; Division St   | member | 2024-04-25 | 04 | 25 | 2024 | Thursday  |  6 | 24.266667 |\n",
       "| 5738114 | A73A3C8381B43403 | classic_bike  | 2024-04-12 08:36:46 | 2024-04-12 08:45:34 | California Ave &amp; Cortez St   | California Ave &amp; Milwaukee Ave | member | 2024-04-12 | 04 | 12 | 2024 | Friday    |  8 |  8.800000 |\n",
       "| 5738119 | 95344091DEF0C011 | electric_bike | 2024-04-11 17:53:10 | 2024-04-11 18:07:59 | Leavitt St &amp; Addison St      | California Ave &amp; Milwaukee Ave | member | 2024-04-11 | 04 | 11 | 2024 | Thursday  | 17 | 14.816667 |\n",
       "| 5738165 | 4A76B0B26BA13EBE | electric_bike | 2024-04-27 14:16:10 | 2024-04-27 14:28:59 | Clinton St &amp; Washington Blvd | Wood St &amp; Chicago Ave          | casual | 2024-04-27 | 04 | 27 | 2024 | Saturday  | 14 | 12.816667 |\n",
       "| 5738200 | C43AFD7D28FE14D0 | electric_bike | 2024-04-02 18:46:53 | 2024-04-02 18:55:45 | Clinton St &amp; Washington Blvd | Wood St &amp; Chicago Ave          | member | 2024-04-02 | 04 | 02 | 2024 | Tuesday   | 18 |  8.866667 |\n",
       "| 5738239 | 9EF7DBF34D06ADFC | classic_bike  | 2024-04-27 20:52:16 | 2024-04-27 20:59:48 | Leavitt St &amp; Addison St      | Western Ave &amp; Roscoe St        | casual | 2024-04-27 | 04 | 27 | 2024 | Saturday  | 20 |  7.533333 |\n",
       "| 5738241 | A55BBDEA8801DF2B | classic_bike  | 2024-04-28 00:04:08 | 2024-04-28 00:12:12 | California Ave &amp; Cortez St   | California Ave &amp; Milwaukee Ave | casual | 2024-04-28 | 04 | 28 | 2024 | Sunday    |  0 |  8.066667 |\n",
       "| 5738243 | 4436CB785CD773F7 | electric_bike | 2024-04-24 16:45:06 | 2024-04-24 16:53:14 | California Ave &amp; Cortez St   | Wood St &amp; Chicago Ave          | casual | 2024-04-24 | 04 | 24 | 2024 | Wednesday | 16 |  8.133333 |\n",
       "| 5738283 | 7C99ACB892B8289B | classic_bike  | 2024-04-30 17:50:27 | 2024-04-30 18:29:27 | Clinton St &amp; Washington Blvd | Campbell Ave &amp; Montrose Ave    | member | 2024-04-30 | 04 | 30 | 2024 | Tuesday   | 17 | 39.000000 |\n",
       "| 5738288 | 4B3A22621BAEA218 | classic_bike  | 2024-04-15 09:28:02 | 2024-04-15 09:39:34 | California Ave &amp; Cortez St   | Kedzie Ave &amp; Lake St           | member | 2024-04-15 | 04 | 15 | 2024 | Monday    |  9 | 11.533333 |\n",
       "| 5738319 | FB7715517FCCFE18 | classic_bike  | 2024-04-08 18:24:31 | 2024-04-08 18:39:16 | Clinton St &amp; Washington Blvd | Wood St &amp; Chicago Ave          | casual | 2024-04-08 | 04 | 08 | 2024 | Monday    | 18 | 14.750000 |\n",
       "| 5738338 | FB8B5AD4F79CAD92 | classic_bike  | 2024-04-27 17:17:00 | 2024-04-27 17:38:54 | Clark St &amp; Lincoln Ave       | California Ave &amp; Milwaukee Ave | casual | 2024-04-27 | 04 | 27 | 2024 | Saturday  | 17 | 21.900000 |\n",
       "| 5738397 | 3F33E1EE4AE49488 | electric_bike | 2024-04-05 21:00:16 | 2024-04-05 21:02:39 | California Ave &amp; Cortez St   | California Ave &amp; Division St   | member | 2024-04-05 | 04 | 05 | 2024 | Friday    | 21 |  2.383333 |\n",
       "| 5738421 | 14C2493FDCC8DB09 | classic_bike  | 2024-04-16 16:12:47 | 2024-04-16 16:37:43 | Clinton St &amp; Washington Blvd | California Ave &amp; Milwaukee Ave | member | 2024-04-16 | 04 | 16 | 2024 | Tuesday   | 16 | 24.933333 |\n",
       "| 5738426 | 116A5F5E8DF68CAC | electric_bike | 2024-04-25 18:09:00 | 2024-04-25 18:16:08 | California Ave &amp; Cortez St   | California Ave &amp; Milwaukee Ave | member | 2024-04-25 | 04 | 25 | 2024 | Thursday  | 18 |  7.133333 |\n",
       "| 5738449 | D2962E716B35E393 | electric_bike | 2024-04-22 20:52:49 | 2024-04-22 20:59:55 | California Ave &amp; Cortez St   | California Ave &amp; Milwaukee Ave | casual | 2024-04-22 | 04 | 22 | 2024 | Monday    | 20 |  7.100000 |\n",
       "| 5738450 | 9CAD5CA1DA4AC50C | classic_bike  | 2024-04-22 21:05:10 | 2024-04-22 21:16:31 | California Ave &amp; Cortez St   | California Ave &amp; Milwaukee Ave | casual | 2024-04-22 | 04 | 22 | 2024 | Monday    | 21 | 11.350000 |\n",
       "| 5738459 | AD91174811F39262 | electric_bike | 2024-04-08 10:28:17 | 2024-04-08 10:43:25 | Leavitt St &amp; Addison St      | Campbell Ave &amp; Montrose Ave    | member | 2024-04-08 | 04 | 08 | 2024 | Monday    | 10 | 15.133333 |\n",
       "| 5738575 | 9771E1C1AEEDCB9F | electric_bike | 2024-04-26 20:34:14 | 2024-04-26 20:39:48 | California Ave &amp; Cortez St   | California Ave &amp; Milwaukee Ave | member | 2024-04-26 | 04 | 26 | 2024 | Friday    | 20 |  5.566667 |\n",
       "| 5738578 | 0B583B099760D2BC | electric_bike | 2024-04-09 07:31:56 | 2024-04-09 07:41:43 | California Ave &amp; Cortez St   | California Ave &amp; Milwaukee Ave | member | 2024-04-09 | 04 | 09 | 2024 | Tuesday   |  7 |  9.783333 |\n",
       "| 5738609 | 50A275230D6C0492 | classic_bike  | 2024-04-01 19:03:43 | 2024-04-01 19:13:16 | California Ave &amp; Cortez St   | California Ave &amp; Milwaukee Ave | member | 2024-04-01 | 04 | 01 | 2024 | Monday    | 19 |  9.550000 |\n",
       "\n"
      ],
      "text/plain": [
       "        ride_id          rideable_type started_at          ended_at           \n",
       "4       DDEB93BC2CE9AA77 classic_bike  2023-05-10 16:47:01 2023-05-10 16:59:52\n",
       "5       C07B70172FC92F59 classic_bike  2023-05-09 18:30:34 2023-05-09 18:39:28\n",
       "6       2BA66385DF8F815A classic_bike  2023-05-30 15:01:21 2023-05-30 15:17:00\n",
       "7       31EFCCB05F12D8EF docked_bike   2023-05-09 14:13:40 2023-05-09 14:47:20\n",
       "8       71DFF834E1D3CE0B classic_bike  2023-05-06 16:47:22 2023-05-06 16:52:13\n",
       "9       2117485899B4CEA4 classic_bike  2023-05-15 12:47:26 2023-05-15 13:00:05\n",
       "10      811149F69AAE82DD electric_bike 2023-05-19 05:44:26 2023-05-19 05:47:24\n",
       "11      D71F8A3BB45BDA05 classic_bike  2023-05-13 17:37:12 2023-05-13 17:43:27\n",
       "12      B0E352E3CE2B6EE9 classic_bike  2023-05-05 06:28:09 2023-05-05 06:55:51\n",
       "13      1348715B463F6610 classic_bike  2023-05-15 06:37:34 2023-05-15 07:01:51\n",
       "14      22FD33836A76B947 classic_bike  2023-05-18 20:35:00 2023-05-18 20:47:51\n",
       "15      A59A47089DBA82F4 electric_bike 2023-05-13 18:11:25 2023-05-13 18:42:47\n",
       "16      0604AB197D201117 electric_bike 2023-05-29 06:19:30 2023-05-29 06:39:50\n",
       "17      AA261364E7500CD1 classic_bike  2023-05-29 17:08:05 2023-05-29 17:51:59\n",
       "18      6DB13FAE5B7A3673 docked_bike   2023-05-28 20:16:34 2023-05-28 22:58:20\n",
       "19      B02E54E6F7E987CE electric_bike 2023-05-18 13:10:29 2023-05-18 13:17:32\n",
       "20      09732545D9374E17 classic_bike  2023-05-29 22:12:34 2023-05-29 22:29:37\n",
       "21      2A979757D6205BF8 electric_bike 2023-05-06 20:46:13 2023-05-06 20:57:38\n",
       "22      2471A931E49C9577 classic_bike  2023-05-26 18:41:13 2023-05-26 19:01:24\n",
       "23      7A3C84F9FDC88B8A classic_bike  2023-05-23 13:44:35 2023-05-23 13:59:36\n",
       "24      08E60474BB77A09F classic_bike  2023-05-30 20:35:26 2023-05-30 20:39:35\n",
       "25      7EE50FF1E3B1160A electric_bike 2023-05-28 21:53:01 2023-05-28 22:05:33\n",
       "26      C7455E1721AA4064 docked_bike   2023-05-27 11:14:09 2023-05-27 11:41:23\n",
       "27      3EE3C51D01AF833E classic_bike  2023-05-18 08:39:49 2023-05-18 08:48:48\n",
       "28      8706010AD2367F04 classic_bike  2023-05-09 10:26:45 2023-05-09 10:34:08\n",
       "29      68DA3F41B67D2B2D electric_bike 2023-05-13 16:11:36 2023-05-13 17:00:02\n",
       "30      D97B7202D327A6F9 electric_bike 2023-05-18 21:31:29 2023-05-18 21:43:15\n",
       "31      E8D982A6E865D5E5 classic_bike  2023-05-10 08:28:14 2023-05-10 08:41:45\n",
       "32      E7365FF30A17CBDA classic_bike  2023-05-26 06:35:02 2023-05-26 06:58:12\n",
       "33      C6E532697FDA66F0 electric_bike 2023-05-21 15:56:00 2023-05-21 16:00:36\n",
       "⋮       ⋮                ⋮             ⋮                   ⋮                  \n",
       "5737964 5071F3E9D6D0CA73 electric_bike 2024-04-14 11:49:16 2024-04-14 12:33:49\n",
       "5737991 8DCFE65D5ADC30C9 electric_bike 2024-04-17 18:04:06 2024-04-17 18:15:03\n",
       "5737995 0D4E4FDDD7B07CF5 classic_bike  2024-04-12 00:31:38 2024-04-12 00:40:51\n",
       "5738008 C5802ECA93244E0D electric_bike 2024-04-10 18:08:05 2024-04-10 18:39:18\n",
       "5738025 EE10C427ED4F128B electric_bike 2024-04-11 18:12:33 2024-04-11 18:31:34\n",
       "5738054 1DCE899055771296 electric_bike 2024-04-14 11:49:12 2024-04-14 12:33:45\n",
       "5738096 6A8210EAE35174A6 classic_bike  2024-04-27 20:52:47 2024-04-27 20:59:51\n",
       "5738097 383A6EDB9466BACB classic_bike  2024-04-28 00:03:26 2024-04-28 00:12:14\n",
       "5738098 792A192FF8694960 classic_bike  2024-04-27 20:53:00 2024-04-27 20:59:38\n",
       "5738107 22D54FFD770ED9D7 electric_bike 2024-04-25 06:43:44 2024-04-25 07:08:00\n",
       "5738114 A73A3C8381B43403 classic_bike  2024-04-12 08:36:46 2024-04-12 08:45:34\n",
       "5738119 95344091DEF0C011 electric_bike 2024-04-11 17:53:10 2024-04-11 18:07:59\n",
       "5738165 4A76B0B26BA13EBE electric_bike 2024-04-27 14:16:10 2024-04-27 14:28:59\n",
       "5738200 C43AFD7D28FE14D0 electric_bike 2024-04-02 18:46:53 2024-04-02 18:55:45\n",
       "5738239 9EF7DBF34D06ADFC classic_bike  2024-04-27 20:52:16 2024-04-27 20:59:48\n",
       "5738241 A55BBDEA8801DF2B classic_bike  2024-04-28 00:04:08 2024-04-28 00:12:12\n",
       "5738243 4436CB785CD773F7 electric_bike 2024-04-24 16:45:06 2024-04-24 16:53:14\n",
       "5738283 7C99ACB892B8289B classic_bike  2024-04-30 17:50:27 2024-04-30 18:29:27\n",
       "5738288 4B3A22621BAEA218 classic_bike  2024-04-15 09:28:02 2024-04-15 09:39:34\n",
       "5738319 FB7715517FCCFE18 classic_bike  2024-04-08 18:24:31 2024-04-08 18:39:16\n",
       "5738338 FB8B5AD4F79CAD92 classic_bike  2024-04-27 17:17:00 2024-04-27 17:38:54\n",
       "5738397 3F33E1EE4AE49488 electric_bike 2024-04-05 21:00:16 2024-04-05 21:02:39\n",
       "5738421 14C2493FDCC8DB09 classic_bike  2024-04-16 16:12:47 2024-04-16 16:37:43\n",
       "5738426 116A5F5E8DF68CAC electric_bike 2024-04-25 18:09:00 2024-04-25 18:16:08\n",
       "5738449 D2962E716B35E393 electric_bike 2024-04-22 20:52:49 2024-04-22 20:59:55\n",
       "5738450 9CAD5CA1DA4AC50C classic_bike  2024-04-22 21:05:10 2024-04-22 21:16:31\n",
       "5738459 AD91174811F39262 electric_bike 2024-04-08 10:28:17 2024-04-08 10:43:25\n",
       "5738575 9771E1C1AEEDCB9F electric_bike 2024-04-26 20:34:14 2024-04-26 20:39:48\n",
       "5738578 0B583B099760D2BC electric_bike 2024-04-09 07:31:56 2024-04-09 07:41:43\n",
       "5738609 50A275230D6C0492 classic_bike  2024-04-01 19:03:43 2024-04-01 19:13:16\n",
       "        start_station_name                end_station_name               \n",
       "4       Carpenter St & Huron St           Damen Ave & Cortland St        \n",
       "5       Southport Ave & Clark St          Southport Ave & Belmont Ave    \n",
       "6       Clinton St & Madison St           McClurg Ct & Ohio St           \n",
       "7       DuSable Lake Shore Dr & Monroe St Adler Planetarium              \n",
       "8       Shore Dr & 55th St                Harper Ave & 59th St           \n",
       "9       Clark St & Schiller St            Franklin St & Lake St          \n",
       "10      Clinton St & Madison St           Kingsbury St & Kinzie St       \n",
       "11      Clinton St & Madison St           Kingsbury St & Kinzie St       \n",
       "12      Clark St & Schiller St            Michigan Ave & 8th St          \n",
       "13      Clark St & Schiller St            Michigan Ave & 8th St          \n",
       "14      Clark St & Schiller St            Larrabee St & Division St      \n",
       "15      Clinton St & Madison St           State St & Randolph St         \n",
       "16      DuSable Lake Shore Dr & Monroe St Michigan Ave & Jackson Blvd    \n",
       "17      Ashland Ave & Blackhawk St        Stave St & Armitage Ave        \n",
       "18      DuSable Lake Shore Dr & Monroe St Michigan Ave & Jackson Blvd    \n",
       "19      Benson Ave & Church St            Evanston Civic Center          \n",
       "20      Clifton Ave & Armitage Ave        Clark St & Wellington Ave      \n",
       "21      Sedgwick St & North Ave           Halsted St & Roscoe St         \n",
       "22      Broadway & Belmont Ave            Halsted St & Roscoe St         \n",
       "23      Spaulding Ave & Armitage Ave      Walsh Park                     \n",
       "24      LaSalle St & Illinois St          Wabash Ave & Grand Ave         \n",
       "25      Troy St & North Ave               Milwaukee Ave & Fullerton Ave  \n",
       "26      DuSable Lake Shore Dr & Monroe St Michigan Ave & Washington St   \n",
       "27      Clinton St & Madison St           Franklin St & Chicago Ave      \n",
       "28      Clinton St & Madison St           Michigan Ave & Washington St   \n",
       "29      DuSable Lake Shore Dr & Monroe St Lakefront Trail & Bryn Mawr Ave\n",
       "30      Clark St & Schiller St            Clark St & Wrightwood Ave      \n",
       "31      Carpenter St & Huron St           Canal St & Jackson Blvd        \n",
       "32      Shore Dr & 55th St                Cottage Grove Ave & 63rd St    \n",
       "33      Spaulding Ave & Armitage Ave      St. Louis Ave & Fullerton Ave  \n",
       "⋮       ⋮                                 ⋮                              \n",
       "5737964 Michigan Ave & 14th St            California Ave & Milwaukee Ave \n",
       "5737991 Clinton St & Washington Blvd      Wood St & Chicago Ave          \n",
       "5737995 Leavitt St & Addison St           Western Ave & Roscoe St        \n",
       "5738008 Fairbanks Ct & Grand Ave          California Ave & Milwaukee Ave \n",
       "5738025 Clark St & 9th St (AMLI)          Wood St & Chicago Ave          \n",
       "5738054 Michigan Ave & 14th St            California Ave & Milwaukee Ave \n",
       "5738096 Leavitt St & Addison St           Western Ave & Roscoe St        \n",
       "5738097 California Ave & Cortez St        California Ave & Milwaukee Ave \n",
       "5738098 Leavitt St & Addison St           Western Ave & Roscoe St        \n",
       "5738107 California Ave & Cortez St        California Ave & Division St   \n",
       "5738114 California Ave & Cortez St        California Ave & Milwaukee Ave \n",
       "5738119 Leavitt St & Addison St           California Ave & Milwaukee Ave \n",
       "5738165 Clinton St & Washington Blvd      Wood St & Chicago Ave          \n",
       "5738200 Clinton St & Washington Blvd      Wood St & Chicago Ave          \n",
       "5738239 Leavitt St & Addison St           Western Ave & Roscoe St        \n",
       "5738241 California Ave & Cortez St        California Ave & Milwaukee Ave \n",
       "5738243 California Ave & Cortez St        Wood St & Chicago Ave          \n",
       "5738283 Clinton St & Washington Blvd      Campbell Ave & Montrose Ave    \n",
       "5738288 California Ave & Cortez St        Kedzie Ave & Lake St           \n",
       "5738319 Clinton St & Washington Blvd      Wood St & Chicago Ave          \n",
       "5738338 Clark St & Lincoln Ave            California Ave & Milwaukee Ave \n",
       "5738397 California Ave & Cortez St        California Ave & Division St   \n",
       "5738421 Clinton St & Washington Blvd      California Ave & Milwaukee Ave \n",
       "5738426 California Ave & Cortez St        California Ave & Milwaukee Ave \n",
       "5738449 California Ave & Cortez St        California Ave & Milwaukee Ave \n",
       "5738450 California Ave & Cortez St        California Ave & Milwaukee Ave \n",
       "5738459 Leavitt St & Addison St           Campbell Ave & Montrose Ave    \n",
       "5738575 California Ave & Cortez St        California Ave & Milwaukee Ave \n",
       "5738578 California Ave & Cortez St        California Ave & Milwaukee Ave \n",
       "5738609 California Ave & Cortez St        California Ave & Milwaukee Ave \n",
       "        member_casual date       month day year day_of_week hour trip_length\n",
       "4       member        2023-05-10 05    10  2023 Wednesday   16    12.850000 \n",
       "5       member        2023-05-09 05    09  2023 Tuesday     18     8.900000 \n",
       "6       member        2023-05-30 05    30  2023 Tuesday     15    15.650000 \n",
       "7       casual        2023-05-09 05    09  2023 Tuesday     14    33.666667 \n",
       "8       member        2023-05-06 05    06  2023 Saturday    16     4.850000 \n",
       "9       member        2023-05-15 05    15  2023 Monday      12    12.650000 \n",
       "10      member        2023-05-19 05    19  2023 Friday       5     2.966667 \n",
       "11      member        2023-05-13 05    13  2023 Saturday    17     6.250000 \n",
       "12      member        2023-05-05 05    05  2023 Friday       6    27.700000 \n",
       "13      member        2023-05-15 05    15  2023 Monday       6    24.283333 \n",
       "14      member        2023-05-18 05    18  2023 Thursday    20    12.850000 \n",
       "15      casual        2023-05-13 05    13  2023 Saturday    18    31.366667 \n",
       "16      casual        2023-05-29 05    29  2023 Monday       6    20.333333 \n",
       "17      member        2023-05-29 05    29  2023 Monday      17    43.900000 \n",
       "18      casual        2023-05-28 05    28  2023 Sunday      20   161.766667 \n",
       "19      member        2023-05-18 05    18  2023 Thursday    13     7.050000 \n",
       "20      member        2023-05-29 05    29  2023 Monday      22    17.050000 \n",
       "21      member        2023-05-06 05    06  2023 Saturday    20    11.416667 \n",
       "22      member        2023-05-26 05    26  2023 Friday      18    20.183333 \n",
       "23      member        2023-05-23 05    23  2023 Tuesday     13    15.016667 \n",
       "24      member        2023-05-30 05    30  2023 Tuesday     20     4.150000 \n",
       "25      member        2023-05-28 05    28  2023 Sunday      21    12.533333 \n",
       "26      casual        2023-05-27 05    27  2023 Saturday    11    27.233333 \n",
       "27      member        2023-05-18 05    18  2023 Thursday     8     8.983333 \n",
       "28      member        2023-05-09 05    09  2023 Tuesday     10     7.383333 \n",
       "29      casual        2023-05-13 05    13  2023 Saturday    16    48.433333 \n",
       "30      member        2023-05-18 05    18  2023 Thursday    21    11.766667 \n",
       "31      member        2023-05-10 05    10  2023 Wednesday    8    13.516667 \n",
       "32      member        2023-05-26 05    26  2023 Friday       6    23.166667 \n",
       "33      member        2023-05-21 05    21  2023 Sunday      15     4.600000 \n",
       "⋮       ⋮             ⋮          ⋮     ⋮   ⋮    ⋮           ⋮    ⋮          \n",
       "5737964 member        2024-04-14 04    14  2024 Sunday      11   44.550000  \n",
       "5737991 member        2024-04-17 04    17  2024 Wednesday   18   10.950000  \n",
       "5737995 member        2024-04-12 04    12  2024 Friday       0    9.216667  \n",
       "5738008 member        2024-04-10 04    10  2024 Wednesday   18   31.216667  \n",
       "5738025 member        2024-04-11 04    11  2024 Thursday    18   19.016667  \n",
       "5738054 member        2024-04-14 04    14  2024 Sunday      11   44.550000  \n",
       "5738096 casual        2024-04-27 04    27  2024 Saturday    20    7.066667  \n",
       "5738097 casual        2024-04-28 04    28  2024 Sunday       0    8.800000  \n",
       "5738098 casual        2024-04-27 04    27  2024 Saturday    20    6.633333  \n",
       "5738107 member        2024-04-25 04    25  2024 Thursday     6   24.266667  \n",
       "5738114 member        2024-04-12 04    12  2024 Friday       8    8.800000  \n",
       "5738119 member        2024-04-11 04    11  2024 Thursday    17   14.816667  \n",
       "5738165 casual        2024-04-27 04    27  2024 Saturday    14   12.816667  \n",
       "5738200 member        2024-04-02 04    02  2024 Tuesday     18    8.866667  \n",
       "5738239 casual        2024-04-27 04    27  2024 Saturday    20    7.533333  \n",
       "5738241 casual        2024-04-28 04    28  2024 Sunday       0    8.066667  \n",
       "5738243 casual        2024-04-24 04    24  2024 Wednesday   16    8.133333  \n",
       "5738283 member        2024-04-30 04    30  2024 Tuesday     17   39.000000  \n",
       "5738288 member        2024-04-15 04    15  2024 Monday       9   11.533333  \n",
       "5738319 casual        2024-04-08 04    08  2024 Monday      18   14.750000  \n",
       "5738338 casual        2024-04-27 04    27  2024 Saturday    17   21.900000  \n",
       "5738397 member        2024-04-05 04    05  2024 Friday      21    2.383333  \n",
       "5738421 member        2024-04-16 04    16  2024 Tuesday     16   24.933333  \n",
       "5738426 member        2024-04-25 04    25  2024 Thursday    18    7.133333  \n",
       "5738449 casual        2024-04-22 04    22  2024 Monday      20    7.100000  \n",
       "5738450 casual        2024-04-22 04    22  2024 Monday      21   11.350000  \n",
       "5738459 member        2024-04-08 04    08  2024 Monday      10   15.133333  \n",
       "5738575 member        2024-04-26 04    26  2024 Friday      20    5.566667  \n",
       "5738578 member        2024-04-09 04    09  2024 Tuesday      7    9.783333  \n",
       "5738609 member        2024-04-01 04    01  2024 Monday      19    9.550000  "
      ]
     },
     "metadata": {},
     "output_type": "display_data"
    }
   ],
   "source": [
    "print(paste(nrow(allData) - nrow(allDataClean), \"rows were removed.\"))\n",
    "summary(allDataClean) #we removed 1,401,693 rows of data that could have thrown the analysis off\n",
    "View(allDataClean) #What is left is our fully cleaned dataset to use for analysis"
   ]
  },
  {
   "cell_type": "markdown",
   "id": "da61ce10",
   "metadata": {
    "papermill": {
     "duration": 0.018023,
     "end_time": "2024-06-24T18:49:23.206968",
     "exception": false,
     "start_time": "2024-06-24T18:49:23.188945",
     "status": "completed"
    },
    "tags": []
   },
   "source": [
    "## 4. Analyze\n",
    "Time to analyze our data and gain some insights about it! We will compare how \"Casual\" and \"Annual\" members use the bike-sharing program differently and identify trends and relationships: \n"
   ]
  },
  {
   "cell_type": "markdown",
   "id": "f523903b",
   "metadata": {
    "papermill": {
     "duration": 0.017408,
     "end_time": "2024-06-24T18:49:23.241883",
     "exception": false,
     "start_time": "2024-06-24T18:49:23.224475",
     "status": "completed"
    },
    "tags": []
   },
   "source": [
    "### Percentage of Casual Members vs. Annual Members\n",
    "\n"
   ]
  },
  {
   "cell_type": "code",
   "execution_count": 9,
   "id": "7875d482",
   "metadata": {
    "execution": {
     "iopub.execute_input": "2024-06-24T18:49:23.282919Z",
     "iopub.status.busy": "2024-06-24T18:49:23.280864Z",
     "iopub.status.idle": "2024-06-24T18:49:23.585985Z",
     "shell.execute_reply": "2024-06-24T18:49:23.583953Z"
    },
    "papermill": {
     "duration": 0.32878,
     "end_time": "2024-06-24T18:49:23.589134",
     "exception": false,
     "start_time": "2024-06-24T18:49:23.260354",
     "status": "completed"
    },
    "tags": []
   },
   "outputs": [
    {
     "data": {
      "text/html": [
       "<table class=\"dataframe\">\n",
       "<caption>A tibble: 2 × 3</caption>\n",
       "<thead>\n",
       "\t<tr><th scope=col>member_casual</th><th scope=col>count</th><th scope=col>%</th></tr>\n",
       "\t<tr><th scope=col>&lt;chr&gt;</th><th scope=col>&lt;int&gt;</th><th scope=col>&lt;dbl&gt;</th></tr>\n",
       "</thead>\n",
       "<tbody>\n",
       "\t<tr><td>casual</td><td>1524550</td><td>35.16594</td></tr>\n",
       "\t<tr><td>member</td><td>2810753</td><td>64.83406</td></tr>\n",
       "</tbody>\n",
       "</table>\n"
      ],
      "text/latex": [
       "A tibble: 2 × 3\n",
       "\\begin{tabular}{lll}\n",
       " member\\_casual & count & \\%\\\\\n",
       " <chr> & <int> & <dbl>\\\\\n",
       "\\hline\n",
       "\t casual & 1524550 & 35.16594\\\\\n",
       "\t member & 2810753 & 64.83406\\\\\n",
       "\\end{tabular}\n"
      ],
      "text/markdown": [
       "\n",
       "A tibble: 2 × 3\n",
       "\n",
       "| member_casual &lt;chr&gt; | count &lt;int&gt; | % &lt;dbl&gt; |\n",
       "|---|---|---|\n",
       "| casual | 1524550 | 35.16594 |\n",
       "| member | 2810753 | 64.83406 |\n",
       "\n"
      ],
      "text/plain": [
       "  member_casual count   %       \n",
       "1 casual        1524550 35.16594\n",
       "2 member        2810753 64.83406"
      ]
     },
     "metadata": {},
     "output_type": "display_data"
    }
   ],
   "source": [
    "allDataClean %>%\n",
    "    group_by(member_casual) %>%\n",
    "    summarise(count = length(ride_id),\n",
    "             '%' = (length(ride_id) / nrow(allDataClean)) * 100)\n",
    "            "
   ]
  },
  {
   "cell_type": "markdown",
   "id": "48d5b4c7",
   "metadata": {
    "papermill": {
     "duration": 0.017832,
     "end_time": "2024-06-24T18:49:23.624726",
     "exception": false,
     "start_time": "2024-06-24T18:49:23.606894",
     "status": "completed"
    },
    "tags": []
   },
   "source": [
    "### The Mean, Median, Max, and Min of Rides Between Both Memberships Throughout The Year "
   ]
  },
  {
   "cell_type": "code",
   "execution_count": 10,
   "id": "124967b0",
   "metadata": {
    "execution": {
     "iopub.execute_input": "2024-06-24T18:49:23.664583Z",
     "iopub.status.busy": "2024-06-24T18:49:23.662447Z",
     "iopub.status.idle": "2024-06-24T18:49:26.392095Z",
     "shell.execute_reply": "2024-06-24T18:49:26.390008Z"
    },
    "papermill": {
     "duration": 2.753209,
     "end_time": "2024-06-24T18:49:26.395415",
     "exception": false,
     "start_time": "2024-06-24T18:49:23.642206",
     "status": "completed"
    },
    "tags": []
   },
   "outputs": [
    {
     "data": {
      "text/html": [
       "<table class=\"dataframe\">\n",
       "<caption>A data.frame: 4335303 × 14</caption>\n",
       "<thead>\n",
       "\t<tr><th scope=col>ride_id</th><th scope=col>rideable_type</th><th scope=col>started_at</th><th scope=col>ended_at</th><th scope=col>start_station_name</th><th scope=col>end_station_name</th><th scope=col>member_casual</th><th scope=col>date</th><th scope=col>month</th><th scope=col>day</th><th scope=col>year</th><th scope=col>day_of_week</th><th scope=col>hour</th><th scope=col>trip_length</th></tr>\n",
       "\t<tr><th scope=col>&lt;chr&gt;</th><th scope=col>&lt;chr&gt;</th><th scope=col>&lt;dttm&gt;</th><th scope=col>&lt;dttm&gt;</th><th scope=col>&lt;chr&gt;</th><th scope=col>&lt;chr&gt;</th><th scope=col>&lt;chr&gt;</th><th scope=col>&lt;date&gt;</th><th scope=col>&lt;chr&gt;</th><th scope=col>&lt;chr&gt;</th><th scope=col>&lt;chr&gt;</th><th scope=col>&lt;chr&gt;</th><th scope=col>&lt;int&gt;</th><th scope=col>&lt;dbl&gt;</th></tr>\n",
       "</thead>\n",
       "<tbody>\n",
       "\t<tr><td>59AD7EE868FC6588</td><td>docked_bike </td><td>2023-05-30 12:48:08</td><td>2023-06-07 23:04:26</td><td><span style=white-space:pre-wrap>Wells St &amp; Polk St                    </span></td><td><span style=white-space:pre-wrap>Lincoln Ave &amp; Roscoe St*              </span></td><td>casual</td><td>2023-05-30</td><td>05</td><td>30</td><td>2023</td><td><span style=white-space:pre-wrap>Tuesday  </span></td><td>12</td><td>12136.300</td></tr>\n",
       "\t<tr><td>FA287922CA358CE0</td><td>docked_bike </td><td>2023-06-03 17:52:15</td><td>2023-06-11 11:44:31</td><td><span style=white-space:pre-wrap>Fort Dearborn Dr &amp; 31st St            </span></td><td><span style=white-space:pre-wrap>Fort Dearborn Dr &amp; 31st St*           </span></td><td>casual</td><td>2023-06-03</td><td>06</td><td>03</td><td>2023</td><td>Saturday </td><td>17</td><td>11152.267</td></tr>\n",
       "\t<tr><td>47158A16C754A9F4</td><td>docked_bike </td><td>2023-08-10 22:17:49</td><td>2023-08-15 17:09:02</td><td><span style=white-space:pre-wrap>Larrabee St &amp; Webster Ave             </span></td><td><span style=white-space:pre-wrap>Michigan Ave &amp; Oak St                 </span></td><td>casual</td><td>2023-08-10</td><td>08</td><td>10</td><td>2023</td><td>Thursday </td><td>22</td><td> 6891.217</td></tr>\n",
       "\t<tr><td>4031082BC503CC84</td><td>docked_bike </td><td>2023-08-02 17:28:57</td><td>2023-08-06 11:07:57</td><td><span style=white-space:pre-wrap>University Ave &amp; 57th St              </span></td><td><span style=white-space:pre-wrap>Museum of Science and Industry        </span></td><td>casual</td><td>2023-08-02</td><td>08</td><td>02</td><td>2023</td><td>Wednesday</td><td>17</td><td> 5379.000</td></tr>\n",
       "\t<tr><td>3BC5FFFDF7503DAA</td><td>docked_bike </td><td>2023-06-15 13:28:59</td><td>2023-06-18 23:12:06</td><td><span style=white-space:pre-wrap>DuSable Lake Shore Dr &amp; Monroe St     </span></td><td><span style=white-space:pre-wrap>Fort Dearborn Dr &amp; 31st St*           </span></td><td>casual</td><td>2023-06-15</td><td>06</td><td>15</td><td>2023</td><td>Thursday </td><td>13</td><td> 4903.117</td></tr>\n",
       "\t<tr><td>6786F74C5A6183FB</td><td>docked_bike </td><td>2023-06-18 19:21:22</td><td>2023-06-21 10:59:46</td><td><span style=white-space:pre-wrap>Dusable Harbor                        </span></td><td><span style=white-space:pre-wrap>Wentworth Ave &amp; Cermak Rd*            </span></td><td>casual</td><td>2023-06-18</td><td>06</td><td>18</td><td>2023</td><td><span style=white-space:pre-wrap>Sunday   </span></td><td>19</td><td> 3818.400</td></tr>\n",
       "\t<tr><td>D2273A0F45CDD4CC</td><td>docked_bike </td><td>2023-08-18 09:13:48</td><td>2023-08-20 16:14:38</td><td><span style=white-space:pre-wrap>2112 W Peterson Ave                   </span></td><td><span style=white-space:pre-wrap>Sheridan Rd &amp; Loyola Ave              </span></td><td>casual</td><td>2023-08-18</td><td>08</td><td>18</td><td>2023</td><td><span style=white-space:pre-wrap>Friday   </span></td><td> 9</td><td> 3300.833</td></tr>\n",
       "\t<tr><td>A795B5420E15A65B</td><td>docked_bike </td><td>2023-05-10 18:42:11</td><td>2023-05-13 00:47:58</td><td><span style=white-space:pre-wrap>Clark St &amp; Schiller St                </span></td><td><span style=white-space:pre-wrap>Ashland Ave &amp; Wellington Ave          </span></td><td>casual</td><td>2023-05-10</td><td>05</td><td>10</td><td>2023</td><td>Wednesday</td><td>18</td><td> 3245.783</td></tr>\n",
       "\t<tr><td>280CB8109510E280</td><td>docked_bike </td><td>2023-07-06 21:34:55</td><td>2023-07-08 14:32:46</td><td><span style=white-space:pre-wrap>California Ave &amp; North Ave            </span></td><td><span style=white-space:pre-wrap>Damen Ave &amp; Pierce Ave                </span></td><td>casual</td><td>2023-07-06</td><td>07</td><td>06</td><td>2023</td><td>Thursday </td><td>21</td><td> 2457.850</td></tr>\n",
       "\t<tr><td>81526396CBFBD708</td><td>docked_bike </td><td>2023-05-06 12:53:46</td><td>2023-05-07 18:21:09</td><td><span style=white-space:pre-wrap>DuSable Lake Shore Dr &amp; Monroe St     </span></td><td><span style=white-space:pre-wrap>Morgan St &amp; Lake St*                  </span></td><td>casual</td><td>2023-05-06</td><td>05</td><td>06</td><td>2023</td><td>Saturday </td><td>12</td><td> 1767.383</td></tr>\n",
       "\t<tr><td>7A5CAAC52FAE9E95</td><td>classic_bike</td><td>2024-03-09 16:58:39</td><td>2024-03-10 18:08:01</td><td><span style=white-space:pre-wrap>Talman Ave &amp; Addison St               </span></td><td><span style=white-space:pre-wrap>Talman Ave &amp; Addison St               </span></td><td>casual</td><td>2024-03-09</td><td>03</td><td>09</td><td>2024</td><td>Saturday </td><td>16</td><td> 1509.367</td></tr>\n",
       "\t<tr><td>ABA068CBC4FFDA47</td><td>docked_bike </td><td>2023-07-26 02:23:38</td><td>2023-07-27 03:22:27</td><td><span style=white-space:pre-wrap>Hoyne Ave &amp; 47th St                   </span></td><td><span style=white-space:pre-wrap>Yates Blvd &amp; 75th St                  </span></td><td>casual</td><td>2023-07-26</td><td>07</td><td>26</td><td>2023</td><td>Wednesday</td><td> 2</td><td> 1498.817</td></tr>\n",
       "\t<tr><td>7AC23ADF3F785C89</td><td>classic_bike</td><td>2023-09-29 12:32:03</td><td>2023-09-30 13:29:57</td><td><span style=white-space:pre-wrap>Halsted St &amp; 63rd St                  </span></td><td><span style=white-space:pre-wrap>Halsted St &amp; 63rd St                  </span></td><td>casual</td><td>2023-09-29</td><td>09</td><td>29</td><td>2023</td><td><span style=white-space:pre-wrap>Friday   </span></td><td>12</td><td> 1497.900</td></tr>\n",
       "\t<tr><td>8AFD9583BC85E0DE</td><td>classic_bike</td><td>2024-02-01 17:28:26</td><td>2024-02-02 18:26:05</td><td><span style=white-space:pre-wrap>Benson Ave &amp; Church St                </span></td><td><span style=white-space:pre-wrap>Sheridan Rd &amp; Noyes St (NU)           </span></td><td>member</td><td>2024-02-01</td><td>02</td><td>01</td><td>2024</td><td>Thursday </td><td>17</td><td> 1497.650</td></tr>\n",
       "\t<tr><td>2503BA4056C4C83B</td><td>classic_bike</td><td>2023-11-11 11:58:41</td><td>2023-11-12 12:56:11</td><td><span style=white-space:pre-wrap>Montrose Harbor                       </span></td><td><span style=white-space:pre-wrap>Clark St &amp; Leland Ave                 </span></td><td>member</td><td>2023-11-11</td><td>11</td><td>11</td><td>2023</td><td>Saturday </td><td>11</td><td> 1497.500</td></tr>\n",
       "\t<tr><td>CB93E203A174AC97</td><td>classic_bike</td><td>2023-05-16 18:06:24</td><td>2023-05-17 19:03:53</td><td><span style=white-space:pre-wrap>Larrabee St &amp; Webster Ave             </span></td><td><span style=white-space:pre-wrap>Western Ave &amp; Roscoe St               </span></td><td>casual</td><td>2023-05-16</td><td>05</td><td>16</td><td>2023</td><td><span style=white-space:pre-wrap>Tuesday  </span></td><td>18</td><td> 1497.483</td></tr>\n",
       "\t<tr><td>C65FD7B15C4C410F</td><td>classic_bike</td><td>2023-09-18 17:57:10</td><td>2023-09-19 18:54:33</td><td>DuSable Lake Shore Dr &amp; Wellington Ave</td><td>DuSable Lake Shore Dr &amp; Wellington Ave</td><td>member</td><td>2023-09-18</td><td>09</td><td>18</td><td>2023</td><td><span style=white-space:pre-wrap>Monday   </span></td><td>17</td><td> 1497.383</td></tr>\n",
       "\t<tr><td>D1B2433CCB28F892</td><td>classic_bike</td><td>2024-01-17 07:44:28</td><td>2024-01-18 08:41:47</td><td><span style=white-space:pre-wrap>Ellis Ave &amp; 60th St                   </span></td><td><span style=white-space:pre-wrap>Harper Ave &amp; 59th St                  </span></td><td>member</td><td>2024-01-17</td><td>01</td><td>17</td><td>2024</td><td>Wednesday</td><td> 7</td><td> 1497.317</td></tr>\n",
       "\t<tr><td>3309CF3DBCAD8E84</td><td>docked_bike </td><td>2023-08-20 19:43:06</td><td>2023-08-21 20:40:23</td><td><span style=white-space:pre-wrap>Prairie Ave &amp; 43rd St                 </span></td><td><span style=white-space:pre-wrap>Prairie Ave &amp; 43rd St                 </span></td><td>casual</td><td>2023-08-20</td><td>08</td><td>20</td><td>2023</td><td><span style=white-space:pre-wrap>Sunday   </span></td><td>19</td><td> 1497.283</td></tr>\n",
       "\t<tr><td>36628734F611A53C</td><td>classic_bike</td><td>2023-06-03 10:40:32</td><td>2023-06-04 11:36:15</td><td><span style=white-space:pre-wrap>Sheffield Ave &amp; Wrightwood Ave        </span></td><td><span style=white-space:pre-wrap>Ashland Ave &amp; Wrightwood Ave          </span></td><td>casual</td><td>2023-06-03</td><td>06</td><td>03</td><td>2023</td><td>Saturday </td><td>10</td><td> 1495.717</td></tr>\n",
       "\t<tr><td>3B059075C4C39AF9</td><td>classic_bike</td><td>2023-10-01 07:41:37</td><td>2023-10-02 08:37:11</td><td><span style=white-space:pre-wrap>Damen Ave &amp; Cortland St               </span></td><td><span style=white-space:pre-wrap>Damen Ave &amp; Cortland St               </span></td><td>casual</td><td>2023-10-01</td><td>10</td><td>01</td><td>2023</td><td><span style=white-space:pre-wrap>Sunday   </span></td><td> 7</td><td> 1495.567</td></tr>\n",
       "\t<tr><td>9B86B843855F9B4B</td><td>classic_bike</td><td>2024-02-22 12:23:42</td><td>2024-02-23 13:18:26</td><td><span style=white-space:pre-wrap>Cornell Ave &amp; Hyde Park Blvd          </span></td><td><span style=white-space:pre-wrap>Woodlawn Ave &amp; 58th St                </span></td><td>member</td><td>2024-02-22</td><td>02</td><td>22</td><td>2024</td><td>Thursday </td><td>12</td><td> 1494.733</td></tr>\n",
       "\t<tr><td>969C2DB1BE48310D</td><td>classic_bike</td><td>2023-12-12 08:20:24</td><td>2023-12-13 09:14:52</td><td><span style=white-space:pre-wrap>Fairfield Ave &amp; Roosevelt Rd          </span></td><td><span style=white-space:pre-wrap>Wood St &amp; Taylor St (Temp)            </span></td><td>member</td><td>2023-12-12</td><td>12</td><td>12</td><td>2023</td><td><span style=white-space:pre-wrap>Tuesday  </span></td><td> 8</td><td> 1494.467</td></tr>\n",
       "\t<tr><td>85BFC687957CCBB8</td><td>classic_bike</td><td>2024-02-05 09:14:14</td><td>2024-02-06 10:08:40</td><td><span style=white-space:pre-wrap>Wabash Ave &amp; Roosevelt Rd             </span></td><td><span style=white-space:pre-wrap>Halsted St &amp; Polk St                  </span></td><td>member</td><td>2024-02-05</td><td>02</td><td>05</td><td>2024</td><td><span style=white-space:pre-wrap>Monday   </span></td><td> 9</td><td> 1494.433</td></tr>\n",
       "\t<tr><td>888DCD04A8601E1E</td><td>classic_bike</td><td>2024-04-09 18:41:23</td><td>2024-04-10 19:34:56</td><td><span style=white-space:pre-wrap>California Ave &amp; Montrose Ave         </span></td><td><span style=white-space:pre-wrap>Manor Ave &amp; Leland Ave                </span></td><td>casual</td><td>2024-04-09</td><td>04</td><td>09</td><td>2024</td><td><span style=white-space:pre-wrap>Tuesday  </span></td><td>18</td><td> 1493.550</td></tr>\n",
       "\t<tr><td>6EA5C4A03EE52C44</td><td>classic_bike</td><td>2023-07-17 18:57:07</td><td>2023-07-18 19:50:27</td><td><span style=white-space:pre-wrap>Ellis Ave &amp; 60th St                   </span></td><td><span style=white-space:pre-wrap>Ellis Ave &amp; 60th St                   </span></td><td>casual</td><td>2023-07-17</td><td>07</td><td>17</td><td>2023</td><td><span style=white-space:pre-wrap>Monday   </span></td><td>18</td><td> 1493.333</td></tr>\n",
       "\t<tr><td>596C6E432ADA6786</td><td>classic_bike</td><td>2023-08-02 16:26:13</td><td>2023-08-03 17:19:14</td><td><span style=white-space:pre-wrap>Seeley Ave &amp; Roscoe St                </span></td><td><span style=white-space:pre-wrap>Lincoln Ave &amp; Roscoe St*              </span></td><td>member</td><td>2023-08-02</td><td>08</td><td>02</td><td>2023</td><td>Wednesday</td><td>16</td><td> 1493.017</td></tr>\n",
       "\t<tr><td>A6AA6DAD829D4861</td><td>classic_bike</td><td>2023-09-02 15:34:43</td><td>2023-09-03 16:27:42</td><td><span style=white-space:pre-wrap>Streeter Dr &amp; Grand Ave               </span></td><td><span style=white-space:pre-wrap>Racine Ave &amp; Randolph St              </span></td><td>casual</td><td>2023-09-02</td><td>09</td><td>02</td><td>2023</td><td>Saturday </td><td>15</td><td> 1492.983</td></tr>\n",
       "\t<tr><td>9C9DBBD2DC872B6A</td><td>classic_bike</td><td>2023-07-22 09:19:03</td><td>2023-07-23 10:11:43</td><td><span style=white-space:pre-wrap>Cornell Ave &amp; Hyde Park Blvd          </span></td><td><span style=white-space:pre-wrap>Cornell Ave &amp; Hyde Park Blvd          </span></td><td>casual</td><td>2023-07-22</td><td>07</td><td>22</td><td>2023</td><td>Saturday </td><td> 9</td><td> 1492.667</td></tr>\n",
       "\t<tr><td>7629FBAAB4B43EFD</td><td>docked_bike </td><td>2023-05-14 11:54:51</td><td>2023-05-15 12:47:25</td><td><span style=white-space:pre-wrap>Milwaukee Ave &amp; Rockwell St           </span></td><td><span style=white-space:pre-wrap>Milwaukee Ave &amp; Rockwell St           </span></td><td>casual</td><td>2023-05-14</td><td>05</td><td>14</td><td>2023</td><td><span style=white-space:pre-wrap>Sunday   </span></td><td>11</td><td> 1492.567</td></tr>\n",
       "\t<tr><td>⋮</td><td>⋮</td><td>⋮</td><td>⋮</td><td>⋮</td><td>⋮</td><td>⋮</td><td>⋮</td><td>⋮</td><td>⋮</td><td>⋮</td><td>⋮</td><td>⋮</td><td>⋮</td></tr>\n",
       "\t<tr><td>CFA29B1E2B889FCB</td><td>classic_bike </td><td>2024-04-11 17:25:28</td><td>2024-04-11 17:25:29</td><td><span style=white-space:pre-wrap>Larrabee St &amp; Menomonee St               </span></td><td><span style=white-space:pre-wrap>Larrabee St &amp; Menomonee St               </span></td><td>member</td><td>2024-04-11</td><td>04</td><td>11</td><td>2024</td><td>Thursday</td><td>17</td><td>0.01666667</td></tr>\n",
       "\t<tr><td>AF33B6A634E46BC2</td><td>electric_bike</td><td>2024-04-08 14:43:07</td><td>2024-04-08 14:43:08</td><td><span style=white-space:pre-wrap>Streeter Dr &amp; Grand Ave                  </span></td><td><span style=white-space:pre-wrap>Streeter Dr &amp; Grand Ave                  </span></td><td>casual</td><td>2024-04-08</td><td>04</td><td>08</td><td>2024</td><td><span style=white-space:pre-wrap>Monday  </span></td><td>14</td><td>0.01666667</td></tr>\n",
       "\t<tr><td>2D741544D284C6D8</td><td>classic_bike </td><td>2024-04-13 15:35:33</td><td>2024-04-13 15:35:34</td><td><span style=white-space:pre-wrap>Streeter Dr &amp; Grand Ave                  </span></td><td><span style=white-space:pre-wrap>Streeter Dr &amp; Grand Ave                  </span></td><td>casual</td><td>2024-04-13</td><td>04</td><td>13</td><td>2024</td><td>Saturday</td><td>15</td><td>0.01666667</td></tr>\n",
       "\t<tr><td>5C85A4CDF7B0F83E</td><td>classic_bike </td><td>2024-04-27 13:18:55</td><td>2024-04-27 13:18:56</td><td><span style=white-space:pre-wrap>Streeter Dr &amp; Grand Ave                  </span></td><td><span style=white-space:pre-wrap>Streeter Dr &amp; Grand Ave                  </span></td><td>member</td><td>2024-04-27</td><td>04</td><td>27</td><td>2024</td><td>Saturday</td><td>13</td><td>0.01666667</td></tr>\n",
       "\t<tr><td>6C9A1AE9647676A9</td><td>electric_bike</td><td>2024-04-30 08:43:06</td><td>2024-04-30 08:43:07</td><td><span style=white-space:pre-wrap>Francisco Ave &amp; Chicago Ave              </span></td><td><span style=white-space:pre-wrap>Francisco Ave &amp; Chicago Ave              </span></td><td>member</td><td>2024-04-30</td><td>04</td><td>30</td><td>2024</td><td>Tuesday </td><td> 8</td><td>0.01666667</td></tr>\n",
       "\t<tr><td>14B772E8AB698903</td><td>classic_bike </td><td>2024-04-28 15:40:01</td><td>2024-04-28 15:40:02</td><td><span style=white-space:pre-wrap>Canal St &amp; Jackson Blvd                  </span></td><td><span style=white-space:pre-wrap>Canal St &amp; Jackson Blvd                  </span></td><td>casual</td><td>2024-04-28</td><td>04</td><td>28</td><td>2024</td><td><span style=white-space:pre-wrap>Sunday  </span></td><td>15</td><td>0.01666667</td></tr>\n",
       "\t<tr><td>6A21DC61926F5589</td><td>electric_bike</td><td>2024-04-19 18:43:25</td><td>2024-04-19 18:43:26</td><td><span style=white-space:pre-wrap>Western Ave &amp; Gunnison St                </span></td><td><span style=white-space:pre-wrap>Western Ave &amp; Gunnison St                </span></td><td>casual</td><td>2024-04-19</td><td>04</td><td>19</td><td>2024</td><td><span style=white-space:pre-wrap>Friday  </span></td><td>18</td><td>0.01666667</td></tr>\n",
       "\t<tr><td>65A10FD5DB42FD72</td><td>electric_bike</td><td>2024-04-27 21:53:36</td><td>2024-04-27 21:53:37</td><td><span style=white-space:pre-wrap>Rush St &amp; Cedar St                       </span></td><td><span style=white-space:pre-wrap>Rush St &amp; Cedar St                       </span></td><td>casual</td><td>2024-04-27</td><td>04</td><td>27</td><td>2024</td><td>Saturday</td><td>21</td><td>0.01666667</td></tr>\n",
       "\t<tr><td>2D580593540C11FF</td><td>classic_bike </td><td>2024-04-26 12:32:56</td><td>2024-04-26 12:32:57</td><td><span style=white-space:pre-wrap>Dearborn Pkwy &amp; Delaware Pl              </span></td><td><span style=white-space:pre-wrap>Dearborn Pkwy &amp; Delaware Pl              </span></td><td>member</td><td>2024-04-26</td><td>04</td><td>26</td><td>2024</td><td><span style=white-space:pre-wrap>Friday  </span></td><td>12</td><td>0.01666667</td></tr>\n",
       "\t<tr><td>9CF6524E99B4C788</td><td>classic_bike </td><td>2024-04-27 15:56:37</td><td>2024-04-27 15:56:38</td><td><span style=white-space:pre-wrap>DuSable Lake Shore Dr &amp; North Blvd       </span></td><td><span style=white-space:pre-wrap>DuSable Lake Shore Dr &amp; North Blvd       </span></td><td>member</td><td>2024-04-27</td><td>04</td><td>27</td><td>2024</td><td>Saturday</td><td>15</td><td>0.01666667</td></tr>\n",
       "\t<tr><td>7A9524A8EED2E220</td><td>electric_bike</td><td>2024-04-04 11:58:19</td><td>2024-04-04 11:58:20</td><td><span style=white-space:pre-wrap>Kedzie Ave &amp; George St                   </span></td><td><span style=white-space:pre-wrap>Kedzie Ave &amp; George St                   </span></td><td>casual</td><td>2024-04-04</td><td>04</td><td>04</td><td>2024</td><td>Thursday</td><td>11</td><td>0.01666667</td></tr>\n",
       "\t<tr><td>A92132234B8EB87E</td><td>electric_bike</td><td>2024-04-25 18:12:14</td><td>2024-04-25 18:12:15</td><td><span style=white-space:pre-wrap>Kedzie Ave &amp; George St                   </span></td><td><span style=white-space:pre-wrap>Kedzie Ave &amp; George St                   </span></td><td>member</td><td>2024-04-25</td><td>04</td><td>25</td><td>2024</td><td>Thursday</td><td>18</td><td>0.01666667</td></tr>\n",
       "\t<tr><td>6BE39BEAA5B3E48F</td><td>electric_bike</td><td>2024-04-25 18:11:44</td><td>2024-04-25 18:11:45</td><td><span style=white-space:pre-wrap>Kedzie Ave &amp; George St                   </span></td><td><span style=white-space:pre-wrap>Kedzie Ave &amp; George St                   </span></td><td>member</td><td>2024-04-25</td><td>04</td><td>25</td><td>2024</td><td>Thursday</td><td>18</td><td>0.01666667</td></tr>\n",
       "\t<tr><td>96F565E5B5264578</td><td>electric_bike</td><td>2024-04-22 17:41:19</td><td>2024-04-22 17:41:20</td><td>Public Rack - Central Ave &amp; Pensacola Ave</td><td>Public Rack - Central Ave &amp; Pensacola Ave</td><td>casual</td><td>2024-04-22</td><td>04</td><td>22</td><td>2024</td><td><span style=white-space:pre-wrap>Monday  </span></td><td>17</td><td>0.01666667</td></tr>\n",
       "\t<tr><td>C72D92E1C2E1930E</td><td>electric_bike</td><td>2024-04-26 22:00:47</td><td>2024-04-26 22:00:48</td><td><span style=white-space:pre-wrap>N Southport Ave &amp; W Newport Ave          </span></td><td><span style=white-space:pre-wrap>N Southport Ave &amp; W Newport Ave          </span></td><td>casual</td><td>2024-04-26</td><td>04</td><td>26</td><td>2024</td><td><span style=white-space:pre-wrap>Friday  </span></td><td>22</td><td>0.01666667</td></tr>\n",
       "\t<tr><td>E29DB2AFE4031997</td><td>classic_bike </td><td>2024-04-29 09:24:14</td><td>2024-04-29 09:24:15</td><td><span style=white-space:pre-wrap>Blackstone Ave &amp; 59th St                 </span></td><td><span style=white-space:pre-wrap>Blackstone Ave &amp; 59th St                 </span></td><td>member</td><td>2024-04-29</td><td>04</td><td>29</td><td>2024</td><td><span style=white-space:pre-wrap>Monday  </span></td><td> 9</td><td>0.01666667</td></tr>\n",
       "\t<tr><td>5C870366D06BE552</td><td>classic_bike </td><td>2024-04-16 10:21:15</td><td>2024-04-16 10:21:16</td><td><span style=white-space:pre-wrap>Blackstone Ave &amp; 59th St                 </span></td><td><span style=white-space:pre-wrap>Blackstone Ave &amp; 59th St                 </span></td><td>member</td><td>2024-04-16</td><td>04</td><td>16</td><td>2024</td><td>Tuesday </td><td>10</td><td>0.01666667</td></tr>\n",
       "\t<tr><td>9F48B3F8EF040C9D</td><td>electric_bike</td><td>2024-04-14 01:16:26</td><td>2024-04-14 01:16:27</td><td><span style=white-space:pre-wrap>Blackstone Ave &amp; 59th St                 </span></td><td><span style=white-space:pre-wrap>Blackstone Ave &amp; 59th St                 </span></td><td>member</td><td>2024-04-14</td><td>04</td><td>14</td><td>2024</td><td><span style=white-space:pre-wrap>Sunday  </span></td><td> 1</td><td>0.01666667</td></tr>\n",
       "\t<tr><td>46F656FC810BE5B1</td><td>electric_bike</td><td>2024-04-04 10:53:31</td><td>2024-04-04 10:53:32</td><td><span style=white-space:pre-wrap>Blackstone Ave &amp; 59th St                 </span></td><td><span style=white-space:pre-wrap>Blackstone Ave &amp; 59th St                 </span></td><td>member</td><td>2024-04-04</td><td>04</td><td>04</td><td>2024</td><td>Thursday</td><td>10</td><td>0.01666667</td></tr>\n",
       "\t<tr><td>7B51BF1D1CFBF1C4</td><td>electric_bike</td><td>2024-04-12 08:31:10</td><td>2024-04-12 08:31:11</td><td><span style=white-space:pre-wrap>W Washington Blvd &amp; N Peoria St          </span></td><td><span style=white-space:pre-wrap>W Washington Blvd &amp; N Peoria St          </span></td><td>member</td><td>2024-04-12</td><td>04</td><td>12</td><td>2024</td><td><span style=white-space:pre-wrap>Friday  </span></td><td> 8</td><td>0.01666667</td></tr>\n",
       "\t<tr><td>FEA7D41782C8D4C6</td><td>electric_bike</td><td>2024-04-12 12:45:42</td><td>2024-04-12 12:45:43</td><td><span style=white-space:pre-wrap>W Washington Blvd &amp; N Peoria St          </span></td><td><span style=white-space:pre-wrap>W Washington Blvd &amp; N Peoria St          </span></td><td>member</td><td>2024-04-12</td><td>04</td><td>12</td><td>2024</td><td><span style=white-space:pre-wrap>Friday  </span></td><td>12</td><td>0.01666667</td></tr>\n",
       "\t<tr><td>88D65784A0229872</td><td>electric_bike</td><td>2024-04-13 21:26:16</td><td>2024-04-13 21:26:17</td><td><span style=white-space:pre-wrap>W Washington Blvd &amp; N Peoria St          </span></td><td><span style=white-space:pre-wrap>W Washington Blvd &amp; N Peoria St          </span></td><td>casual</td><td>2024-04-13</td><td>04</td><td>13</td><td>2024</td><td>Saturday</td><td>21</td><td>0.01666667</td></tr>\n",
       "\t<tr><td>E650EFCEEACA7911</td><td>electric_bike</td><td>2024-04-13 12:55:09</td><td>2024-04-13 12:55:10</td><td><span style=white-space:pre-wrap>W Washington Blvd &amp; N Peoria St          </span></td><td><span style=white-space:pre-wrap>W Washington Blvd &amp; N Peoria St          </span></td><td>member</td><td>2024-04-13</td><td>04</td><td>13</td><td>2024</td><td>Saturday</td><td>12</td><td>0.01666667</td></tr>\n",
       "\t<tr><td>98E14FD9597CF293</td><td>electric_bike</td><td>2024-04-13 12:56:03</td><td>2024-04-13 12:56:04</td><td><span style=white-space:pre-wrap>W Washington Blvd &amp; N Peoria St          </span></td><td><span style=white-space:pre-wrap>W Washington Blvd &amp; N Peoria St          </span></td><td>member</td><td>2024-04-13</td><td>04</td><td>13</td><td>2024</td><td>Saturday</td><td>12</td><td>0.01666667</td></tr>\n",
       "\t<tr><td>BFFE877D23CF8072</td><td>electric_bike</td><td>2024-04-13 10:57:17</td><td>2024-04-13 10:57:18</td><td><span style=white-space:pre-wrap>W Washington Blvd &amp; N Peoria St          </span></td><td><span style=white-space:pre-wrap>W Washington Blvd &amp; N Peoria St          </span></td><td>member</td><td>2024-04-13</td><td>04</td><td>13</td><td>2024</td><td>Saturday</td><td>10</td><td>0.01666667</td></tr>\n",
       "\t<tr><td>85403A541C6CA215</td><td>electric_bike</td><td>2024-04-12 22:36:24</td><td>2024-04-12 22:36:25</td><td><span style=white-space:pre-wrap>W Washington Blvd &amp; N Peoria St          </span></td><td><span style=white-space:pre-wrap>W Washington Blvd &amp; N Peoria St          </span></td><td>member</td><td>2024-04-12</td><td>04</td><td>12</td><td>2024</td><td><span style=white-space:pre-wrap>Friday  </span></td><td>22</td><td>0.01666667</td></tr>\n",
       "\t<tr><td>96CEC7775EEDF506</td><td>electric_bike</td><td>2024-04-22 17:22:31</td><td>2024-04-22 17:22:32</td><td><span style=white-space:pre-wrap>N Carpenter St &amp; W Lake St               </span></td><td><span style=white-space:pre-wrap>N Carpenter St &amp; W Lake St               </span></td><td>member</td><td>2024-04-22</td><td>04</td><td>22</td><td>2024</td><td><span style=white-space:pre-wrap>Monday  </span></td><td>17</td><td>0.01666667</td></tr>\n",
       "\t<tr><td>49838255379679E6</td><td>electric_bike</td><td>2024-04-23 18:40:17</td><td>2024-04-23 18:40:18</td><td><span style=white-space:pre-wrap>Clinton St &amp; Washington Blvd             </span></td><td><span style=white-space:pre-wrap>Clinton St &amp; Washington Blvd             </span></td><td>member</td><td>2024-04-23</td><td>04</td><td>23</td><td>2024</td><td>Tuesday </td><td>18</td><td>0.01666667</td></tr>\n",
       "\t<tr><td>B72ECE692BAF48D5</td><td>classic_bike </td><td>2024-04-29 18:51:04</td><td>2024-04-29 18:51:05</td><td><span style=white-space:pre-wrap>Mies van der Rohe Way &amp; Chicago Ave      </span></td><td><span style=white-space:pre-wrap>Mies van der Rohe Way &amp; Chicago Ave      </span></td><td>member</td><td>2024-04-29</td><td>04</td><td>29</td><td>2024</td><td><span style=white-space:pre-wrap>Monday  </span></td><td>18</td><td>0.01666667</td></tr>\n",
       "\t<tr><td>6647CA791B143A1B</td><td>classic_bike </td><td>2024-04-13 12:59:23</td><td>2024-04-13 12:59:24</td><td><span style=white-space:pre-wrap>Ellis Ave &amp; 60th St                      </span></td><td><span style=white-space:pre-wrap>Ellis Ave &amp; 60th St                      </span></td><td>member</td><td>2024-04-13</td><td>04</td><td>13</td><td>2024</td><td>Saturday</td><td>12</td><td>0.01666667</td></tr>\n",
       "</tbody>\n",
       "</table>\n"
      ],
      "text/latex": [
       "A data.frame: 4335303 × 14\n",
       "\\begin{tabular}{llllllllllllll}\n",
       " ride\\_id & rideable\\_type & started\\_at & ended\\_at & start\\_station\\_name & end\\_station\\_name & member\\_casual & date & month & day & year & day\\_of\\_week & hour & trip\\_length\\\\\n",
       " <chr> & <chr> & <dttm> & <dttm> & <chr> & <chr> & <chr> & <date> & <chr> & <chr> & <chr> & <chr> & <int> & <dbl>\\\\\n",
       "\\hline\n",
       "\t 59AD7EE868FC6588 & docked\\_bike  & 2023-05-30 12:48:08 & 2023-06-07 23:04:26 & Wells St \\& Polk St                     & Lincoln Ave \\& Roscoe St*               & casual & 2023-05-30 & 05 & 30 & 2023 & Tuesday   & 12 & 12136.300\\\\\n",
       "\t FA287922CA358CE0 & docked\\_bike  & 2023-06-03 17:52:15 & 2023-06-11 11:44:31 & Fort Dearborn Dr \\& 31st St             & Fort Dearborn Dr \\& 31st St*            & casual & 2023-06-03 & 06 & 03 & 2023 & Saturday  & 17 & 11152.267\\\\\n",
       "\t 47158A16C754A9F4 & docked\\_bike  & 2023-08-10 22:17:49 & 2023-08-15 17:09:02 & Larrabee St \\& Webster Ave              & Michigan Ave \\& Oak St                  & casual & 2023-08-10 & 08 & 10 & 2023 & Thursday  & 22 &  6891.217\\\\\n",
       "\t 4031082BC503CC84 & docked\\_bike  & 2023-08-02 17:28:57 & 2023-08-06 11:07:57 & University Ave \\& 57th St               & Museum of Science and Industry         & casual & 2023-08-02 & 08 & 02 & 2023 & Wednesday & 17 &  5379.000\\\\\n",
       "\t 3BC5FFFDF7503DAA & docked\\_bike  & 2023-06-15 13:28:59 & 2023-06-18 23:12:06 & DuSable Lake Shore Dr \\& Monroe St      & Fort Dearborn Dr \\& 31st St*            & casual & 2023-06-15 & 06 & 15 & 2023 & Thursday  & 13 &  4903.117\\\\\n",
       "\t 6786F74C5A6183FB & docked\\_bike  & 2023-06-18 19:21:22 & 2023-06-21 10:59:46 & Dusable Harbor                         & Wentworth Ave \\& Cermak Rd*             & casual & 2023-06-18 & 06 & 18 & 2023 & Sunday    & 19 &  3818.400\\\\\n",
       "\t D2273A0F45CDD4CC & docked\\_bike  & 2023-08-18 09:13:48 & 2023-08-20 16:14:38 & 2112 W Peterson Ave                    & Sheridan Rd \\& Loyola Ave               & casual & 2023-08-18 & 08 & 18 & 2023 & Friday    &  9 &  3300.833\\\\\n",
       "\t A795B5420E15A65B & docked\\_bike  & 2023-05-10 18:42:11 & 2023-05-13 00:47:58 & Clark St \\& Schiller St                 & Ashland Ave \\& Wellington Ave           & casual & 2023-05-10 & 05 & 10 & 2023 & Wednesday & 18 &  3245.783\\\\\n",
       "\t 280CB8109510E280 & docked\\_bike  & 2023-07-06 21:34:55 & 2023-07-08 14:32:46 & California Ave \\& North Ave             & Damen Ave \\& Pierce Ave                 & casual & 2023-07-06 & 07 & 06 & 2023 & Thursday  & 21 &  2457.850\\\\\n",
       "\t 81526396CBFBD708 & docked\\_bike  & 2023-05-06 12:53:46 & 2023-05-07 18:21:09 & DuSable Lake Shore Dr \\& Monroe St      & Morgan St \\& Lake St*                   & casual & 2023-05-06 & 05 & 06 & 2023 & Saturday  & 12 &  1767.383\\\\\n",
       "\t 7A5CAAC52FAE9E95 & classic\\_bike & 2024-03-09 16:58:39 & 2024-03-10 18:08:01 & Talman Ave \\& Addison St                & Talman Ave \\& Addison St                & casual & 2024-03-09 & 03 & 09 & 2024 & Saturday  & 16 &  1509.367\\\\\n",
       "\t ABA068CBC4FFDA47 & docked\\_bike  & 2023-07-26 02:23:38 & 2023-07-27 03:22:27 & Hoyne Ave \\& 47th St                    & Yates Blvd \\& 75th St                   & casual & 2023-07-26 & 07 & 26 & 2023 & Wednesday &  2 &  1498.817\\\\\n",
       "\t 7AC23ADF3F785C89 & classic\\_bike & 2023-09-29 12:32:03 & 2023-09-30 13:29:57 & Halsted St \\& 63rd St                   & Halsted St \\& 63rd St                   & casual & 2023-09-29 & 09 & 29 & 2023 & Friday    & 12 &  1497.900\\\\\n",
       "\t 8AFD9583BC85E0DE & classic\\_bike & 2024-02-01 17:28:26 & 2024-02-02 18:26:05 & Benson Ave \\& Church St                 & Sheridan Rd \\& Noyes St (NU)            & member & 2024-02-01 & 02 & 01 & 2024 & Thursday  & 17 &  1497.650\\\\\n",
       "\t 2503BA4056C4C83B & classic\\_bike & 2023-11-11 11:58:41 & 2023-11-12 12:56:11 & Montrose Harbor                        & Clark St \\& Leland Ave                  & member & 2023-11-11 & 11 & 11 & 2023 & Saturday  & 11 &  1497.500\\\\\n",
       "\t CB93E203A174AC97 & classic\\_bike & 2023-05-16 18:06:24 & 2023-05-17 19:03:53 & Larrabee St \\& Webster Ave              & Western Ave \\& Roscoe St                & casual & 2023-05-16 & 05 & 16 & 2023 & Tuesday   & 18 &  1497.483\\\\\n",
       "\t C65FD7B15C4C410F & classic\\_bike & 2023-09-18 17:57:10 & 2023-09-19 18:54:33 & DuSable Lake Shore Dr \\& Wellington Ave & DuSable Lake Shore Dr \\& Wellington Ave & member & 2023-09-18 & 09 & 18 & 2023 & Monday    & 17 &  1497.383\\\\\n",
       "\t D1B2433CCB28F892 & classic\\_bike & 2024-01-17 07:44:28 & 2024-01-18 08:41:47 & Ellis Ave \\& 60th St                    & Harper Ave \\& 59th St                   & member & 2024-01-17 & 01 & 17 & 2024 & Wednesday &  7 &  1497.317\\\\\n",
       "\t 3309CF3DBCAD8E84 & docked\\_bike  & 2023-08-20 19:43:06 & 2023-08-21 20:40:23 & Prairie Ave \\& 43rd St                  & Prairie Ave \\& 43rd St                  & casual & 2023-08-20 & 08 & 20 & 2023 & Sunday    & 19 &  1497.283\\\\\n",
       "\t 36628734F611A53C & classic\\_bike & 2023-06-03 10:40:32 & 2023-06-04 11:36:15 & Sheffield Ave \\& Wrightwood Ave         & Ashland Ave \\& Wrightwood Ave           & casual & 2023-06-03 & 06 & 03 & 2023 & Saturday  & 10 &  1495.717\\\\\n",
       "\t 3B059075C4C39AF9 & classic\\_bike & 2023-10-01 07:41:37 & 2023-10-02 08:37:11 & Damen Ave \\& Cortland St                & Damen Ave \\& Cortland St                & casual & 2023-10-01 & 10 & 01 & 2023 & Sunday    &  7 &  1495.567\\\\\n",
       "\t 9B86B843855F9B4B & classic\\_bike & 2024-02-22 12:23:42 & 2024-02-23 13:18:26 & Cornell Ave \\& Hyde Park Blvd           & Woodlawn Ave \\& 58th St                 & member & 2024-02-22 & 02 & 22 & 2024 & Thursday  & 12 &  1494.733\\\\\n",
       "\t 969C2DB1BE48310D & classic\\_bike & 2023-12-12 08:20:24 & 2023-12-13 09:14:52 & Fairfield Ave \\& Roosevelt Rd           & Wood St \\& Taylor St (Temp)             & member & 2023-12-12 & 12 & 12 & 2023 & Tuesday   &  8 &  1494.467\\\\\n",
       "\t 85BFC687957CCBB8 & classic\\_bike & 2024-02-05 09:14:14 & 2024-02-06 10:08:40 & Wabash Ave \\& Roosevelt Rd              & Halsted St \\& Polk St                   & member & 2024-02-05 & 02 & 05 & 2024 & Monday    &  9 &  1494.433\\\\\n",
       "\t 888DCD04A8601E1E & classic\\_bike & 2024-04-09 18:41:23 & 2024-04-10 19:34:56 & California Ave \\& Montrose Ave          & Manor Ave \\& Leland Ave                 & casual & 2024-04-09 & 04 & 09 & 2024 & Tuesday   & 18 &  1493.550\\\\\n",
       "\t 6EA5C4A03EE52C44 & classic\\_bike & 2023-07-17 18:57:07 & 2023-07-18 19:50:27 & Ellis Ave \\& 60th St                    & Ellis Ave \\& 60th St                    & casual & 2023-07-17 & 07 & 17 & 2023 & Monday    & 18 &  1493.333\\\\\n",
       "\t 596C6E432ADA6786 & classic\\_bike & 2023-08-02 16:26:13 & 2023-08-03 17:19:14 & Seeley Ave \\& Roscoe St                 & Lincoln Ave \\& Roscoe St*               & member & 2023-08-02 & 08 & 02 & 2023 & Wednesday & 16 &  1493.017\\\\\n",
       "\t A6AA6DAD829D4861 & classic\\_bike & 2023-09-02 15:34:43 & 2023-09-03 16:27:42 & Streeter Dr \\& Grand Ave                & Racine Ave \\& Randolph St               & casual & 2023-09-02 & 09 & 02 & 2023 & Saturday  & 15 &  1492.983\\\\\n",
       "\t 9C9DBBD2DC872B6A & classic\\_bike & 2023-07-22 09:19:03 & 2023-07-23 10:11:43 & Cornell Ave \\& Hyde Park Blvd           & Cornell Ave \\& Hyde Park Blvd           & casual & 2023-07-22 & 07 & 22 & 2023 & Saturday  &  9 &  1492.667\\\\\n",
       "\t 7629FBAAB4B43EFD & docked\\_bike  & 2023-05-14 11:54:51 & 2023-05-15 12:47:25 & Milwaukee Ave \\& Rockwell St            & Milwaukee Ave \\& Rockwell St            & casual & 2023-05-14 & 05 & 14 & 2023 & Sunday    & 11 &  1492.567\\\\\n",
       "\t ⋮ & ⋮ & ⋮ & ⋮ & ⋮ & ⋮ & ⋮ & ⋮ & ⋮ & ⋮ & ⋮ & ⋮ & ⋮ & ⋮\\\\\n",
       "\t CFA29B1E2B889FCB & classic\\_bike  & 2024-04-11 17:25:28 & 2024-04-11 17:25:29 & Larrabee St \\& Menomonee St                & Larrabee St \\& Menomonee St                & member & 2024-04-11 & 04 & 11 & 2024 & Thursday & 17 & 0.01666667\\\\\n",
       "\t AF33B6A634E46BC2 & electric\\_bike & 2024-04-08 14:43:07 & 2024-04-08 14:43:08 & Streeter Dr \\& Grand Ave                   & Streeter Dr \\& Grand Ave                   & casual & 2024-04-08 & 04 & 08 & 2024 & Monday   & 14 & 0.01666667\\\\\n",
       "\t 2D741544D284C6D8 & classic\\_bike  & 2024-04-13 15:35:33 & 2024-04-13 15:35:34 & Streeter Dr \\& Grand Ave                   & Streeter Dr \\& Grand Ave                   & casual & 2024-04-13 & 04 & 13 & 2024 & Saturday & 15 & 0.01666667\\\\\n",
       "\t 5C85A4CDF7B0F83E & classic\\_bike  & 2024-04-27 13:18:55 & 2024-04-27 13:18:56 & Streeter Dr \\& Grand Ave                   & Streeter Dr \\& Grand Ave                   & member & 2024-04-27 & 04 & 27 & 2024 & Saturday & 13 & 0.01666667\\\\\n",
       "\t 6C9A1AE9647676A9 & electric\\_bike & 2024-04-30 08:43:06 & 2024-04-30 08:43:07 & Francisco Ave \\& Chicago Ave               & Francisco Ave \\& Chicago Ave               & member & 2024-04-30 & 04 & 30 & 2024 & Tuesday  &  8 & 0.01666667\\\\\n",
       "\t 14B772E8AB698903 & classic\\_bike  & 2024-04-28 15:40:01 & 2024-04-28 15:40:02 & Canal St \\& Jackson Blvd                   & Canal St \\& Jackson Blvd                   & casual & 2024-04-28 & 04 & 28 & 2024 & Sunday   & 15 & 0.01666667\\\\\n",
       "\t 6A21DC61926F5589 & electric\\_bike & 2024-04-19 18:43:25 & 2024-04-19 18:43:26 & Western Ave \\& Gunnison St                 & Western Ave \\& Gunnison St                 & casual & 2024-04-19 & 04 & 19 & 2024 & Friday   & 18 & 0.01666667\\\\\n",
       "\t 65A10FD5DB42FD72 & electric\\_bike & 2024-04-27 21:53:36 & 2024-04-27 21:53:37 & Rush St \\& Cedar St                        & Rush St \\& Cedar St                        & casual & 2024-04-27 & 04 & 27 & 2024 & Saturday & 21 & 0.01666667\\\\\n",
       "\t 2D580593540C11FF & classic\\_bike  & 2024-04-26 12:32:56 & 2024-04-26 12:32:57 & Dearborn Pkwy \\& Delaware Pl               & Dearborn Pkwy \\& Delaware Pl               & member & 2024-04-26 & 04 & 26 & 2024 & Friday   & 12 & 0.01666667\\\\\n",
       "\t 9CF6524E99B4C788 & classic\\_bike  & 2024-04-27 15:56:37 & 2024-04-27 15:56:38 & DuSable Lake Shore Dr \\& North Blvd        & DuSable Lake Shore Dr \\& North Blvd        & member & 2024-04-27 & 04 & 27 & 2024 & Saturday & 15 & 0.01666667\\\\\n",
       "\t 7A9524A8EED2E220 & electric\\_bike & 2024-04-04 11:58:19 & 2024-04-04 11:58:20 & Kedzie Ave \\& George St                    & Kedzie Ave \\& George St                    & casual & 2024-04-04 & 04 & 04 & 2024 & Thursday & 11 & 0.01666667\\\\\n",
       "\t A92132234B8EB87E & electric\\_bike & 2024-04-25 18:12:14 & 2024-04-25 18:12:15 & Kedzie Ave \\& George St                    & Kedzie Ave \\& George St                    & member & 2024-04-25 & 04 & 25 & 2024 & Thursday & 18 & 0.01666667\\\\\n",
       "\t 6BE39BEAA5B3E48F & electric\\_bike & 2024-04-25 18:11:44 & 2024-04-25 18:11:45 & Kedzie Ave \\& George St                    & Kedzie Ave \\& George St                    & member & 2024-04-25 & 04 & 25 & 2024 & Thursday & 18 & 0.01666667\\\\\n",
       "\t 96F565E5B5264578 & electric\\_bike & 2024-04-22 17:41:19 & 2024-04-22 17:41:20 & Public Rack - Central Ave \\& Pensacola Ave & Public Rack - Central Ave \\& Pensacola Ave & casual & 2024-04-22 & 04 & 22 & 2024 & Monday   & 17 & 0.01666667\\\\\n",
       "\t C72D92E1C2E1930E & electric\\_bike & 2024-04-26 22:00:47 & 2024-04-26 22:00:48 & N Southport Ave \\& W Newport Ave           & N Southport Ave \\& W Newport Ave           & casual & 2024-04-26 & 04 & 26 & 2024 & Friday   & 22 & 0.01666667\\\\\n",
       "\t E29DB2AFE4031997 & classic\\_bike  & 2024-04-29 09:24:14 & 2024-04-29 09:24:15 & Blackstone Ave \\& 59th St                  & Blackstone Ave \\& 59th St                  & member & 2024-04-29 & 04 & 29 & 2024 & Monday   &  9 & 0.01666667\\\\\n",
       "\t 5C870366D06BE552 & classic\\_bike  & 2024-04-16 10:21:15 & 2024-04-16 10:21:16 & Blackstone Ave \\& 59th St                  & Blackstone Ave \\& 59th St                  & member & 2024-04-16 & 04 & 16 & 2024 & Tuesday  & 10 & 0.01666667\\\\\n",
       "\t 9F48B3F8EF040C9D & electric\\_bike & 2024-04-14 01:16:26 & 2024-04-14 01:16:27 & Blackstone Ave \\& 59th St                  & Blackstone Ave \\& 59th St                  & member & 2024-04-14 & 04 & 14 & 2024 & Sunday   &  1 & 0.01666667\\\\\n",
       "\t 46F656FC810BE5B1 & electric\\_bike & 2024-04-04 10:53:31 & 2024-04-04 10:53:32 & Blackstone Ave \\& 59th St                  & Blackstone Ave \\& 59th St                  & member & 2024-04-04 & 04 & 04 & 2024 & Thursday & 10 & 0.01666667\\\\\n",
       "\t 7B51BF1D1CFBF1C4 & electric\\_bike & 2024-04-12 08:31:10 & 2024-04-12 08:31:11 & W Washington Blvd \\& N Peoria St           & W Washington Blvd \\& N Peoria St           & member & 2024-04-12 & 04 & 12 & 2024 & Friday   &  8 & 0.01666667\\\\\n",
       "\t FEA7D41782C8D4C6 & electric\\_bike & 2024-04-12 12:45:42 & 2024-04-12 12:45:43 & W Washington Blvd \\& N Peoria St           & W Washington Blvd \\& N Peoria St           & member & 2024-04-12 & 04 & 12 & 2024 & Friday   & 12 & 0.01666667\\\\\n",
       "\t 88D65784A0229872 & electric\\_bike & 2024-04-13 21:26:16 & 2024-04-13 21:26:17 & W Washington Blvd \\& N Peoria St           & W Washington Blvd \\& N Peoria St           & casual & 2024-04-13 & 04 & 13 & 2024 & Saturday & 21 & 0.01666667\\\\\n",
       "\t E650EFCEEACA7911 & electric\\_bike & 2024-04-13 12:55:09 & 2024-04-13 12:55:10 & W Washington Blvd \\& N Peoria St           & W Washington Blvd \\& N Peoria St           & member & 2024-04-13 & 04 & 13 & 2024 & Saturday & 12 & 0.01666667\\\\\n",
       "\t 98E14FD9597CF293 & electric\\_bike & 2024-04-13 12:56:03 & 2024-04-13 12:56:04 & W Washington Blvd \\& N Peoria St           & W Washington Blvd \\& N Peoria St           & member & 2024-04-13 & 04 & 13 & 2024 & Saturday & 12 & 0.01666667\\\\\n",
       "\t BFFE877D23CF8072 & electric\\_bike & 2024-04-13 10:57:17 & 2024-04-13 10:57:18 & W Washington Blvd \\& N Peoria St           & W Washington Blvd \\& N Peoria St           & member & 2024-04-13 & 04 & 13 & 2024 & Saturday & 10 & 0.01666667\\\\\n",
       "\t 85403A541C6CA215 & electric\\_bike & 2024-04-12 22:36:24 & 2024-04-12 22:36:25 & W Washington Blvd \\& N Peoria St           & W Washington Blvd \\& N Peoria St           & member & 2024-04-12 & 04 & 12 & 2024 & Friday   & 22 & 0.01666667\\\\\n",
       "\t 96CEC7775EEDF506 & electric\\_bike & 2024-04-22 17:22:31 & 2024-04-22 17:22:32 & N Carpenter St \\& W Lake St                & N Carpenter St \\& W Lake St                & member & 2024-04-22 & 04 & 22 & 2024 & Monday   & 17 & 0.01666667\\\\\n",
       "\t 49838255379679E6 & electric\\_bike & 2024-04-23 18:40:17 & 2024-04-23 18:40:18 & Clinton St \\& Washington Blvd              & Clinton St \\& Washington Blvd              & member & 2024-04-23 & 04 & 23 & 2024 & Tuesday  & 18 & 0.01666667\\\\\n",
       "\t B72ECE692BAF48D5 & classic\\_bike  & 2024-04-29 18:51:04 & 2024-04-29 18:51:05 & Mies van der Rohe Way \\& Chicago Ave       & Mies van der Rohe Way \\& Chicago Ave       & member & 2024-04-29 & 04 & 29 & 2024 & Monday   & 18 & 0.01666667\\\\\n",
       "\t 6647CA791B143A1B & classic\\_bike  & 2024-04-13 12:59:23 & 2024-04-13 12:59:24 & Ellis Ave \\& 60th St                       & Ellis Ave \\& 60th St                       & member & 2024-04-13 & 04 & 13 & 2024 & Saturday & 12 & 0.01666667\\\\\n",
       "\\end{tabular}\n"
      ],
      "text/markdown": [
       "\n",
       "A data.frame: 4335303 × 14\n",
       "\n",
       "| ride_id &lt;chr&gt; | rideable_type &lt;chr&gt; | started_at &lt;dttm&gt; | ended_at &lt;dttm&gt; | start_station_name &lt;chr&gt; | end_station_name &lt;chr&gt; | member_casual &lt;chr&gt; | date &lt;date&gt; | month &lt;chr&gt; | day &lt;chr&gt; | year &lt;chr&gt; | day_of_week &lt;chr&gt; | hour &lt;int&gt; | trip_length &lt;dbl&gt; |\n",
       "|---|---|---|---|---|---|---|---|---|---|---|---|---|---|\n",
       "| 59AD7EE868FC6588 | docked_bike  | 2023-05-30 12:48:08 | 2023-06-07 23:04:26 | Wells St &amp; Polk St                     | Lincoln Ave &amp; Roscoe St*               | casual | 2023-05-30 | 05 | 30 | 2023 | Tuesday   | 12 | 12136.300 |\n",
       "| FA287922CA358CE0 | docked_bike  | 2023-06-03 17:52:15 | 2023-06-11 11:44:31 | Fort Dearborn Dr &amp; 31st St             | Fort Dearborn Dr &amp; 31st St*            | casual | 2023-06-03 | 06 | 03 | 2023 | Saturday  | 17 | 11152.267 |\n",
       "| 47158A16C754A9F4 | docked_bike  | 2023-08-10 22:17:49 | 2023-08-15 17:09:02 | Larrabee St &amp; Webster Ave              | Michigan Ave &amp; Oak St                  | casual | 2023-08-10 | 08 | 10 | 2023 | Thursday  | 22 |  6891.217 |\n",
       "| 4031082BC503CC84 | docked_bike  | 2023-08-02 17:28:57 | 2023-08-06 11:07:57 | University Ave &amp; 57th St               | Museum of Science and Industry         | casual | 2023-08-02 | 08 | 02 | 2023 | Wednesday | 17 |  5379.000 |\n",
       "| 3BC5FFFDF7503DAA | docked_bike  | 2023-06-15 13:28:59 | 2023-06-18 23:12:06 | DuSable Lake Shore Dr &amp; Monroe St      | Fort Dearborn Dr &amp; 31st St*            | casual | 2023-06-15 | 06 | 15 | 2023 | Thursday  | 13 |  4903.117 |\n",
       "| 6786F74C5A6183FB | docked_bike  | 2023-06-18 19:21:22 | 2023-06-21 10:59:46 | Dusable Harbor                         | Wentworth Ave &amp; Cermak Rd*             | casual | 2023-06-18 | 06 | 18 | 2023 | Sunday    | 19 |  3818.400 |\n",
       "| D2273A0F45CDD4CC | docked_bike  | 2023-08-18 09:13:48 | 2023-08-20 16:14:38 | 2112 W Peterson Ave                    | Sheridan Rd &amp; Loyola Ave               | casual | 2023-08-18 | 08 | 18 | 2023 | Friday    |  9 |  3300.833 |\n",
       "| A795B5420E15A65B | docked_bike  | 2023-05-10 18:42:11 | 2023-05-13 00:47:58 | Clark St &amp; Schiller St                 | Ashland Ave &amp; Wellington Ave           | casual | 2023-05-10 | 05 | 10 | 2023 | Wednesday | 18 |  3245.783 |\n",
       "| 280CB8109510E280 | docked_bike  | 2023-07-06 21:34:55 | 2023-07-08 14:32:46 | California Ave &amp; North Ave             | Damen Ave &amp; Pierce Ave                 | casual | 2023-07-06 | 07 | 06 | 2023 | Thursday  | 21 |  2457.850 |\n",
       "| 81526396CBFBD708 | docked_bike  | 2023-05-06 12:53:46 | 2023-05-07 18:21:09 | DuSable Lake Shore Dr &amp; Monroe St      | Morgan St &amp; Lake St*                   | casual | 2023-05-06 | 05 | 06 | 2023 | Saturday  | 12 |  1767.383 |\n",
       "| 7A5CAAC52FAE9E95 | classic_bike | 2024-03-09 16:58:39 | 2024-03-10 18:08:01 | Talman Ave &amp; Addison St                | Talman Ave &amp; Addison St                | casual | 2024-03-09 | 03 | 09 | 2024 | Saturday  | 16 |  1509.367 |\n",
       "| ABA068CBC4FFDA47 | docked_bike  | 2023-07-26 02:23:38 | 2023-07-27 03:22:27 | Hoyne Ave &amp; 47th St                    | Yates Blvd &amp; 75th St                   | casual | 2023-07-26 | 07 | 26 | 2023 | Wednesday |  2 |  1498.817 |\n",
       "| 7AC23ADF3F785C89 | classic_bike | 2023-09-29 12:32:03 | 2023-09-30 13:29:57 | Halsted St &amp; 63rd St                   | Halsted St &amp; 63rd St                   | casual | 2023-09-29 | 09 | 29 | 2023 | Friday    | 12 |  1497.900 |\n",
       "| 8AFD9583BC85E0DE | classic_bike | 2024-02-01 17:28:26 | 2024-02-02 18:26:05 | Benson Ave &amp; Church St                 | Sheridan Rd &amp; Noyes St (NU)            | member | 2024-02-01 | 02 | 01 | 2024 | Thursday  | 17 |  1497.650 |\n",
       "| 2503BA4056C4C83B | classic_bike | 2023-11-11 11:58:41 | 2023-11-12 12:56:11 | Montrose Harbor                        | Clark St &amp; Leland Ave                  | member | 2023-11-11 | 11 | 11 | 2023 | Saturday  | 11 |  1497.500 |\n",
       "| CB93E203A174AC97 | classic_bike | 2023-05-16 18:06:24 | 2023-05-17 19:03:53 | Larrabee St &amp; Webster Ave              | Western Ave &amp; Roscoe St                | casual | 2023-05-16 | 05 | 16 | 2023 | Tuesday   | 18 |  1497.483 |\n",
       "| C65FD7B15C4C410F | classic_bike | 2023-09-18 17:57:10 | 2023-09-19 18:54:33 | DuSable Lake Shore Dr &amp; Wellington Ave | DuSable Lake Shore Dr &amp; Wellington Ave | member | 2023-09-18 | 09 | 18 | 2023 | Monday    | 17 |  1497.383 |\n",
       "| D1B2433CCB28F892 | classic_bike | 2024-01-17 07:44:28 | 2024-01-18 08:41:47 | Ellis Ave &amp; 60th St                    | Harper Ave &amp; 59th St                   | member | 2024-01-17 | 01 | 17 | 2024 | Wednesday |  7 |  1497.317 |\n",
       "| 3309CF3DBCAD8E84 | docked_bike  | 2023-08-20 19:43:06 | 2023-08-21 20:40:23 | Prairie Ave &amp; 43rd St                  | Prairie Ave &amp; 43rd St                  | casual | 2023-08-20 | 08 | 20 | 2023 | Sunday    | 19 |  1497.283 |\n",
       "| 36628734F611A53C | classic_bike | 2023-06-03 10:40:32 | 2023-06-04 11:36:15 | Sheffield Ave &amp; Wrightwood Ave         | Ashland Ave &amp; Wrightwood Ave           | casual | 2023-06-03 | 06 | 03 | 2023 | Saturday  | 10 |  1495.717 |\n",
       "| 3B059075C4C39AF9 | classic_bike | 2023-10-01 07:41:37 | 2023-10-02 08:37:11 | Damen Ave &amp; Cortland St                | Damen Ave &amp; Cortland St                | casual | 2023-10-01 | 10 | 01 | 2023 | Sunday    |  7 |  1495.567 |\n",
       "| 9B86B843855F9B4B | classic_bike | 2024-02-22 12:23:42 | 2024-02-23 13:18:26 | Cornell Ave &amp; Hyde Park Blvd           | Woodlawn Ave &amp; 58th St                 | member | 2024-02-22 | 02 | 22 | 2024 | Thursday  | 12 |  1494.733 |\n",
       "| 969C2DB1BE48310D | classic_bike | 2023-12-12 08:20:24 | 2023-12-13 09:14:52 | Fairfield Ave &amp; Roosevelt Rd           | Wood St &amp; Taylor St (Temp)             | member | 2023-12-12 | 12 | 12 | 2023 | Tuesday   |  8 |  1494.467 |\n",
       "| 85BFC687957CCBB8 | classic_bike | 2024-02-05 09:14:14 | 2024-02-06 10:08:40 | Wabash Ave &amp; Roosevelt Rd              | Halsted St &amp; Polk St                   | member | 2024-02-05 | 02 | 05 | 2024 | Monday    |  9 |  1494.433 |\n",
       "| 888DCD04A8601E1E | classic_bike | 2024-04-09 18:41:23 | 2024-04-10 19:34:56 | California Ave &amp; Montrose Ave          | Manor Ave &amp; Leland Ave                 | casual | 2024-04-09 | 04 | 09 | 2024 | Tuesday   | 18 |  1493.550 |\n",
       "| 6EA5C4A03EE52C44 | classic_bike | 2023-07-17 18:57:07 | 2023-07-18 19:50:27 | Ellis Ave &amp; 60th St                    | Ellis Ave &amp; 60th St                    | casual | 2023-07-17 | 07 | 17 | 2023 | Monday    | 18 |  1493.333 |\n",
       "| 596C6E432ADA6786 | classic_bike | 2023-08-02 16:26:13 | 2023-08-03 17:19:14 | Seeley Ave &amp; Roscoe St                 | Lincoln Ave &amp; Roscoe St*               | member | 2023-08-02 | 08 | 02 | 2023 | Wednesday | 16 |  1493.017 |\n",
       "| A6AA6DAD829D4861 | classic_bike | 2023-09-02 15:34:43 | 2023-09-03 16:27:42 | Streeter Dr &amp; Grand Ave                | Racine Ave &amp; Randolph St               | casual | 2023-09-02 | 09 | 02 | 2023 | Saturday  | 15 |  1492.983 |\n",
       "| 9C9DBBD2DC872B6A | classic_bike | 2023-07-22 09:19:03 | 2023-07-23 10:11:43 | Cornell Ave &amp; Hyde Park Blvd           | Cornell Ave &amp; Hyde Park Blvd           | casual | 2023-07-22 | 07 | 22 | 2023 | Saturday  |  9 |  1492.667 |\n",
       "| 7629FBAAB4B43EFD | docked_bike  | 2023-05-14 11:54:51 | 2023-05-15 12:47:25 | Milwaukee Ave &amp; Rockwell St            | Milwaukee Ave &amp; Rockwell St            | casual | 2023-05-14 | 05 | 14 | 2023 | Sunday    | 11 |  1492.567 |\n",
       "| ⋮ | ⋮ | ⋮ | ⋮ | ⋮ | ⋮ | ⋮ | ⋮ | ⋮ | ⋮ | ⋮ | ⋮ | ⋮ | ⋮ |\n",
       "| CFA29B1E2B889FCB | classic_bike  | 2024-04-11 17:25:28 | 2024-04-11 17:25:29 | Larrabee St &amp; Menomonee St                | Larrabee St &amp; Menomonee St                | member | 2024-04-11 | 04 | 11 | 2024 | Thursday | 17 | 0.01666667 |\n",
       "| AF33B6A634E46BC2 | electric_bike | 2024-04-08 14:43:07 | 2024-04-08 14:43:08 | Streeter Dr &amp; Grand Ave                   | Streeter Dr &amp; Grand Ave                   | casual | 2024-04-08 | 04 | 08 | 2024 | Monday   | 14 | 0.01666667 |\n",
       "| 2D741544D284C6D8 | classic_bike  | 2024-04-13 15:35:33 | 2024-04-13 15:35:34 | Streeter Dr &amp; Grand Ave                   | Streeter Dr &amp; Grand Ave                   | casual | 2024-04-13 | 04 | 13 | 2024 | Saturday | 15 | 0.01666667 |\n",
       "| 5C85A4CDF7B0F83E | classic_bike  | 2024-04-27 13:18:55 | 2024-04-27 13:18:56 | Streeter Dr &amp; Grand Ave                   | Streeter Dr &amp; Grand Ave                   | member | 2024-04-27 | 04 | 27 | 2024 | Saturday | 13 | 0.01666667 |\n",
       "| 6C9A1AE9647676A9 | electric_bike | 2024-04-30 08:43:06 | 2024-04-30 08:43:07 | Francisco Ave &amp; Chicago Ave               | Francisco Ave &amp; Chicago Ave               | member | 2024-04-30 | 04 | 30 | 2024 | Tuesday  |  8 | 0.01666667 |\n",
       "| 14B772E8AB698903 | classic_bike  | 2024-04-28 15:40:01 | 2024-04-28 15:40:02 | Canal St &amp; Jackson Blvd                   | Canal St &amp; Jackson Blvd                   | casual | 2024-04-28 | 04 | 28 | 2024 | Sunday   | 15 | 0.01666667 |\n",
       "| 6A21DC61926F5589 | electric_bike | 2024-04-19 18:43:25 | 2024-04-19 18:43:26 | Western Ave &amp; Gunnison St                 | Western Ave &amp; Gunnison St                 | casual | 2024-04-19 | 04 | 19 | 2024 | Friday   | 18 | 0.01666667 |\n",
       "| 65A10FD5DB42FD72 | electric_bike | 2024-04-27 21:53:36 | 2024-04-27 21:53:37 | Rush St &amp; Cedar St                        | Rush St &amp; Cedar St                        | casual | 2024-04-27 | 04 | 27 | 2024 | Saturday | 21 | 0.01666667 |\n",
       "| 2D580593540C11FF | classic_bike  | 2024-04-26 12:32:56 | 2024-04-26 12:32:57 | Dearborn Pkwy &amp; Delaware Pl               | Dearborn Pkwy &amp; Delaware Pl               | member | 2024-04-26 | 04 | 26 | 2024 | Friday   | 12 | 0.01666667 |\n",
       "| 9CF6524E99B4C788 | classic_bike  | 2024-04-27 15:56:37 | 2024-04-27 15:56:38 | DuSable Lake Shore Dr &amp; North Blvd        | DuSable Lake Shore Dr &amp; North Blvd        | member | 2024-04-27 | 04 | 27 | 2024 | Saturday | 15 | 0.01666667 |\n",
       "| 7A9524A8EED2E220 | electric_bike | 2024-04-04 11:58:19 | 2024-04-04 11:58:20 | Kedzie Ave &amp; George St                    | Kedzie Ave &amp; George St                    | casual | 2024-04-04 | 04 | 04 | 2024 | Thursday | 11 | 0.01666667 |\n",
       "| A92132234B8EB87E | electric_bike | 2024-04-25 18:12:14 | 2024-04-25 18:12:15 | Kedzie Ave &amp; George St                    | Kedzie Ave &amp; George St                    | member | 2024-04-25 | 04 | 25 | 2024 | Thursday | 18 | 0.01666667 |\n",
       "| 6BE39BEAA5B3E48F | electric_bike | 2024-04-25 18:11:44 | 2024-04-25 18:11:45 | Kedzie Ave &amp; George St                    | Kedzie Ave &amp; George St                    | member | 2024-04-25 | 04 | 25 | 2024 | Thursday | 18 | 0.01666667 |\n",
       "| 96F565E5B5264578 | electric_bike | 2024-04-22 17:41:19 | 2024-04-22 17:41:20 | Public Rack - Central Ave &amp; Pensacola Ave | Public Rack - Central Ave &amp; Pensacola Ave | casual | 2024-04-22 | 04 | 22 | 2024 | Monday   | 17 | 0.01666667 |\n",
       "| C72D92E1C2E1930E | electric_bike | 2024-04-26 22:00:47 | 2024-04-26 22:00:48 | N Southport Ave &amp; W Newport Ave           | N Southport Ave &amp; W Newport Ave           | casual | 2024-04-26 | 04 | 26 | 2024 | Friday   | 22 | 0.01666667 |\n",
       "| E29DB2AFE4031997 | classic_bike  | 2024-04-29 09:24:14 | 2024-04-29 09:24:15 | Blackstone Ave &amp; 59th St                  | Blackstone Ave &amp; 59th St                  | member | 2024-04-29 | 04 | 29 | 2024 | Monday   |  9 | 0.01666667 |\n",
       "| 5C870366D06BE552 | classic_bike  | 2024-04-16 10:21:15 | 2024-04-16 10:21:16 | Blackstone Ave &amp; 59th St                  | Blackstone Ave &amp; 59th St                  | member | 2024-04-16 | 04 | 16 | 2024 | Tuesday  | 10 | 0.01666667 |\n",
       "| 9F48B3F8EF040C9D | electric_bike | 2024-04-14 01:16:26 | 2024-04-14 01:16:27 | Blackstone Ave &amp; 59th St                  | Blackstone Ave &amp; 59th St                  | member | 2024-04-14 | 04 | 14 | 2024 | Sunday   |  1 | 0.01666667 |\n",
       "| 46F656FC810BE5B1 | electric_bike | 2024-04-04 10:53:31 | 2024-04-04 10:53:32 | Blackstone Ave &amp; 59th St                  | Blackstone Ave &amp; 59th St                  | member | 2024-04-04 | 04 | 04 | 2024 | Thursday | 10 | 0.01666667 |\n",
       "| 7B51BF1D1CFBF1C4 | electric_bike | 2024-04-12 08:31:10 | 2024-04-12 08:31:11 | W Washington Blvd &amp; N Peoria St           | W Washington Blvd &amp; N Peoria St           | member | 2024-04-12 | 04 | 12 | 2024 | Friday   |  8 | 0.01666667 |\n",
       "| FEA7D41782C8D4C6 | electric_bike | 2024-04-12 12:45:42 | 2024-04-12 12:45:43 | W Washington Blvd &amp; N Peoria St           | W Washington Blvd &amp; N Peoria St           | member | 2024-04-12 | 04 | 12 | 2024 | Friday   | 12 | 0.01666667 |\n",
       "| 88D65784A0229872 | electric_bike | 2024-04-13 21:26:16 | 2024-04-13 21:26:17 | W Washington Blvd &amp; N Peoria St           | W Washington Blvd &amp; N Peoria St           | casual | 2024-04-13 | 04 | 13 | 2024 | Saturday | 21 | 0.01666667 |\n",
       "| E650EFCEEACA7911 | electric_bike | 2024-04-13 12:55:09 | 2024-04-13 12:55:10 | W Washington Blvd &amp; N Peoria St           | W Washington Blvd &amp; N Peoria St           | member | 2024-04-13 | 04 | 13 | 2024 | Saturday | 12 | 0.01666667 |\n",
       "| 98E14FD9597CF293 | electric_bike | 2024-04-13 12:56:03 | 2024-04-13 12:56:04 | W Washington Blvd &amp; N Peoria St           | W Washington Blvd &amp; N Peoria St           | member | 2024-04-13 | 04 | 13 | 2024 | Saturday | 12 | 0.01666667 |\n",
       "| BFFE877D23CF8072 | electric_bike | 2024-04-13 10:57:17 | 2024-04-13 10:57:18 | W Washington Blvd &amp; N Peoria St           | W Washington Blvd &amp; N Peoria St           | member | 2024-04-13 | 04 | 13 | 2024 | Saturday | 10 | 0.01666667 |\n",
       "| 85403A541C6CA215 | electric_bike | 2024-04-12 22:36:24 | 2024-04-12 22:36:25 | W Washington Blvd &amp; N Peoria St           | W Washington Blvd &amp; N Peoria St           | member | 2024-04-12 | 04 | 12 | 2024 | Friday   | 22 | 0.01666667 |\n",
       "| 96CEC7775EEDF506 | electric_bike | 2024-04-22 17:22:31 | 2024-04-22 17:22:32 | N Carpenter St &amp; W Lake St                | N Carpenter St &amp; W Lake St                | member | 2024-04-22 | 04 | 22 | 2024 | Monday   | 17 | 0.01666667 |\n",
       "| 49838255379679E6 | electric_bike | 2024-04-23 18:40:17 | 2024-04-23 18:40:18 | Clinton St &amp; Washington Blvd              | Clinton St &amp; Washington Blvd              | member | 2024-04-23 | 04 | 23 | 2024 | Tuesday  | 18 | 0.01666667 |\n",
       "| B72ECE692BAF48D5 | classic_bike  | 2024-04-29 18:51:04 | 2024-04-29 18:51:05 | Mies van der Rohe Way &amp; Chicago Ave       | Mies van der Rohe Way &amp; Chicago Ave       | member | 2024-04-29 | 04 | 29 | 2024 | Monday   | 18 | 0.01666667 |\n",
       "| 6647CA791B143A1B | classic_bike  | 2024-04-13 12:59:23 | 2024-04-13 12:59:24 | Ellis Ave &amp; 60th St                       | Ellis Ave &amp; 60th St                       | member | 2024-04-13 | 04 | 13 | 2024 | Saturday | 12 | 0.01666667 |\n",
       "\n"
      ],
      "text/plain": [
       "        ride_id          rideable_type started_at          ended_at           \n",
       "1       59AD7EE868FC6588 docked_bike   2023-05-30 12:48:08 2023-06-07 23:04:26\n",
       "2       FA287922CA358CE0 docked_bike   2023-06-03 17:52:15 2023-06-11 11:44:31\n",
       "3       47158A16C754A9F4 docked_bike   2023-08-10 22:17:49 2023-08-15 17:09:02\n",
       "4       4031082BC503CC84 docked_bike   2023-08-02 17:28:57 2023-08-06 11:07:57\n",
       "5       3BC5FFFDF7503DAA docked_bike   2023-06-15 13:28:59 2023-06-18 23:12:06\n",
       "6       6786F74C5A6183FB docked_bike   2023-06-18 19:21:22 2023-06-21 10:59:46\n",
       "7       D2273A0F45CDD4CC docked_bike   2023-08-18 09:13:48 2023-08-20 16:14:38\n",
       "8       A795B5420E15A65B docked_bike   2023-05-10 18:42:11 2023-05-13 00:47:58\n",
       "9       280CB8109510E280 docked_bike   2023-07-06 21:34:55 2023-07-08 14:32:46\n",
       "10      81526396CBFBD708 docked_bike   2023-05-06 12:53:46 2023-05-07 18:21:09\n",
       "11      7A5CAAC52FAE9E95 classic_bike  2024-03-09 16:58:39 2024-03-10 18:08:01\n",
       "12      ABA068CBC4FFDA47 docked_bike   2023-07-26 02:23:38 2023-07-27 03:22:27\n",
       "13      7AC23ADF3F785C89 classic_bike  2023-09-29 12:32:03 2023-09-30 13:29:57\n",
       "14      8AFD9583BC85E0DE classic_bike  2024-02-01 17:28:26 2024-02-02 18:26:05\n",
       "15      2503BA4056C4C83B classic_bike  2023-11-11 11:58:41 2023-11-12 12:56:11\n",
       "16      CB93E203A174AC97 classic_bike  2023-05-16 18:06:24 2023-05-17 19:03:53\n",
       "17      C65FD7B15C4C410F classic_bike  2023-09-18 17:57:10 2023-09-19 18:54:33\n",
       "18      D1B2433CCB28F892 classic_bike  2024-01-17 07:44:28 2024-01-18 08:41:47\n",
       "19      3309CF3DBCAD8E84 docked_bike   2023-08-20 19:43:06 2023-08-21 20:40:23\n",
       "20      36628734F611A53C classic_bike  2023-06-03 10:40:32 2023-06-04 11:36:15\n",
       "21      3B059075C4C39AF9 classic_bike  2023-10-01 07:41:37 2023-10-02 08:37:11\n",
       "22      9B86B843855F9B4B classic_bike  2024-02-22 12:23:42 2024-02-23 13:18:26\n",
       "23      969C2DB1BE48310D classic_bike  2023-12-12 08:20:24 2023-12-13 09:14:52\n",
       "24      85BFC687957CCBB8 classic_bike  2024-02-05 09:14:14 2024-02-06 10:08:40\n",
       "25      888DCD04A8601E1E classic_bike  2024-04-09 18:41:23 2024-04-10 19:34:56\n",
       "26      6EA5C4A03EE52C44 classic_bike  2023-07-17 18:57:07 2023-07-18 19:50:27\n",
       "27      596C6E432ADA6786 classic_bike  2023-08-02 16:26:13 2023-08-03 17:19:14\n",
       "28      A6AA6DAD829D4861 classic_bike  2023-09-02 15:34:43 2023-09-03 16:27:42\n",
       "29      9C9DBBD2DC872B6A classic_bike  2023-07-22 09:19:03 2023-07-23 10:11:43\n",
       "30      7629FBAAB4B43EFD docked_bike   2023-05-14 11:54:51 2023-05-15 12:47:25\n",
       "⋮       ⋮                ⋮             ⋮                   ⋮                  \n",
       "4335274 CFA29B1E2B889FCB classic_bike  2024-04-11 17:25:28 2024-04-11 17:25:29\n",
       "4335275 AF33B6A634E46BC2 electric_bike 2024-04-08 14:43:07 2024-04-08 14:43:08\n",
       "4335276 2D741544D284C6D8 classic_bike  2024-04-13 15:35:33 2024-04-13 15:35:34\n",
       "4335277 5C85A4CDF7B0F83E classic_bike  2024-04-27 13:18:55 2024-04-27 13:18:56\n",
       "4335278 6C9A1AE9647676A9 electric_bike 2024-04-30 08:43:06 2024-04-30 08:43:07\n",
       "4335279 14B772E8AB698903 classic_bike  2024-04-28 15:40:01 2024-04-28 15:40:02\n",
       "4335280 6A21DC61926F5589 electric_bike 2024-04-19 18:43:25 2024-04-19 18:43:26\n",
       "4335281 65A10FD5DB42FD72 electric_bike 2024-04-27 21:53:36 2024-04-27 21:53:37\n",
       "4335282 2D580593540C11FF classic_bike  2024-04-26 12:32:56 2024-04-26 12:32:57\n",
       "4335283 9CF6524E99B4C788 classic_bike  2024-04-27 15:56:37 2024-04-27 15:56:38\n",
       "4335284 7A9524A8EED2E220 electric_bike 2024-04-04 11:58:19 2024-04-04 11:58:20\n",
       "4335285 A92132234B8EB87E electric_bike 2024-04-25 18:12:14 2024-04-25 18:12:15\n",
       "4335286 6BE39BEAA5B3E48F electric_bike 2024-04-25 18:11:44 2024-04-25 18:11:45\n",
       "4335287 96F565E5B5264578 electric_bike 2024-04-22 17:41:19 2024-04-22 17:41:20\n",
       "4335288 C72D92E1C2E1930E electric_bike 2024-04-26 22:00:47 2024-04-26 22:00:48\n",
       "4335289 E29DB2AFE4031997 classic_bike  2024-04-29 09:24:14 2024-04-29 09:24:15\n",
       "4335290 5C870366D06BE552 classic_bike  2024-04-16 10:21:15 2024-04-16 10:21:16\n",
       "4335291 9F48B3F8EF040C9D electric_bike 2024-04-14 01:16:26 2024-04-14 01:16:27\n",
       "4335292 46F656FC810BE5B1 electric_bike 2024-04-04 10:53:31 2024-04-04 10:53:32\n",
       "4335293 7B51BF1D1CFBF1C4 electric_bike 2024-04-12 08:31:10 2024-04-12 08:31:11\n",
       "4335294 FEA7D41782C8D4C6 electric_bike 2024-04-12 12:45:42 2024-04-12 12:45:43\n",
       "4335295 88D65784A0229872 electric_bike 2024-04-13 21:26:16 2024-04-13 21:26:17\n",
       "4335296 E650EFCEEACA7911 electric_bike 2024-04-13 12:55:09 2024-04-13 12:55:10\n",
       "4335297 98E14FD9597CF293 electric_bike 2024-04-13 12:56:03 2024-04-13 12:56:04\n",
       "4335298 BFFE877D23CF8072 electric_bike 2024-04-13 10:57:17 2024-04-13 10:57:18\n",
       "4335299 85403A541C6CA215 electric_bike 2024-04-12 22:36:24 2024-04-12 22:36:25\n",
       "4335300 96CEC7775EEDF506 electric_bike 2024-04-22 17:22:31 2024-04-22 17:22:32\n",
       "4335301 49838255379679E6 electric_bike 2024-04-23 18:40:17 2024-04-23 18:40:18\n",
       "4335302 B72ECE692BAF48D5 classic_bike  2024-04-29 18:51:04 2024-04-29 18:51:05\n",
       "4335303 6647CA791B143A1B classic_bike  2024-04-13 12:59:23 2024-04-13 12:59:24\n",
       "        start_station_name                       \n",
       "1       Wells St & Polk St                       \n",
       "2       Fort Dearborn Dr & 31st St               \n",
       "3       Larrabee St & Webster Ave                \n",
       "4       University Ave & 57th St                 \n",
       "5       DuSable Lake Shore Dr & Monroe St        \n",
       "6       Dusable Harbor                           \n",
       "7       2112 W Peterson Ave                      \n",
       "8       Clark St & Schiller St                   \n",
       "9       California Ave & North Ave               \n",
       "10      DuSable Lake Shore Dr & Monroe St        \n",
       "11      Talman Ave & Addison St                  \n",
       "12      Hoyne Ave & 47th St                      \n",
       "13      Halsted St & 63rd St                     \n",
       "14      Benson Ave & Church St                   \n",
       "15      Montrose Harbor                          \n",
       "16      Larrabee St & Webster Ave                \n",
       "17      DuSable Lake Shore Dr & Wellington Ave   \n",
       "18      Ellis Ave & 60th St                      \n",
       "19      Prairie Ave & 43rd St                    \n",
       "20      Sheffield Ave & Wrightwood Ave           \n",
       "21      Damen Ave & Cortland St                  \n",
       "22      Cornell Ave & Hyde Park Blvd             \n",
       "23      Fairfield Ave & Roosevelt Rd             \n",
       "24      Wabash Ave & Roosevelt Rd                \n",
       "25      California Ave & Montrose Ave            \n",
       "26      Ellis Ave & 60th St                      \n",
       "27      Seeley Ave & Roscoe St                   \n",
       "28      Streeter Dr & Grand Ave                  \n",
       "29      Cornell Ave & Hyde Park Blvd             \n",
       "30      Milwaukee Ave & Rockwell St              \n",
       "⋮       ⋮                                        \n",
       "4335274 Larrabee St & Menomonee St               \n",
       "4335275 Streeter Dr & Grand Ave                  \n",
       "4335276 Streeter Dr & Grand Ave                  \n",
       "4335277 Streeter Dr & Grand Ave                  \n",
       "4335278 Francisco Ave & Chicago Ave              \n",
       "4335279 Canal St & Jackson Blvd                  \n",
       "4335280 Western Ave & Gunnison St                \n",
       "4335281 Rush St & Cedar St                       \n",
       "4335282 Dearborn Pkwy & Delaware Pl              \n",
       "4335283 DuSable Lake Shore Dr & North Blvd       \n",
       "4335284 Kedzie Ave & George St                   \n",
       "4335285 Kedzie Ave & George St                   \n",
       "4335286 Kedzie Ave & George St                   \n",
       "4335287 Public Rack - Central Ave & Pensacola Ave\n",
       "4335288 N Southport Ave & W Newport Ave          \n",
       "4335289 Blackstone Ave & 59th St                 \n",
       "4335290 Blackstone Ave & 59th St                 \n",
       "4335291 Blackstone Ave & 59th St                 \n",
       "4335292 Blackstone Ave & 59th St                 \n",
       "4335293 W Washington Blvd & N Peoria St          \n",
       "4335294 W Washington Blvd & N Peoria St          \n",
       "4335295 W Washington Blvd & N Peoria St          \n",
       "4335296 W Washington Blvd & N Peoria St          \n",
       "4335297 W Washington Blvd & N Peoria St          \n",
       "4335298 W Washington Blvd & N Peoria St          \n",
       "4335299 W Washington Blvd & N Peoria St          \n",
       "4335300 N Carpenter St & W Lake St               \n",
       "4335301 Clinton St & Washington Blvd             \n",
       "4335302 Mies van der Rohe Way & Chicago Ave      \n",
       "4335303 Ellis Ave & 60th St                      \n",
       "        end_station_name                          member_casual date      \n",
       "1       Lincoln Ave & Roscoe St*                  casual        2023-05-30\n",
       "2       Fort Dearborn Dr & 31st St*               casual        2023-06-03\n",
       "3       Michigan Ave & Oak St                     casual        2023-08-10\n",
       "4       Museum of Science and Industry            casual        2023-08-02\n",
       "5       Fort Dearborn Dr & 31st St*               casual        2023-06-15\n",
       "6       Wentworth Ave & Cermak Rd*                casual        2023-06-18\n",
       "7       Sheridan Rd & Loyola Ave                  casual        2023-08-18\n",
       "8       Ashland Ave & Wellington Ave              casual        2023-05-10\n",
       "9       Damen Ave & Pierce Ave                    casual        2023-07-06\n",
       "10      Morgan St & Lake St*                      casual        2023-05-06\n",
       "11      Talman Ave & Addison St                   casual        2024-03-09\n",
       "12      Yates Blvd & 75th St                      casual        2023-07-26\n",
       "13      Halsted St & 63rd St                      casual        2023-09-29\n",
       "14      Sheridan Rd & Noyes St (NU)               member        2024-02-01\n",
       "15      Clark St & Leland Ave                     member        2023-11-11\n",
       "16      Western Ave & Roscoe St                   casual        2023-05-16\n",
       "17      DuSable Lake Shore Dr & Wellington Ave    member        2023-09-18\n",
       "18      Harper Ave & 59th St                      member        2024-01-17\n",
       "19      Prairie Ave & 43rd St                     casual        2023-08-20\n",
       "20      Ashland Ave & Wrightwood Ave              casual        2023-06-03\n",
       "21      Damen Ave & Cortland St                   casual        2023-10-01\n",
       "22      Woodlawn Ave & 58th St                    member        2024-02-22\n",
       "23      Wood St & Taylor St (Temp)                member        2023-12-12\n",
       "24      Halsted St & Polk St                      member        2024-02-05\n",
       "25      Manor Ave & Leland Ave                    casual        2024-04-09\n",
       "26      Ellis Ave & 60th St                       casual        2023-07-17\n",
       "27      Lincoln Ave & Roscoe St*                  member        2023-08-02\n",
       "28      Racine Ave & Randolph St                  casual        2023-09-02\n",
       "29      Cornell Ave & Hyde Park Blvd              casual        2023-07-22\n",
       "30      Milwaukee Ave & Rockwell St               casual        2023-05-14\n",
       "⋮       ⋮                                         ⋮             ⋮         \n",
       "4335274 Larrabee St & Menomonee St                member        2024-04-11\n",
       "4335275 Streeter Dr & Grand Ave                   casual        2024-04-08\n",
       "4335276 Streeter Dr & Grand Ave                   casual        2024-04-13\n",
       "4335277 Streeter Dr & Grand Ave                   member        2024-04-27\n",
       "4335278 Francisco Ave & Chicago Ave               member        2024-04-30\n",
       "4335279 Canal St & Jackson Blvd                   casual        2024-04-28\n",
       "4335280 Western Ave & Gunnison St                 casual        2024-04-19\n",
       "4335281 Rush St & Cedar St                        casual        2024-04-27\n",
       "4335282 Dearborn Pkwy & Delaware Pl               member        2024-04-26\n",
       "4335283 DuSable Lake Shore Dr & North Blvd        member        2024-04-27\n",
       "4335284 Kedzie Ave & George St                    casual        2024-04-04\n",
       "4335285 Kedzie Ave & George St                    member        2024-04-25\n",
       "4335286 Kedzie Ave & George St                    member        2024-04-25\n",
       "4335287 Public Rack - Central Ave & Pensacola Ave casual        2024-04-22\n",
       "4335288 N Southport Ave & W Newport Ave           casual        2024-04-26\n",
       "4335289 Blackstone Ave & 59th St                  member        2024-04-29\n",
       "4335290 Blackstone Ave & 59th St                  member        2024-04-16\n",
       "4335291 Blackstone Ave & 59th St                  member        2024-04-14\n",
       "4335292 Blackstone Ave & 59th St                  member        2024-04-04\n",
       "4335293 W Washington Blvd & N Peoria St           member        2024-04-12\n",
       "4335294 W Washington Blvd & N Peoria St           member        2024-04-12\n",
       "4335295 W Washington Blvd & N Peoria St           casual        2024-04-13\n",
       "4335296 W Washington Blvd & N Peoria St           member        2024-04-13\n",
       "4335297 W Washington Blvd & N Peoria St           member        2024-04-13\n",
       "4335298 W Washington Blvd & N Peoria St           member        2024-04-13\n",
       "4335299 W Washington Blvd & N Peoria St           member        2024-04-12\n",
       "4335300 N Carpenter St & W Lake St                member        2024-04-22\n",
       "4335301 Clinton St & Washington Blvd              member        2024-04-23\n",
       "4335302 Mies van der Rohe Way & Chicago Ave       member        2024-04-29\n",
       "4335303 Ellis Ave & 60th St                       member        2024-04-13\n",
       "        month day year day_of_week hour trip_length\n",
       "1       05    30  2023 Tuesday     12   12136.300  \n",
       "2       06    03  2023 Saturday    17   11152.267  \n",
       "3       08    10  2023 Thursday    22    6891.217  \n",
       "4       08    02  2023 Wednesday   17    5379.000  \n",
       "5       06    15  2023 Thursday    13    4903.117  \n",
       "6       06    18  2023 Sunday      19    3818.400  \n",
       "7       08    18  2023 Friday       9    3300.833  \n",
       "8       05    10  2023 Wednesday   18    3245.783  \n",
       "9       07    06  2023 Thursday    21    2457.850  \n",
       "10      05    06  2023 Saturday    12    1767.383  \n",
       "11      03    09  2024 Saturday    16    1509.367  \n",
       "12      07    26  2023 Wednesday    2    1498.817  \n",
       "13      09    29  2023 Friday      12    1497.900  \n",
       "14      02    01  2024 Thursday    17    1497.650  \n",
       "15      11    11  2023 Saturday    11    1497.500  \n",
       "16      05    16  2023 Tuesday     18    1497.483  \n",
       "17      09    18  2023 Monday      17    1497.383  \n",
       "18      01    17  2024 Wednesday    7    1497.317  \n",
       "19      08    20  2023 Sunday      19    1497.283  \n",
       "20      06    03  2023 Saturday    10    1495.717  \n",
       "21      10    01  2023 Sunday       7    1495.567  \n",
       "22      02    22  2024 Thursday    12    1494.733  \n",
       "23      12    12  2023 Tuesday      8    1494.467  \n",
       "24      02    05  2024 Monday       9    1494.433  \n",
       "25      04    09  2024 Tuesday     18    1493.550  \n",
       "26      07    17  2023 Monday      18    1493.333  \n",
       "27      08    02  2023 Wednesday   16    1493.017  \n",
       "28      09    02  2023 Saturday    15    1492.983  \n",
       "29      07    22  2023 Saturday     9    1492.667  \n",
       "30      05    14  2023 Sunday      11    1492.567  \n",
       "⋮       ⋮     ⋮   ⋮    ⋮           ⋮    ⋮          \n",
       "4335274 04    11  2024 Thursday    17   0.01666667 \n",
       "4335275 04    08  2024 Monday      14   0.01666667 \n",
       "4335276 04    13  2024 Saturday    15   0.01666667 \n",
       "4335277 04    27  2024 Saturday    13   0.01666667 \n",
       "4335278 04    30  2024 Tuesday      8   0.01666667 \n",
       "4335279 04    28  2024 Sunday      15   0.01666667 \n",
       "4335280 04    19  2024 Friday      18   0.01666667 \n",
       "4335281 04    27  2024 Saturday    21   0.01666667 \n",
       "4335282 04    26  2024 Friday      12   0.01666667 \n",
       "4335283 04    27  2024 Saturday    15   0.01666667 \n",
       "4335284 04    04  2024 Thursday    11   0.01666667 \n",
       "4335285 04    25  2024 Thursday    18   0.01666667 \n",
       "4335286 04    25  2024 Thursday    18   0.01666667 \n",
       "4335287 04    22  2024 Monday      17   0.01666667 \n",
       "4335288 04    26  2024 Friday      22   0.01666667 \n",
       "4335289 04    29  2024 Monday       9   0.01666667 \n",
       "4335290 04    16  2024 Tuesday     10   0.01666667 \n",
       "4335291 04    14  2024 Sunday       1   0.01666667 \n",
       "4335292 04    04  2024 Thursday    10   0.01666667 \n",
       "4335293 04    12  2024 Friday       8   0.01666667 \n",
       "4335294 04    12  2024 Friday      12   0.01666667 \n",
       "4335295 04    13  2024 Saturday    21   0.01666667 \n",
       "4335296 04    13  2024 Saturday    12   0.01666667 \n",
       "4335297 04    13  2024 Saturday    12   0.01666667 \n",
       "4335298 04    13  2024 Saturday    10   0.01666667 \n",
       "4335299 04    12  2024 Friday      22   0.01666667 \n",
       "4335300 04    22  2024 Monday      17   0.01666667 \n",
       "4335301 04    23  2024 Tuesday     18   0.01666667 \n",
       "4335302 04    29  2024 Monday      18   0.01666667 \n",
       "4335303 04    13  2024 Saturday    12   0.01666667 "
      ]
     },
     "metadata": {},
     "output_type": "display_data"
    }
   ],
   "source": [
    "newData <- allDataClean %>%\n",
    "    arrange(desc(trip_length))\n",
    "newData"
   ]
  },
  {
   "cell_type": "markdown",
   "id": "7ec5dbc8",
   "metadata": {
    "papermill": {
     "duration": 0.01931,
     "end_time": "2024-06-24T18:49:26.434261",
     "exception": false,
     "start_time": "2024-06-24T18:49:26.414951",
     "status": "completed"
    },
    "tags": []
   },
   "source": [
    "#### The Average Trip Length in Minutes "
   ]
  },
  {
   "cell_type": "code",
   "execution_count": 11,
   "id": "31e152b0",
   "metadata": {
    "execution": {
     "iopub.execute_input": "2024-06-24T18:49:26.478832Z",
     "iopub.status.busy": "2024-06-24T18:49:26.476871Z",
     "iopub.status.idle": "2024-06-24T18:49:30.398219Z",
     "shell.execute_reply": "2024-06-24T18:49:30.396260Z"
    },
    "papermill": {
     "duration": 3.947179,
     "end_time": "2024-06-24T18:49:30.401257",
     "exception": false,
     "start_time": "2024-06-24T18:49:26.454078",
     "status": "completed"
    },
    "tags": []
   },
   "outputs": [
    {
     "data": {
      "text/html": [
       "<table class=\"dataframe\">\n",
       "<caption>A data.frame: 2 × 2</caption>\n",
       "<thead>\n",
       "\t<tr><th scope=col>allDataClean$member_casual</th><th scope=col>allDataClean$trip_length</th></tr>\n",
       "\t<tr><th scope=col>&lt;chr&gt;</th><th scope=col>&lt;dbl&gt;</th></tr>\n",
       "</thead>\n",
       "<tbody>\n",
       "\t<tr><td>casual</td><td>23.33726</td></tr>\n",
       "\t<tr><td>member</td><td>12.37221</td></tr>\n",
       "</tbody>\n",
       "</table>\n"
      ],
      "text/latex": [
       "A data.frame: 2 × 2\n",
       "\\begin{tabular}{ll}\n",
       " allDataClean\\$member\\_casual & allDataClean\\$trip\\_length\\\\\n",
       " <chr> & <dbl>\\\\\n",
       "\\hline\n",
       "\t casual & 23.33726\\\\\n",
       "\t member & 12.37221\\\\\n",
       "\\end{tabular}\n"
      ],
      "text/markdown": [
       "\n",
       "A data.frame: 2 × 2\n",
       "\n",
       "| allDataClean$member_casual &lt;chr&gt; | allDataClean$trip_length &lt;dbl&gt; |\n",
       "|---|---|\n",
       "| casual | 23.33726 |\n",
       "| member | 12.37221 |\n",
       "\n"
      ],
      "text/plain": [
       "  allDataClean$member_casual allDataClean$trip_length\n",
       "1 casual                     23.33726                \n",
       "2 member                     12.37221                "
      ]
     },
     "metadata": {},
     "output_type": "display_data"
    }
   ],
   "source": [
    "aggregateMean <- aggregate(allDataClean$trip_length ~ allDataClean$member_casual, FUN = mean)\n",
    "\n",
    "aggregateMean"
   ]
  },
  {
   "cell_type": "markdown",
   "id": "4529c87a",
   "metadata": {
    "papermill": {
     "duration": 0.02157,
     "end_time": "2024-06-24T18:49:30.442659",
     "exception": false,
     "start_time": "2024-06-24T18:49:30.421089",
     "status": "completed"
    },
    "tags": []
   },
   "source": [
    "#### The Median value of Trip Length in Minutes "
   ]
  },
  {
   "cell_type": "code",
   "execution_count": 12,
   "id": "f7e0620c",
   "metadata": {
    "execution": {
     "iopub.execute_input": "2024-06-24T18:49:30.489826Z",
     "iopub.status.busy": "2024-06-24T18:49:30.488023Z",
     "iopub.status.idle": "2024-06-24T18:49:35.174098Z",
     "shell.execute_reply": "2024-06-24T18:49:35.171901Z"
    },
    "papermill": {
     "duration": 4.713338,
     "end_time": "2024-06-24T18:49:35.177008",
     "exception": false,
     "start_time": "2024-06-24T18:49:30.463670",
     "status": "completed"
    },
    "tags": []
   },
   "outputs": [
    {
     "data": {
      "text/html": [
       "<table class=\"dataframe\">\n",
       "<caption>A data.frame: 2 × 2</caption>\n",
       "<thead>\n",
       "\t<tr><th scope=col>allDataClean$member_casual</th><th scope=col>allDataClean$trip_length</th></tr>\n",
       "\t<tr><th scope=col>&lt;chr&gt;</th><th scope=col>&lt;dbl&gt;</th></tr>\n",
       "</thead>\n",
       "<tbody>\n",
       "\t<tr><td>casual</td><td>12.98333</td></tr>\n",
       "\t<tr><td>member</td><td> 8.75000</td></tr>\n",
       "</tbody>\n",
       "</table>\n"
      ],
      "text/latex": [
       "A data.frame: 2 × 2\n",
       "\\begin{tabular}{ll}\n",
       " allDataClean\\$member\\_casual & allDataClean\\$trip\\_length\\\\\n",
       " <chr> & <dbl>\\\\\n",
       "\\hline\n",
       "\t casual & 12.98333\\\\\n",
       "\t member &  8.75000\\\\\n",
       "\\end{tabular}\n"
      ],
      "text/markdown": [
       "\n",
       "A data.frame: 2 × 2\n",
       "\n",
       "| allDataClean$member_casual &lt;chr&gt; | allDataClean$trip_length &lt;dbl&gt; |\n",
       "|---|---|\n",
       "| casual | 12.98333 |\n",
       "| member |  8.75000 |\n",
       "\n"
      ],
      "text/plain": [
       "  allDataClean$member_casual allDataClean$trip_length\n",
       "1 casual                     12.98333                \n",
       "2 member                      8.75000                "
      ]
     },
     "metadata": {},
     "output_type": "display_data"
    }
   ],
   "source": [
    "aggregate(allDataClean$trip_length ~ allDataClean$member_casual, FUN = median)"
   ]
  },
  {
   "cell_type": "markdown",
   "id": "0074f8bd",
   "metadata": {
    "papermill": {
     "duration": 0.063534,
     "end_time": "2024-06-24T18:49:35.260435",
     "exception": false,
     "start_time": "2024-06-24T18:49:35.196901",
     "status": "completed"
    },
    "tags": []
   },
   "source": [
    "#### The Longest Trip Duration in Minutes"
   ]
  },
  {
   "cell_type": "code",
   "execution_count": 13,
   "id": "ef338b5f",
   "metadata": {
    "execution": {
     "iopub.execute_input": "2024-06-24T18:49:35.305719Z",
     "iopub.status.busy": "2024-06-24T18:49:35.304014Z",
     "iopub.status.idle": "2024-06-24T18:49:45.356683Z",
     "shell.execute_reply": "2024-06-24T18:49:45.354253Z"
    },
    "papermill": {
     "duration": 10.079089,
     "end_time": "2024-06-24T18:49:45.359825",
     "exception": false,
     "start_time": "2024-06-24T18:49:35.280736",
     "status": "completed"
    },
    "tags": []
   },
   "outputs": [
    {
     "data": {
      "text/html": [
       "<table class=\"dataframe\">\n",
       "<caption>A data.frame: 2 × 2</caption>\n",
       "<thead>\n",
       "\t<tr><th scope=col>allDataClean$member_casual</th><th scope=col>allDataClean$trip_length</th></tr>\n",
       "\t<tr><th scope=col>&lt;chr&gt;</th><th scope=col>&lt;dbl&gt;</th></tr>\n",
       "</thead>\n",
       "<tbody>\n",
       "\t<tr><td>casual</td><td>12136.30</td></tr>\n",
       "\t<tr><td>member</td><td> 1497.65</td></tr>\n",
       "</tbody>\n",
       "</table>\n"
      ],
      "text/latex": [
       "A data.frame: 2 × 2\n",
       "\\begin{tabular}{ll}\n",
       " allDataClean\\$member\\_casual & allDataClean\\$trip\\_length\\\\\n",
       " <chr> & <dbl>\\\\\n",
       "\\hline\n",
       "\t casual & 12136.30\\\\\n",
       "\t member &  1497.65\\\\\n",
       "\\end{tabular}\n"
      ],
      "text/markdown": [
       "\n",
       "A data.frame: 2 × 2\n",
       "\n",
       "| allDataClean$member_casual &lt;chr&gt; | allDataClean$trip_length &lt;dbl&gt; |\n",
       "|---|---|\n",
       "| casual | 12136.30 |\n",
       "| member |  1497.65 |\n",
       "\n"
      ],
      "text/plain": [
       "  allDataClean$member_casual allDataClean$trip_length\n",
       "1 casual                     12136.30                \n",
       "2 member                      1497.65                "
      ]
     },
     "metadata": {},
     "output_type": "display_data"
    }
   ],
   "source": [
    "aggregate(allDataClean$trip_length ~ allDataClean$member_casual, FUN = max)"
   ]
  },
  {
   "cell_type": "markdown",
   "id": "a90bec0d",
   "metadata": {
    "papermill": {
     "duration": 0.020254,
     "end_time": "2024-06-24T18:49:45.400323",
     "exception": false,
     "start_time": "2024-06-24T18:49:45.380069",
     "status": "completed"
    },
    "tags": []
   },
   "source": [
    "#### The Shortest Trip Duration in Minutes"
   ]
  },
  {
   "cell_type": "code",
   "execution_count": 14,
   "id": "39fc9fc7",
   "metadata": {
    "execution": {
     "iopub.execute_input": "2024-06-24T18:49:45.446692Z",
     "iopub.status.busy": "2024-06-24T18:49:45.444863Z",
     "iopub.status.idle": "2024-06-24T18:49:48.301078Z",
     "shell.execute_reply": "2024-06-24T18:49:48.298990Z"
    },
    "papermill": {
     "duration": 2.882091,
     "end_time": "2024-06-24T18:49:48.304124",
     "exception": false,
     "start_time": "2024-06-24T18:49:45.422033",
     "status": "completed"
    },
    "tags": []
   },
   "outputs": [
    {
     "data": {
      "text/html": [
       "<table class=\"dataframe\">\n",
       "<caption>A data.frame: 2 × 2</caption>\n",
       "<thead>\n",
       "\t<tr><th scope=col>allDataClean$member_casual</th><th scope=col>allDataClean$trip_length</th></tr>\n",
       "\t<tr><th scope=col>&lt;chr&gt;</th><th scope=col>&lt;dbl&gt;</th></tr>\n",
       "</thead>\n",
       "<tbody>\n",
       "\t<tr><td>casual</td><td>0.01666667</td></tr>\n",
       "\t<tr><td>member</td><td>0.01666667</td></tr>\n",
       "</tbody>\n",
       "</table>\n"
      ],
      "text/latex": [
       "A data.frame: 2 × 2\n",
       "\\begin{tabular}{ll}\n",
       " allDataClean\\$member\\_casual & allDataClean\\$trip\\_length\\\\\n",
       " <chr> & <dbl>\\\\\n",
       "\\hline\n",
       "\t casual & 0.01666667\\\\\n",
       "\t member & 0.01666667\\\\\n",
       "\\end{tabular}\n"
      ],
      "text/markdown": [
       "\n",
       "A data.frame: 2 × 2\n",
       "\n",
       "| allDataClean$member_casual &lt;chr&gt; | allDataClean$trip_length &lt;dbl&gt; |\n",
       "|---|---|\n",
       "| casual | 0.01666667 |\n",
       "| member | 0.01666667 |\n",
       "\n"
      ],
      "text/plain": [
       "  allDataClean$member_casual allDataClean$trip_length\n",
       "1 casual                     0.01666667              \n",
       "2 member                     0.01666667              "
      ]
     },
     "metadata": {},
     "output_type": "display_data"
    }
   ],
   "source": [
    "aggregate(allDataClean$trip_length ~ allDataClean$member_casual, FUN = min)"
   ]
  },
  {
   "cell_type": "markdown",
   "id": "b5e084c2",
   "metadata": {
    "papermill": {
     "duration": 0.020483,
     "end_time": "2024-06-24T18:49:48.345149",
     "exception": false,
     "start_time": "2024-06-24T18:49:48.324666",
     "status": "completed"
    },
    "tags": []
   },
   "source": [
    "### Monthly Distribution of Cyclistic Members and Their Percentages Relative to the Membership"
   ]
  },
  {
   "cell_type": "code",
   "execution_count": 15,
   "id": "53d9e60d",
   "metadata": {
    "execution": {
     "iopub.execute_input": "2024-06-24T18:49:48.390841Z",
     "iopub.status.busy": "2024-06-24T18:49:48.389009Z",
     "iopub.status.idle": "2024-06-24T18:49:49.997648Z",
     "shell.execute_reply": "2024-06-24T18:49:49.995727Z"
    },
    "papermill": {
     "duration": 1.634278,
     "end_time": "2024-06-24T18:49:50.000522",
     "exception": false,
     "start_time": "2024-06-24T18:49:48.366244",
     "status": "completed"
    },
    "tags": []
   },
   "outputs": [
    {
     "name": "stderr",
     "output_type": "stream",
     "text": [
      "\u001b[1m\u001b[22m`summarise()` has grouped output by 'year'. You can override using the\n",
      "`.groups` argument.\n"
     ]
    },
    {
     "data": {
      "text/html": [
       "<table class=\"dataframe\">\n",
       "<caption>A grouped_df: 12 × 8</caption>\n",
       "<thead>\n",
       "\t<tr><th scope=col>year</th><th scope=col>month</th><th scope=col>count</th><th scope=col>%</th><th scope=col>casual member #</th><th scope=col>casual_%</th><th scope=col>annual member #</th><th scope=col>member_%</th></tr>\n",
       "\t<tr><th scope=col>&lt;chr&gt;</th><th scope=col>&lt;chr&gt;</th><th scope=col>&lt;int&gt;</th><th scope=col>&lt;dbl&gt;</th><th scope=col>&lt;int&gt;</th><th scope=col>&lt;dbl&gt;</th><th scope=col>&lt;int&gt;</th><th scope=col>&lt;dbl&gt;</th></tr>\n",
       "</thead>\n",
       "<tbody>\n",
       "\t<tr><td>2023</td><td>05</td><td>463187</td><td>10.684074</td><td>177025</td><td>38.21891</td><td>286162</td><td>61.78109</td></tr>\n",
       "\t<tr><td>2023</td><td>06</td><td>534729</td><td>12.334294</td><td>219788</td><td>41.10269</td><td>314941</td><td>58.89731</td></tr>\n",
       "\t<tr><td>2023</td><td>07</td><td>573941</td><td>13.238775</td><td>245319</td><td>42.74290</td><td>328622</td><td>57.25710</td></tr>\n",
       "\t<tr><td>2023</td><td>08</td><td>584862</td><td>13.490683</td><td>233860</td><td>39.98550</td><td>351002</td><td>60.01450</td></tr>\n",
       "\t<tr><td>2023</td><td>09</td><td>506555</td><td>11.684420</td><td>196938</td><td>38.87791</td><td>309617</td><td>61.12209</td></tr>\n",
       "\t<tr><td>2023</td><td>10</td><td>403702</td><td> 9.311967</td><td>130269</td><td>32.26860</td><td>273433</td><td>67.73140</td></tr>\n",
       "\t<tr><td>2023</td><td>11</td><td>274722</td><td> 6.336858</td><td> 72061</td><td>26.23052</td><td>202661</td><td>73.76948</td></tr>\n",
       "\t<tr><td>2023</td><td>12</td><td>167118</td><td> 3.854817</td><td> 36682</td><td>21.94976</td><td>130436</td><td>78.05024</td></tr>\n",
       "\t<tr><td>2024</td><td>01</td><td>113788</td><td> 2.624684</td><td> 17712</td><td>15.56579</td><td> 96076</td><td>84.43421</td></tr>\n",
       "\t<tr><td>2024</td><td>02</td><td>184721</td><td> 4.260856</td><td> 38168</td><td>20.66251</td><td>146553</td><td>79.33749</td></tr>\n",
       "\t<tr><td>2024</td><td>03</td><td>230237</td><td> 5.310748</td><td> 62801</td><td>27.27668</td><td>167436</td><td>72.72332</td></tr>\n",
       "\t<tr><td>2024</td><td>04</td><td>297741</td><td> 6.867824</td><td> 93927</td><td>31.54655</td><td>203814</td><td>68.45345</td></tr>\n",
       "</tbody>\n",
       "</table>\n"
      ],
      "text/latex": [
       "A grouped\\_df: 12 × 8\n",
       "\\begin{tabular}{llllllll}\n",
       " year & month & count & \\% & casual member \\# & casual\\_\\% & annual member \\# & member\\_\\%\\\\\n",
       " <chr> & <chr> & <int> & <dbl> & <int> & <dbl> & <int> & <dbl>\\\\\n",
       "\\hline\n",
       "\t 2023 & 05 & 463187 & 10.684074 & 177025 & 38.21891 & 286162 & 61.78109\\\\\n",
       "\t 2023 & 06 & 534729 & 12.334294 & 219788 & 41.10269 & 314941 & 58.89731\\\\\n",
       "\t 2023 & 07 & 573941 & 13.238775 & 245319 & 42.74290 & 328622 & 57.25710\\\\\n",
       "\t 2023 & 08 & 584862 & 13.490683 & 233860 & 39.98550 & 351002 & 60.01450\\\\\n",
       "\t 2023 & 09 & 506555 & 11.684420 & 196938 & 38.87791 & 309617 & 61.12209\\\\\n",
       "\t 2023 & 10 & 403702 &  9.311967 & 130269 & 32.26860 & 273433 & 67.73140\\\\\n",
       "\t 2023 & 11 & 274722 &  6.336858 &  72061 & 26.23052 & 202661 & 73.76948\\\\\n",
       "\t 2023 & 12 & 167118 &  3.854817 &  36682 & 21.94976 & 130436 & 78.05024\\\\\n",
       "\t 2024 & 01 & 113788 &  2.624684 &  17712 & 15.56579 &  96076 & 84.43421\\\\\n",
       "\t 2024 & 02 & 184721 &  4.260856 &  38168 & 20.66251 & 146553 & 79.33749\\\\\n",
       "\t 2024 & 03 & 230237 &  5.310748 &  62801 & 27.27668 & 167436 & 72.72332\\\\\n",
       "\t 2024 & 04 & 297741 &  6.867824 &  93927 & 31.54655 & 203814 & 68.45345\\\\\n",
       "\\end{tabular}\n"
      ],
      "text/markdown": [
       "\n",
       "A grouped_df: 12 × 8\n",
       "\n",
       "| year &lt;chr&gt; | month &lt;chr&gt; | count &lt;int&gt; | % &lt;dbl&gt; | casual member # &lt;int&gt; | casual_% &lt;dbl&gt; | annual member # &lt;int&gt; | member_% &lt;dbl&gt; |\n",
       "|---|---|---|---|---|---|---|---|\n",
       "| 2023 | 05 | 463187 | 10.684074 | 177025 | 38.21891 | 286162 | 61.78109 |\n",
       "| 2023 | 06 | 534729 | 12.334294 | 219788 | 41.10269 | 314941 | 58.89731 |\n",
       "| 2023 | 07 | 573941 | 13.238775 | 245319 | 42.74290 | 328622 | 57.25710 |\n",
       "| 2023 | 08 | 584862 | 13.490683 | 233860 | 39.98550 | 351002 | 60.01450 |\n",
       "| 2023 | 09 | 506555 | 11.684420 | 196938 | 38.87791 | 309617 | 61.12209 |\n",
       "| 2023 | 10 | 403702 |  9.311967 | 130269 | 32.26860 | 273433 | 67.73140 |\n",
       "| 2023 | 11 | 274722 |  6.336858 |  72061 | 26.23052 | 202661 | 73.76948 |\n",
       "| 2023 | 12 | 167118 |  3.854817 |  36682 | 21.94976 | 130436 | 78.05024 |\n",
       "| 2024 | 01 | 113788 |  2.624684 |  17712 | 15.56579 |  96076 | 84.43421 |\n",
       "| 2024 | 02 | 184721 |  4.260856 |  38168 | 20.66251 | 146553 | 79.33749 |\n",
       "| 2024 | 03 | 230237 |  5.310748 |  62801 | 27.27668 | 167436 | 72.72332 |\n",
       "| 2024 | 04 | 297741 |  6.867824 |  93927 | 31.54655 | 203814 | 68.45345 |\n",
       "\n"
      ],
      "text/plain": [
       "   year month count  %         casual member # casual_% annual member #\n",
       "1  2023 05    463187 10.684074 177025          38.21891 286162         \n",
       "2  2023 06    534729 12.334294 219788          41.10269 314941         \n",
       "3  2023 07    573941 13.238775 245319          42.74290 328622         \n",
       "4  2023 08    584862 13.490683 233860          39.98550 351002         \n",
       "5  2023 09    506555 11.684420 196938          38.87791 309617         \n",
       "6  2023 10    403702  9.311967 130269          32.26860 273433         \n",
       "7  2023 11    274722  6.336858  72061          26.23052 202661         \n",
       "8  2023 12    167118  3.854817  36682          21.94976 130436         \n",
       "9  2024 01    113788  2.624684  17712          15.56579  96076         \n",
       "10 2024 02    184721  4.260856  38168          20.66251 146553         \n",
       "11 2024 03    230237  5.310748  62801          27.27668 167436         \n",
       "12 2024 04    297741  6.867824  93927          31.54655 203814         \n",
       "   member_%\n",
       "1  61.78109\n",
       "2  58.89731\n",
       "3  57.25710\n",
       "4  60.01450\n",
       "5  61.12209\n",
       "6  67.73140\n",
       "7  73.76948\n",
       "8  78.05024\n",
       "9  84.43421\n",
       "10 79.33749\n",
       "11 72.72332\n",
       "12 68.45345"
      ]
     },
     "metadata": {},
     "output_type": "display_data"
    }
   ],
   "source": [
    "#Month\n",
    "allDataClean %>%\n",
    "    group_by(year, month) %>%\n",
    "    summarise(count = length(ride_id),\n",
    "             '%' = (length(ride_id) / nrow(allDataClean)) * 100,\n",
    "              'casual member #' = sum(member_casual == \"casual\"),\n",
    "             'casual_%' = (sum(member_casual == \"casual\") / length(ride_id)) * 100,\n",
    "             'annual member #' = sum(member_casual == \"member\"),\n",
    "             'member_%' = (sum(member_casual == \"member\") / length(ride_id)) * 100)"
   ]
  },
  {
   "cell_type": "markdown",
   "id": "3d0105fc",
   "metadata": {
    "papermill": {
     "duration": 0.021076,
     "end_time": "2024-06-24T18:49:50.042406",
     "exception": false,
     "start_time": "2024-06-24T18:49:50.021330",
     "status": "completed"
    },
    "tags": []
   },
   "source": [
    "### Weekly Distribution of Cyclistic Members and Their Percentages Relative to the Membership"
   ]
  },
  {
   "cell_type": "code",
   "execution_count": 16,
   "id": "6e060da6",
   "metadata": {
    "execution": {
     "iopub.execute_input": "2024-06-24T18:49:50.089807Z",
     "iopub.status.busy": "2024-06-24T18:49:50.088019Z",
     "iopub.status.idle": "2024-06-24T18:49:55.749707Z",
     "shell.execute_reply": "2024-06-24T18:49:55.747618Z"
    },
    "papermill": {
     "duration": 5.688306,
     "end_time": "2024-06-24T18:49:55.752874",
     "exception": false,
     "start_time": "2024-06-24T18:49:50.064568",
     "status": "completed"
    },
    "tags": []
   },
   "outputs": [
    {
     "name": "stderr",
     "output_type": "stream",
     "text": [
      "\u001b[1m\u001b[22m`summarise()` has grouped output by 'member_casual'. You can override using the\n",
      "`.groups` argument.\n"
     ]
    },
    {
     "data": {
      "text/html": [
       "<table class=\"dataframe\">\n",
       "<caption>A grouped_df: 14 × 3</caption>\n",
       "<thead>\n",
       "\t<tr><th scope=col>member_casual</th><th scope=col>day_of_week</th><th scope=col>rides</th></tr>\n",
       "\t<tr><th scope=col>&lt;chr&gt;</th><th scope=col>&lt;ord&gt;</th><th scope=col>&lt;int&gt;</th></tr>\n",
       "</thead>\n",
       "<tbody>\n",
       "\t<tr><td>casual</td><td>Sun</td><td>259910</td></tr>\n",
       "\t<tr><td>casual</td><td>Mon</td><td>182257</td></tr>\n",
       "\t<tr><td>casual</td><td>Tue</td><td>182268</td></tr>\n",
       "\t<tr><td>casual</td><td>Wed</td><td>175725</td></tr>\n",
       "\t<tr><td>casual</td><td>Thu</td><td>190724</td></tr>\n",
       "\t<tr><td>casual</td><td>Fri</td><td>219819</td></tr>\n",
       "\t<tr><td>casual</td><td>Sat</td><td>313847</td></tr>\n",
       "\t<tr><td>member</td><td>Sun</td><td>307287</td></tr>\n",
       "\t<tr><td>member</td><td>Mon</td><td>402980</td></tr>\n",
       "\t<tr><td>member</td><td>Tue</td><td>453910</td></tr>\n",
       "\t<tr><td>member</td><td>Wed</td><td>448966</td></tr>\n",
       "\t<tr><td>member</td><td>Thu</td><td>452510</td></tr>\n",
       "\t<tr><td>member</td><td>Fri</td><td>391965</td></tr>\n",
       "\t<tr><td>member</td><td>Sat</td><td>353135</td></tr>\n",
       "</tbody>\n",
       "</table>\n"
      ],
      "text/latex": [
       "A grouped\\_df: 14 × 3\n",
       "\\begin{tabular}{lll}\n",
       " member\\_casual & day\\_of\\_week & rides\\\\\n",
       " <chr> & <ord> & <int>\\\\\n",
       "\\hline\n",
       "\t casual & Sun & 259910\\\\\n",
       "\t casual & Mon & 182257\\\\\n",
       "\t casual & Tue & 182268\\\\\n",
       "\t casual & Wed & 175725\\\\\n",
       "\t casual & Thu & 190724\\\\\n",
       "\t casual & Fri & 219819\\\\\n",
       "\t casual & Sat & 313847\\\\\n",
       "\t member & Sun & 307287\\\\\n",
       "\t member & Mon & 402980\\\\\n",
       "\t member & Tue & 453910\\\\\n",
       "\t member & Wed & 448966\\\\\n",
       "\t member & Thu & 452510\\\\\n",
       "\t member & Fri & 391965\\\\\n",
       "\t member & Sat & 353135\\\\\n",
       "\\end{tabular}\n"
      ],
      "text/markdown": [
       "\n",
       "A grouped_df: 14 × 3\n",
       "\n",
       "| member_casual &lt;chr&gt; | day_of_week &lt;ord&gt; | rides &lt;int&gt; |\n",
       "|---|---|---|\n",
       "| casual | Sun | 259910 |\n",
       "| casual | Mon | 182257 |\n",
       "| casual | Tue | 182268 |\n",
       "| casual | Wed | 175725 |\n",
       "| casual | Thu | 190724 |\n",
       "| casual | Fri | 219819 |\n",
       "| casual | Sat | 313847 |\n",
       "| member | Sun | 307287 |\n",
       "| member | Mon | 402980 |\n",
       "| member | Tue | 453910 |\n",
       "| member | Wed | 448966 |\n",
       "| member | Thu | 452510 |\n",
       "| member | Fri | 391965 |\n",
       "| member | Sat | 353135 |\n",
       "\n"
      ],
      "text/plain": [
       "   member_casual day_of_week rides \n",
       "1  casual        Sun         259910\n",
       "2  casual        Mon         182257\n",
       "3  casual        Tue         182268\n",
       "4  casual        Wed         175725\n",
       "5  casual        Thu         190724\n",
       "6  casual        Fri         219819\n",
       "7  casual        Sat         313847\n",
       "8  member        Sun         307287\n",
       "9  member        Mon         402980\n",
       "10 member        Tue         453910\n",
       "11 member        Wed         448966\n",
       "12 member        Thu         452510\n",
       "13 member        Fri         391965\n",
       "14 member        Sat         353135"
      ]
     },
     "metadata": {},
     "output_type": "display_data"
    },
    {
     "data": {
      "text/html": [
       "<table class=\"dataframe\">\n",
       "<caption>A tibble: 7 × 7</caption>\n",
       "<thead>\n",
       "\t<tr><th scope=col>day_of_week</th><th scope=col>count</th><th scope=col>% of week</th><th scope=col>casual member #</th><th scope=col>casual_%</th><th scope=col>annual member #</th><th scope=col>member_%</th></tr>\n",
       "\t<tr><th scope=col>&lt;ord&gt;</th><th scope=col>&lt;int&gt;</th><th scope=col>&lt;dbl&gt;</th><th scope=col>&lt;int&gt;</th><th scope=col>&lt;dbl&gt;</th><th scope=col>&lt;int&gt;</th><th scope=col>&lt;dbl&gt;</th></tr>\n",
       "</thead>\n",
       "<tbody>\n",
       "\t<tr><td>Sunday   </td><td>567197</td><td>13.08321</td><td>259910</td><td>45.82359</td><td>307287</td><td>54.17641</td></tr>\n",
       "\t<tr><td>Monday   </td><td>585237</td><td>13.49933</td><td>182257</td><td>31.14243</td><td>402980</td><td>68.85757</td></tr>\n",
       "\t<tr><td>Tuesday  </td><td>636178</td><td>14.67436</td><td>182268</td><td>28.65047</td><td>453910</td><td>71.34953</td></tr>\n",
       "\t<tr><td>Wednesday</td><td>624691</td><td>14.40940</td><td>175725</td><td>28.12991</td><td>448966</td><td>71.87009</td></tr>\n",
       "\t<tr><td>Thursday </td><td>643234</td><td>14.83712</td><td>190724</td><td>29.65080</td><td>452510</td><td>70.34920</td></tr>\n",
       "\t<tr><td>Friday   </td><td>611784</td><td>14.11168</td><td>219819</td><td>35.93082</td><td>391965</td><td>64.06918</td></tr>\n",
       "\t<tr><td>Saturday </td><td>666982</td><td>15.38490</td><td>313847</td><td>47.05479</td><td>353135</td><td>52.94521</td></tr>\n",
       "</tbody>\n",
       "</table>\n"
      ],
      "text/latex": [
       "A tibble: 7 × 7\n",
       "\\begin{tabular}{lllllll}\n",
       " day\\_of\\_week & count & \\% of week & casual member \\# & casual\\_\\% & annual member \\# & member\\_\\%\\\\\n",
       " <ord> & <int> & <dbl> & <int> & <dbl> & <int> & <dbl>\\\\\n",
       "\\hline\n",
       "\t Sunday    & 567197 & 13.08321 & 259910 & 45.82359 & 307287 & 54.17641\\\\\n",
       "\t Monday    & 585237 & 13.49933 & 182257 & 31.14243 & 402980 & 68.85757\\\\\n",
       "\t Tuesday   & 636178 & 14.67436 & 182268 & 28.65047 & 453910 & 71.34953\\\\\n",
       "\t Wednesday & 624691 & 14.40940 & 175725 & 28.12991 & 448966 & 71.87009\\\\\n",
       "\t Thursday  & 643234 & 14.83712 & 190724 & 29.65080 & 452510 & 70.34920\\\\\n",
       "\t Friday    & 611784 & 14.11168 & 219819 & 35.93082 & 391965 & 64.06918\\\\\n",
       "\t Saturday  & 666982 & 15.38490 & 313847 & 47.05479 & 353135 & 52.94521\\\\\n",
       "\\end{tabular}\n"
      ],
      "text/markdown": [
       "\n",
       "A tibble: 7 × 7\n",
       "\n",
       "| day_of_week &lt;ord&gt; | count &lt;int&gt; | % of week &lt;dbl&gt; | casual member # &lt;int&gt; | casual_% &lt;dbl&gt; | annual member # &lt;int&gt; | member_% &lt;dbl&gt; |\n",
       "|---|---|---|---|---|---|---|\n",
       "| Sunday    | 567197 | 13.08321 | 259910 | 45.82359 | 307287 | 54.17641 |\n",
       "| Monday    | 585237 | 13.49933 | 182257 | 31.14243 | 402980 | 68.85757 |\n",
       "| Tuesday   | 636178 | 14.67436 | 182268 | 28.65047 | 453910 | 71.34953 |\n",
       "| Wednesday | 624691 | 14.40940 | 175725 | 28.12991 | 448966 | 71.87009 |\n",
       "| Thursday  | 643234 | 14.83712 | 190724 | 29.65080 | 452510 | 70.34920 |\n",
       "| Friday    | 611784 | 14.11168 | 219819 | 35.93082 | 391965 | 64.06918 |\n",
       "| Saturday  | 666982 | 15.38490 | 313847 | 47.05479 | 353135 | 52.94521 |\n",
       "\n"
      ],
      "text/plain": [
       "  day_of_week count  % of week casual member # casual_% annual member #\n",
       "1 Sunday      567197 13.08321  259910          45.82359 307287         \n",
       "2 Monday      585237 13.49933  182257          31.14243 402980         \n",
       "3 Tuesday     636178 14.67436  182268          28.65047 453910         \n",
       "4 Wednesday   624691 14.40940  175725          28.12991 448966         \n",
       "5 Thursday    643234 14.83712  190724          29.65080 452510         \n",
       "6 Friday      611784 14.11168  219819          35.93082 391965         \n",
       "7 Saturday    666982 15.38490  313847          47.05479 353135         \n",
       "  member_%\n",
       "1 54.17641\n",
       "2 68.85757\n",
       "3 71.34953\n",
       "4 71.87009\n",
       "5 70.34920\n",
       "6 64.06918\n",
       "7 52.94521"
      ]
     },
     "metadata": {},
     "output_type": "display_data"
    }
   ],
   "source": [
    "#Checking to see which week day is the most popular in each membership\n",
    "allDataClean$day_of_week <- ordered(allDataClean$day_of_week, levels=c(\"Sunday\", \"Monday\", \"Tuesday\", \"Wednesday\", \"Thursday\", \"Friday\", \"Saturday\")) #make sure that the week days are in the right order (when grouping)\n",
    "allDataClean %>%\n",
    "    mutate(day_of_week = wday(started_at, label = TRUE)) %>%\n",
    "    group_by(member_casual, day_of_week) %>%\n",
    "    summarise(rides = n())\n",
    "\n",
    "\n",
    "allDataClean %>%\n",
    "    group_by(day_of_week) %>%\n",
    "    summarise(count = length(ride_id),\n",
    "             '% of week' = (length(ride_id) / nrow(allDataClean)) * 100,\n",
    "              'casual member #' = sum(member_casual == \"casual\"),\n",
    "             'casual_%' = (sum(member_casual == \"casual\") / length(ride_id)) * 100,\n",
    "             'annual member #' = sum(member_casual == \"member\"),\n",
    "             'member_%' = (sum(member_casual == \"member\") / length(ride_id)) * 100)"
   ]
  },
  {
   "cell_type": "markdown",
   "id": "cd93e15a",
   "metadata": {
    "papermill": {
     "duration": 0.021821,
     "end_time": "2024-06-24T18:49:55.796475",
     "exception": false,
     "start_time": "2024-06-24T18:49:55.774654",
     "status": "completed"
    },
    "tags": []
   },
   "source": [
    "### Hourly Distribution Throughout the Day of Cyclistic Members and Their Percentages Relative to the Membership"
   ]
  },
  {
   "cell_type": "code",
   "execution_count": 17,
   "id": "2a1a91fb",
   "metadata": {
    "execution": {
     "iopub.execute_input": "2024-06-24T18:49:55.844750Z",
     "iopub.status.busy": "2024-06-24T18:49:55.842811Z",
     "iopub.status.idle": "2024-06-24T18:49:56.632038Z",
     "shell.execute_reply": "2024-06-24T18:49:56.629996Z"
    },
    "papermill": {
     "duration": 0.816387,
     "end_time": "2024-06-24T18:49:56.635062",
     "exception": false,
     "start_time": "2024-06-24T18:49:55.818675",
     "status": "completed"
    },
    "tags": []
   },
   "outputs": [
    {
     "data": {
      "text/html": [
       "<table class=\"dataframe\">\n",
       "<caption>A tibble: 24 × 7</caption>\n",
       "<thead>\n",
       "\t<tr><th scope=col>hour</th><th scope=col>count</th><th scope=col>%</th><th scope=col>casual member #</th><th scope=col>casual_%</th><th scope=col>annual member #</th><th scope=col>member_%</th></tr>\n",
       "\t<tr><th scope=col>&lt;int&gt;</th><th scope=col>&lt;int&gt;</th><th scope=col>&lt;dbl&gt;</th><th scope=col>&lt;int&gt;</th><th scope=col>&lt;dbl&gt;</th><th scope=col>&lt;int&gt;</th><th scope=col>&lt;dbl&gt;</th></tr>\n",
       "</thead>\n",
       "<tbody>\n",
       "\t<tr><td> 0</td><td> 47331</td><td> 1.0917576</td><td> 24206</td><td>51.14196</td><td> 23125</td><td>48.85804</td></tr>\n",
       "\t<tr><td> 1</td><td> 28528</td><td> 0.6580394</td><td> 15460</td><td>54.19237</td><td> 13068</td><td>45.80763</td></tr>\n",
       "\t<tr><td> 2</td><td> 15855</td><td> 0.3657184</td><td>  8834</td><td>55.71744</td><td>  7021</td><td>44.28256</td></tr>\n",
       "\t<tr><td> 3</td><td>  9218</td><td> 0.2126264</td><td>  4636</td><td>50.29291</td><td>  4582</td><td>49.70709</td></tr>\n",
       "\t<tr><td> 4</td><td>  9484</td><td> 0.2187621</td><td>  3447</td><td>36.34542</td><td>  6037</td><td>63.65458</td></tr>\n",
       "\t<tr><td> 5</td><td> 34891</td><td> 0.8048111</td><td>  8054</td><td>23.08332</td><td> 26837</td><td>76.91668</td></tr>\n",
       "\t<tr><td> 6</td><td>106120</td><td> 2.4478105</td><td> 21164</td><td>19.94346</td><td> 84956</td><td>80.05654</td></tr>\n",
       "\t<tr><td> 7</td><td>197752</td><td> 4.5614343</td><td> 38146</td><td>19.28982</td><td>159606</td><td>80.71018</td></tr>\n",
       "\t<tr><td> 8</td><td>249573</td><td> 5.7567603</td><td> 52549</td><td>21.05556</td><td>197024</td><td>78.94444</td></tr>\n",
       "\t<tr><td> 9</td><td>181476</td><td> 4.1860050</td><td> 53003</td><td>29.20662</td><td>128473</td><td>70.79338</td></tr>\n",
       "\t<tr><td>10</td><td>182187</td><td> 4.2024052</td><td> 67735</td><td>37.17883</td><td>114452</td><td>62.82117</td></tr>\n",
       "\t<tr><td>11</td><td>221242</td><td> 5.1032650</td><td> 85917</td><td>38.83395</td><td>135325</td><td>61.16605</td></tr>\n",
       "\t<tr><td>12</td><td>256602</td><td> 5.9188943</td><td>101948</td><td>39.73001</td><td>154654</td><td>60.26999</td></tr>\n",
       "\t<tr><td>13</td><td>259007</td><td> 5.9743690</td><td>105827</td><td>40.85874</td><td>153180</td><td>59.14126</td></tr>\n",
       "\t<tr><td>14</td><td>264234</td><td> 6.0949373</td><td>109373</td><td>41.39248</td><td>154861</td><td>58.60752</td></tr>\n",
       "\t<tr><td>15</td><td>311508</td><td> 7.1853801</td><td>120596</td><td>38.71361</td><td>190912</td><td>61.28639</td></tr>\n",
       "\t<tr><td>16</td><td>400304</td><td> 9.2335876</td><td>138872</td><td>34.69163</td><td>261432</td><td>65.30837</td></tr>\n",
       "\t<tr><td>17</td><td>454569</td><td>10.4852879</td><td>149287</td><td>32.84144</td><td>305282</td><td>67.15856</td></tr>\n",
       "\t<tr><td>18</td><td>358202</td><td> 8.2624444</td><td>124707</td><td>34.81471</td><td>233495</td><td>65.18529</td></tr>\n",
       "\t<tr><td>19</td><td>252502</td><td> 5.8243219</td><td> 90976</td><td>36.02981</td><td>161526</td><td>63.97019</td></tr>\n",
       "\t<tr><td>20</td><td>177041</td><td> 4.0837053</td><td> 65121</td><td>36.78301</td><td>111920</td><td>63.21699</td></tr>\n",
       "\t<tr><td>21</td><td>137952</td><td> 3.1820613</td><td> 53315</td><td>38.64750</td><td> 84637</td><td>61.35250</td></tr>\n",
       "\t<tr><td>22</td><td>107978</td><td> 2.4906679</td><td> 47243</td><td>43.75243</td><td> 60735</td><td>56.24757</td></tr>\n",
       "\t<tr><td>23</td><td> 71747</td><td> 1.6549478</td><td> 34134</td><td>47.57551</td><td> 37613</td><td>52.42449</td></tr>\n",
       "</tbody>\n",
       "</table>\n"
      ],
      "text/latex": [
       "A tibble: 24 × 7\n",
       "\\begin{tabular}{lllllll}\n",
       " hour & count & \\% & casual member \\# & casual\\_\\% & annual member \\# & member\\_\\%\\\\\n",
       " <int> & <int> & <dbl> & <int> & <dbl> & <int> & <dbl>\\\\\n",
       "\\hline\n",
       "\t  0 &  47331 &  1.0917576 &  24206 & 51.14196 &  23125 & 48.85804\\\\\n",
       "\t  1 &  28528 &  0.6580394 &  15460 & 54.19237 &  13068 & 45.80763\\\\\n",
       "\t  2 &  15855 &  0.3657184 &   8834 & 55.71744 &   7021 & 44.28256\\\\\n",
       "\t  3 &   9218 &  0.2126264 &   4636 & 50.29291 &   4582 & 49.70709\\\\\n",
       "\t  4 &   9484 &  0.2187621 &   3447 & 36.34542 &   6037 & 63.65458\\\\\n",
       "\t  5 &  34891 &  0.8048111 &   8054 & 23.08332 &  26837 & 76.91668\\\\\n",
       "\t  6 & 106120 &  2.4478105 &  21164 & 19.94346 &  84956 & 80.05654\\\\\n",
       "\t  7 & 197752 &  4.5614343 &  38146 & 19.28982 & 159606 & 80.71018\\\\\n",
       "\t  8 & 249573 &  5.7567603 &  52549 & 21.05556 & 197024 & 78.94444\\\\\n",
       "\t  9 & 181476 &  4.1860050 &  53003 & 29.20662 & 128473 & 70.79338\\\\\n",
       "\t 10 & 182187 &  4.2024052 &  67735 & 37.17883 & 114452 & 62.82117\\\\\n",
       "\t 11 & 221242 &  5.1032650 &  85917 & 38.83395 & 135325 & 61.16605\\\\\n",
       "\t 12 & 256602 &  5.9188943 & 101948 & 39.73001 & 154654 & 60.26999\\\\\n",
       "\t 13 & 259007 &  5.9743690 & 105827 & 40.85874 & 153180 & 59.14126\\\\\n",
       "\t 14 & 264234 &  6.0949373 & 109373 & 41.39248 & 154861 & 58.60752\\\\\n",
       "\t 15 & 311508 &  7.1853801 & 120596 & 38.71361 & 190912 & 61.28639\\\\\n",
       "\t 16 & 400304 &  9.2335876 & 138872 & 34.69163 & 261432 & 65.30837\\\\\n",
       "\t 17 & 454569 & 10.4852879 & 149287 & 32.84144 & 305282 & 67.15856\\\\\n",
       "\t 18 & 358202 &  8.2624444 & 124707 & 34.81471 & 233495 & 65.18529\\\\\n",
       "\t 19 & 252502 &  5.8243219 &  90976 & 36.02981 & 161526 & 63.97019\\\\\n",
       "\t 20 & 177041 &  4.0837053 &  65121 & 36.78301 & 111920 & 63.21699\\\\\n",
       "\t 21 & 137952 &  3.1820613 &  53315 & 38.64750 &  84637 & 61.35250\\\\\n",
       "\t 22 & 107978 &  2.4906679 &  47243 & 43.75243 &  60735 & 56.24757\\\\\n",
       "\t 23 &  71747 &  1.6549478 &  34134 & 47.57551 &  37613 & 52.42449\\\\\n",
       "\\end{tabular}\n"
      ],
      "text/markdown": [
       "\n",
       "A tibble: 24 × 7\n",
       "\n",
       "| hour &lt;int&gt; | count &lt;int&gt; | % &lt;dbl&gt; | casual member # &lt;int&gt; | casual_% &lt;dbl&gt; | annual member # &lt;int&gt; | member_% &lt;dbl&gt; |\n",
       "|---|---|---|---|---|---|---|\n",
       "|  0 |  47331 |  1.0917576 |  24206 | 51.14196 |  23125 | 48.85804 |\n",
       "|  1 |  28528 |  0.6580394 |  15460 | 54.19237 |  13068 | 45.80763 |\n",
       "|  2 |  15855 |  0.3657184 |   8834 | 55.71744 |   7021 | 44.28256 |\n",
       "|  3 |   9218 |  0.2126264 |   4636 | 50.29291 |   4582 | 49.70709 |\n",
       "|  4 |   9484 |  0.2187621 |   3447 | 36.34542 |   6037 | 63.65458 |\n",
       "|  5 |  34891 |  0.8048111 |   8054 | 23.08332 |  26837 | 76.91668 |\n",
       "|  6 | 106120 |  2.4478105 |  21164 | 19.94346 |  84956 | 80.05654 |\n",
       "|  7 | 197752 |  4.5614343 |  38146 | 19.28982 | 159606 | 80.71018 |\n",
       "|  8 | 249573 |  5.7567603 |  52549 | 21.05556 | 197024 | 78.94444 |\n",
       "|  9 | 181476 |  4.1860050 |  53003 | 29.20662 | 128473 | 70.79338 |\n",
       "| 10 | 182187 |  4.2024052 |  67735 | 37.17883 | 114452 | 62.82117 |\n",
       "| 11 | 221242 |  5.1032650 |  85917 | 38.83395 | 135325 | 61.16605 |\n",
       "| 12 | 256602 |  5.9188943 | 101948 | 39.73001 | 154654 | 60.26999 |\n",
       "| 13 | 259007 |  5.9743690 | 105827 | 40.85874 | 153180 | 59.14126 |\n",
       "| 14 | 264234 |  6.0949373 | 109373 | 41.39248 | 154861 | 58.60752 |\n",
       "| 15 | 311508 |  7.1853801 | 120596 | 38.71361 | 190912 | 61.28639 |\n",
       "| 16 | 400304 |  9.2335876 | 138872 | 34.69163 | 261432 | 65.30837 |\n",
       "| 17 | 454569 | 10.4852879 | 149287 | 32.84144 | 305282 | 67.15856 |\n",
       "| 18 | 358202 |  8.2624444 | 124707 | 34.81471 | 233495 | 65.18529 |\n",
       "| 19 | 252502 |  5.8243219 |  90976 | 36.02981 | 161526 | 63.97019 |\n",
       "| 20 | 177041 |  4.0837053 |  65121 | 36.78301 | 111920 | 63.21699 |\n",
       "| 21 | 137952 |  3.1820613 |  53315 | 38.64750 |  84637 | 61.35250 |\n",
       "| 22 | 107978 |  2.4906679 |  47243 | 43.75243 |  60735 | 56.24757 |\n",
       "| 23 |  71747 |  1.6549478 |  34134 | 47.57551 |  37613 | 52.42449 |\n",
       "\n"
      ],
      "text/plain": [
       "   hour count  %          casual member # casual_% annual member # member_%\n",
       "1   0    47331  1.0917576  24206          51.14196  23125          48.85804\n",
       "2   1    28528  0.6580394  15460          54.19237  13068          45.80763\n",
       "3   2    15855  0.3657184   8834          55.71744   7021          44.28256\n",
       "4   3     9218  0.2126264   4636          50.29291   4582          49.70709\n",
       "5   4     9484  0.2187621   3447          36.34542   6037          63.65458\n",
       "6   5    34891  0.8048111   8054          23.08332  26837          76.91668\n",
       "7   6   106120  2.4478105  21164          19.94346  84956          80.05654\n",
       "8   7   197752  4.5614343  38146          19.28982 159606          80.71018\n",
       "9   8   249573  5.7567603  52549          21.05556 197024          78.94444\n",
       "10  9   181476  4.1860050  53003          29.20662 128473          70.79338\n",
       "11 10   182187  4.2024052  67735          37.17883 114452          62.82117\n",
       "12 11   221242  5.1032650  85917          38.83395 135325          61.16605\n",
       "13 12   256602  5.9188943 101948          39.73001 154654          60.26999\n",
       "14 13   259007  5.9743690 105827          40.85874 153180          59.14126\n",
       "15 14   264234  6.0949373 109373          41.39248 154861          58.60752\n",
       "16 15   311508  7.1853801 120596          38.71361 190912          61.28639\n",
       "17 16   400304  9.2335876 138872          34.69163 261432          65.30837\n",
       "18 17   454569 10.4852879 149287          32.84144 305282          67.15856\n",
       "19 18   358202  8.2624444 124707          34.81471 233495          65.18529\n",
       "20 19   252502  5.8243219  90976          36.02981 161526          63.97019\n",
       "21 20   177041  4.0837053  65121          36.78301 111920          63.21699\n",
       "22 21   137952  3.1820613  53315          38.64750  84637          61.35250\n",
       "23 22   107978  2.4906679  47243          43.75243  60735          56.24757\n",
       "24 23    71747  1.6549478  34134          47.57551  37613          52.42449"
      ]
     },
     "metadata": {},
     "output_type": "display_data"
    }
   ],
   "source": [
    "#Hour\n",
    "allDataClean %>% \n",
    "    group_by(hour) %>%\n",
    "    summarise(count = length(ride_id),\n",
    "             '%' = (length(ride_id) / nrow(allDataClean)) * 100,\n",
    "              'casual member #' = sum(member_casual == \"casual\"),\n",
    "             'casual_%' = (sum(member_casual == \"casual\") / length(ride_id)) * 100,\n",
    "             'annual member #' = sum(member_casual == \"member\"),\n",
    "             'member_%' = (sum(member_casual == \"member\") / length(ride_id)) * 100)"
   ]
  },
  {
   "cell_type": "markdown",
   "id": "44dc6cb0",
   "metadata": {
    "papermill": {
     "duration": 0.022113,
     "end_time": "2024-06-24T18:49:56.679483",
     "exception": false,
     "start_time": "2024-06-24T18:49:56.657370",
     "status": "completed"
    },
    "tags": []
   },
   "source": [
    "## 5. Share \n",
    "Now that the analysis is over, visualizations will be created with the insight that was gained. "
   ]
  },
  {
   "cell_type": "markdown",
   "id": "4345f6d5",
   "metadata": {
    "papermill": {
     "duration": 0.022478,
     "end_time": "2024-06-24T18:49:56.724491",
     "exception": false,
     "start_time": "2024-06-24T18:49:56.702013",
     "status": "completed"
    },
    "tags": []
   },
   "source": [
    "### Percentage of Casual Members vs. Annual Members\n"
   ]
  },
  {
   "cell_type": "code",
   "execution_count": 18,
   "id": "6a26be58",
   "metadata": {
    "execution": {
     "iopub.execute_input": "2024-06-24T18:49:56.773820Z",
     "iopub.status.busy": "2024-06-24T18:49:56.771916Z",
     "iopub.status.idle": "2024-06-24T18:55:37.330393Z",
     "shell.execute_reply": "2024-06-24T18:55:37.327427Z"
    },
    "papermill": {
     "duration": 340.622868,
     "end_time": "2024-06-24T18:55:37.370411",
     "exception": false,
     "start_time": "2024-06-24T18:49:56.747543",
     "status": "completed"
    },
    "tags": []
   },
   "outputs": [
    {
     "data": {
      "image/png": "[encoded data removed]"
     },
     "metadata": {
      "image/png": {
       "height": 420,
       "width": 420
      }
     },
     "output_type": "display_data"
    }
   ],
   "source": [
    "#add to visualization\n",
    "#Casual Vs. Annual Member\n",
    "CasualxMember <- ggplot(allDataClean, aes(member_casual, fill=member_casual)) + \n",
    "    geom_bar() + \n",
    "    geom_text(aes(label=ifelse(member_casual==\"casual\",(length(which(allDataClean$member_casual == \"casual\")) / nrow(allDataClean)) * 100, (length(which(allDataClean$member_casual == \"member\")) / nrow(allDataClean)) * 100 )) ,vjust = 1, y=0) + \n",
    "    labs(x = \"Membership Type\", y = \"Number of Members\", title= \"Casual vs. Members distribution\")\n",
    "              \n",
    "CasualxMember + scale_y_continuous(labels = label_comma())\n",
    "\n",
    "#add pie chart?"
   ]
  },
  {
   "cell_type": "markdown",
   "id": "f82cac54",
   "metadata": {
    "papermill": {
     "duration": 0.023015,
     "end_time": "2024-06-24T18:55:37.416353",
     "exception": false,
     "start_time": "2024-06-24T18:55:37.393338",
     "status": "completed"
    },
    "tags": []
   },
   "source": [
    "As we can see in this bar graph, there are more annual members enrolled than casual members throughout the last year. Out of all the riders about 65% are annual members and 35% casual ones, making annual memberships 30% more popular than casual ones. "
   ]
  },
  {
   "cell_type": "markdown",
   "id": "d8fd421d",
   "metadata": {
    "papermill": {
     "duration": 0.02359,
     "end_time": "2024-06-24T18:55:37.462708",
     "exception": false,
     "start_time": "2024-06-24T18:55:37.439118",
     "status": "completed"
    },
    "tags": []
   },
   "source": [
    "### Monthly Distribution of Cyclistic Members Relative to Membership"
   ]
  },
  {
   "cell_type": "code",
   "execution_count": 19,
   "id": "ed33cc5f",
   "metadata": {
    "execution": {
     "iopub.execute_input": "2024-06-24T18:55:37.513100Z",
     "iopub.status.busy": "2024-06-24T18:55:37.511275Z",
     "iopub.status.idle": "2024-06-24T18:55:48.329691Z",
     "shell.execute_reply": "2024-06-24T18:55:48.326741Z"
    },
    "papermill": {
     "duration": 10.847972,
     "end_time": "2024-06-24T18:55:48.333509",
     "exception": false,
     "start_time": "2024-06-24T18:55:37.485537",
     "status": "completed"
    },
    "tags": []
   },
   "outputs": [
    {
     "data": {
      "image/png": "[encoded data removed]"
     },
     "metadata": {
      "image/png": {
       "height": 420,
       "width": 420
      }
     },
     "output_type": "display_data"
    }
   ],
   "source": [
    "#Monthly\n",
    "Monthly <- ggplot(allDataClean, aes(month, fill=member_casual)) +\n",
    "    geom_bar() +\n",
    "    #geom_text(aes(group=month, label=ifelse(member_casual==\"casual\",(length(which(allDataClean$member_casual == \"casual\")) / nrow(allDataClean)) * 100, (length(which(allDataClean$member_casual == \"member\")) / nrow(allDataClean)) * 100 )) ,vjust = -0.25, position=position_dodge(width=1), inherit.aes=TRUE, hjust=-0.5) +\n",
    "    labs(x=\"Month\", y=\"Number of Members\", title=\"Monthly Riders\") +\n",
    "    coord_flip()\n",
    "\n",
    "Monthly + scale_y_continuous(labels = label_comma())"
   ]
  },
  {
   "cell_type": "markdown",
   "id": "bdb15ed5",
   "metadata": {
    "papermill": {
     "duration": 0.023184,
     "end_time": "2024-06-24T18:55:48.380144",
     "exception": false,
     "start_time": "2024-06-24T18:55:48.356960",
     "status": "completed"
    },
    "tags": []
   },
   "source": [
    "We can see throughout the last 12 months that the summer time is the most busy for Cyclistic. The months June, July, and August are the most busy months for Cyclistic, August being the most busy and having 13% of riders from the dataset. We can observe that in all months we have more annual members than casual riders and that at the end and beginning of the year (winter season) the numbers in both memberships go down drastically, especially for casual riders. In January specifically we can observe a major upset between casual and annual riders as about 85% of riders is composed of annual members. "
   ]
  },
  {
   "cell_type": "markdown",
   "id": "2e5e3957",
   "metadata": {
    "papermill": {
     "duration": 0.023212,
     "end_time": "2024-06-24T18:55:48.427424",
     "exception": false,
     "start_time": "2024-06-24T18:55:48.404212",
     "status": "completed"
    },
    "tags": []
   },
   "source": [
    "### Average Weekly Distribution of Cyclistic Members Relative to Membership "
   ]
  },
  {
   "cell_type": "code",
   "execution_count": 20,
   "id": "d025bf4a",
   "metadata": {
    "execution": {
     "iopub.execute_input": "2024-06-24T18:55:48.478879Z",
     "iopub.status.busy": "2024-06-24T18:55:48.476882Z",
     "iopub.status.idle": "2024-06-24T18:55:59.221775Z",
     "shell.execute_reply": "2024-06-24T18:55:59.219700Z"
    },
    "papermill": {
     "duration": 10.774211,
     "end_time": "2024-06-24T18:55:59.224819",
     "exception": false,
     "start_time": "2024-06-24T18:55:48.450608",
     "status": "completed"
    },
    "tags": []
   },
   "outputs": [
    {
     "data": {
      "image/png": "[encoded data removed]"
     },
     "metadata": {
      "image/png": {
       "height": 420,
       "width": 420
      }
     },
     "output_type": "display_data"
    }
   ],
   "source": [
    "#Weekly\n",
    "Weekly <- ggplot(allDataClean, aes(day_of_week, fill=member_casual)) +\n",
    "    geom_bar() +\n",
    "    labs(x=\"Week Day\", y=\"Number of Members\", title=\"Weekly Riders\") +\n",
    "    coord_flip()\n",
    "\n",
    "\n",
    "Weekly + scale_y_continuous(labels = label_comma())\n",
    "\n"
   ]
  },
  {
   "cell_type": "markdown",
   "id": "4423b3ae",
   "metadata": {
    "papermill": {
     "duration": 0.02464,
     "end_time": "2024-06-24T18:55:59.274093",
     "exception": false,
     "start_time": "2024-06-24T18:55:59.249453",
     "status": "completed"
    },
    "tags": []
   },
   "source": [
    "This graph shows us that the days with the most amount of rides are Tuesday, Thursday and Saturday, with Saturday being the day with the most amount of rides. We can observe that throught the week the number of rides is very close to each other regardless of what day it is. For all weekdays the majority of rides are from annual members while on the weekend, the annual riders decline while the casual riders increases to a point where we almost have an equal amount (50/50) of each member type. This tells us that annual riders tend to ride more during the weekdays than on the weekends and casual riders ride more on the weekend than the weekdays. "
   ]
  },
  {
   "cell_type": "code",
   "execution_count": 21,
   "id": "aac5f0fe",
   "metadata": {
    "execution": {
     "iopub.execute_input": "2024-06-24T18:55:59.326277Z",
     "iopub.status.busy": "2024-06-24T18:55:59.324519Z",
     "iopub.status.idle": "2024-06-24T18:56:20.568134Z",
     "shell.execute_reply": "2024-06-24T18:56:20.566062Z"
    },
    "papermill": {
     "duration": 21.273286,
     "end_time": "2024-06-24T18:56:20.571422",
     "exception": false,
     "start_time": "2024-06-24T18:55:59.298136",
     "status": "completed"
    },
    "tags": []
   },
   "outputs": [
    {
     "data": {
      "image/png": "[encoded data removed]"
     },
     "metadata": {
      "image/png": {
       "height": 420,
       "width": 420
      }
     },
     "output_type": "display_data"
    },
    {
     "data": {
      "image/png": "[encoded data removed]"
     },
     "metadata": {
      "image/png": {
       "height": 420,
       "width": 420
      }
     },
     "output_type": "display_data"
    }
   ],
   "source": [
    "#Hourly\n",
    "\n",
    "Hourly <- ggplot(allDataClean, aes(hour, fill=member_casual)) +\n",
    "    geom_bar()+\n",
    "    labs(x=\"Hour of the Day\", y=\"Number of Rides\", title=\"Riders by Hour of the Day\") \n",
    "\n",
    "HourlyByWeekType <-allDataClean %>%\n",
    "    mutate(weekType = ifelse(day_of_week == 'Saturday' | day_of_week == 'Sunday', 'Weekend', 'Weekday')) %>%\n",
    " ggplot(aes(hour, fill=member_casual)) +\n",
    "    geom_bar() + \n",
    "    labs(x=\"Hour by WeekType\", y=\"Rides\", title=\"Rides by Hour Distinguished by Week Type\") + \n",
    "    facet_wrap(~ weekType)\n",
    "\n",
    "Hourly + scale_y_continuous(labels = label_comma()) \n",
    "\n",
    "HourlyByWeekType + scale_y_continuous(labels = label_comma()) "
   ]
  },
  {
   "cell_type": "markdown",
   "id": "5516eec9",
   "metadata": {
    "papermill": {
     "duration": 0.027196,
     "end_time": "2024-06-24T18:56:20.625193",
     "exception": false,
     "start_time": "2024-06-24T18:56:20.597997",
     "status": "completed"
    },
    "tags": []
   },
   "source": [
    "We can observe that the most rides occur during the evening times (4pm - 6pm) with 6pm being the time with the most rides. We have our first offset late at night from 12am - 3am. During those times casual riders have a higher ratio than annual members. \n",
    "\n",
    "From the graph that distinguishes by week type, we can observe that weekday have a lot more rides throguhout the day and that casual riders are more likely to ride a bike during the weekends than they are during the weekdays. While annual members dominate the weekdays, it is almost a 50/50 percantage when it comes to the number of casual riders versus annual riders. "
   ]
  },
  {
   "cell_type": "markdown",
   "id": "2a6bc1c3",
   "metadata": {
    "papermill": {
     "duration": 0.025492,
     "end_time": "2024-06-24T18:56:20.676500",
     "exception": false,
     "start_time": "2024-06-24T18:56:20.651008",
     "status": "completed"
    },
    "tags": []
   },
   "source": [
    "### 6. Act\n",
    "In this last stage of the project, we will act on our findings. I will present what insights we have gained through our analysis and give recommended suggestions based on the findings and the objective of this project. "
   ]
  },
  {
   "cell_type": "markdown",
   "id": "bfdd00ac",
   "metadata": {
    "papermill": {
     "duration": 0.025701,
     "end_time": "2024-06-24T18:56:20.727546",
     "exception": false,
     "start_time": "2024-06-24T18:56:20.701845",
     "status": "completed"
    },
    "tags": []
   },
   "source": [
    "### Key Takeaways\n",
    "* The average duration for causal riders is 23 minutes while the average trip duration for annual riders is 12 minutes.\n",
    "* Within the last 12 months, there were a total of 4,335,303 rides. Out of those rides, 1,524,550 of them were causal riders and 2,810,753 were annual riders.\n",
    "* Cyclistic had 30% more annual members than casual members\n",
    "* The most amount of rides occur during the summer time. August being the busiest month with 584,862 rides and a 60/40 percent proportion of annual versus casual member ratio.\n",
    "* The busiest day of rides throughout the week are Tuesday, Thursday, and Saturday. However, for casual riders the weekend has the most amount of rides and a bigger potential for converting member to annual members.\n",
    "* Throughout the weekday, there is an initial increase in rides in the morning (6am - 9am) which then falls back down but increases immensely back up in the evening time (4pm - 6pm). \n",
    "* On the weekends, there is a steady increase that goes from the morning to the afternoon (6am - 3pm) which then steadily decreases as the day goes on.\n",
    "* We can conclude that annual riders tend to use bikes as a way to commute to work during the week and that on weekends the number of causal riders spikes up a lot as rides are most likely used for recreation.\n",
    "\n",
    "\n",
    "### Recommendations\n",
    "1. In order to maximize annual riders, a marketing campaign needs to be specifically focused towards people who commute to work via bike. This can be done by making a bike ride to work/school more appealing. The campaign should focus on this specific target group and mention the amazing benefits that come with communiting to work via bike (avoid traffic, more sustainable to the planet, cheap, etc.). The ads should include showing a person in work clothes of different occupations using Cyclistic to get to work and showhing how simple it is to use. This should be advertised through billboards, handing out flyers to coorporate companies, and social media posts. \n",
    "2. Another way to maximize annual members is to convert the casual riders. The main focus would be to make it more appealing to people who only use Cyclistic during the weekends. Creating coupons or discounts so that getting an annual membership would be worth more than getting a casual rider card every weekend would help convert members. Advertising these coupons on the weekends where it gets very busy (parks, museums, trails, city, etc.) would get the attention of a lot of people. Advertising how easily accessible bikes can be not only to travel, but as well as exercise can increase the use of Cyclistic services as it provides a lot more variety than just commuting to work. \n",
    "3. The marketing campaign should start advertising in the late winter and early summer as the main and most amount of service is generated in the summer. Thus, a summer-plan should be considered as an option as it shows new members how accessible and easy Cyclistic is to use and would provide them more of an inclination to convert to an annual membership since they are already familiar with the service. \n",
    "\n",
    "### Things to Consider \n",
    "In this analysis, there was one concern with the data that was provided was that there were a good number of rides that had a trip duration of zero or the trip duration just was not recorded at all. This needs to be further examed to see if it was an error in the system or intential for a specific purpose. This information would have helped the analysis be more accurate. \n",
    "For the future, more data about the rider like age and gender would have been useful to potentially be able to target marketing strategies more direct. That would have been very interesting to see! \n",
    "\n",
    "### Conclusion\n",
    "This is my take on the Google Data Analytics Capstone Case Study project. This project has helped me put the data analysis steps and tools I learned through the course into action. With this project, I especially was able to practice the R language and utilize Kaggle to to complete my case study. \n",
    "Thank you for your time! \n",
    "\n",
    "Leon Le "
   ]
  }
 ],
 "metadata": {
  "kaggle": {
   "accelerator": "none",
   "dataSources": [
    {
     "datasetId": 4969102,
     "sourceId": 8361090,
     "sourceType": "datasetVersion"
    }
   ],
   "dockerImageVersionId": 30698,
   "isGpuEnabled": false,
   "isInternetEnabled": false,
   "language": "r",
   "sourceType": "notebook"
  },
  "kernelspec": {
   "display_name": "R",
   "language": "R",
   "name": "ir"
  },
  "language_info": {
   "codemirror_mode": "r",
   "file_extension": ".r",
   "mimetype": "text/x-r-source",
   "name": "R",
   "pygments_lexer": "r",
   "version": "4.0.5"
  },
  "papermill": {
   "default_parameters": {},
   "duration": 658.408375,
   "end_time": "2024-06-24T18:56:21.378065",
   "environment_variables": {},
   "exception": null,
   "input_path": "__notebook__.ipynb",
   "output_path": "__notebook__.ipynb",
   "parameters": {},
   "start_time": "2024-06-24T18:45:22.969690",
   "version": "2.5.0"
  }
 },
 "nbformat": 4,
 "nbformat_minor": 5
}
